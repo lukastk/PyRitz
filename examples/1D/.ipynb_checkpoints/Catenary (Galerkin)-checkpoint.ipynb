{
 "cells": [
  {
   "cell_type": "code",
   "execution_count": 1,
   "metadata": {},
   "outputs": [
    {
     "ename": "AttributeError",
     "evalue": "module 'pyritz.expansion' has no attribute 'Instanton'",
     "output_type": "error",
     "traceback": [
      "\u001b[0;31m---------------------------------------------------------------------------\u001b[0m",
      "\u001b[0;31mAttributeError\u001b[0m                            Traceback (most recent call last)",
      "\u001b[0;32m<ipython-input-1-2ac764ddbdc2>\u001b[0m in \u001b[0;36m<module>\u001b[0;34m()\u001b[0m\n\u001b[1;32m     21\u001b[0m \u001b[0;34m\u001b[0m\u001b[0m\n\u001b[1;32m     22\u001b[0m \u001b[0;31m# instantiate the chebPath class\u001b[0m\u001b[0;34m\u001b[0m\u001b[0;34m\u001b[0m\u001b[0m\n\u001b[0;32m---> 23\u001b[0;31m \u001b[0mpath\u001b[0m \u001b[0;34m=\u001b[0m \u001b[0mpyritz\u001b[0m\u001b[0;34m.\u001b[0m\u001b[0mexpansion\u001b[0m\u001b[0;34m.\u001b[0m\u001b[0mInstanton\u001b[0m\u001b[0;34m(\u001b[0m\u001b[0mx1\u001b[0m\u001b[0;34m,\u001b[0m \u001b[0mx2\u001b[0m\u001b[0;34m,\u001b[0m \u001b[0mLagrangian\u001b[0m\u001b[0;34m)\u001b[0m\u001b[0;34m\u001b[0m\u001b[0m\n\u001b[0m\u001b[1;32m     24\u001b[0m \u001b[0;34m\u001b[0m\u001b[0m\n\u001b[1;32m     25\u001b[0m \u001b[0;31m#minimize the action\u001b[0m\u001b[0;34m\u001b[0m\u001b[0;34m\u001b[0m\u001b[0m\n",
      "\u001b[0;31mAttributeError\u001b[0m: module 'pyritz.expansion' has no attribute 'Instanton'"
     ]
    }
   ],
   "source": [
    "%matplotlib inline\n",
    "import numpy as np\n",
    "from scipy.optimize import minimize\n",
    "import matplotlib.pyplot as plt\n",
    "import matplotlib as mpl\n",
    "import pyritz\n",
    "import nlopt\n",
    "\n",
    "\n",
    "# domain\n",
    "x1, x2 = np.cosh(-1), np.cosh(1)\n",
    "\n",
    "# Chebyshev modes\n",
    "Nm = 3\n",
    "a0 = np.zeros(Nm)\n",
    "\n",
    "# Lagrangian for the catenary problem \n",
    "def Lagrangian(x, v, Nq):\n",
    "    lg = x*np.sqrt(1+v*v)\n",
    "    return lg\n",
    "\n",
    "# instantiate the chebPath class\n",
    "path = pyritz.expansion.Instanton(x1, x2, Lagrangian)\n",
    "\n",
    "#minimize the action \n",
    "res = minimize(path.action, a0,    method='Nelder-Mead',options={'xtol': 1e-11, 'disp': False})\n",
    "res = minimize(path.action, res.x, method='bfgs',options={'gtol': 1e-14, 'disp': False})\n",
    "res = minimize(path.action, res.x, method='Nelder-Mead',options={'xtol': 1e-11, 'disp': False})\n",
    "\n",
    "# plotting\n",
    "t = np.linspace(-1,1,32)\n",
    "x = path.position(a0,t)\n",
    "y = path.position(res.x, t)\n",
    "\n",
    "plt.plot(t, y, '-', color=\"#A60628\", lw=2, label='final')\n",
    "plt.plot(t, np.cosh(t), '--', color='#348ABD', lw=2, label='exact')\n",
    "\n",
    "plt.plot(t, x, 'k-', label='initial', lw=2, alpha=0.6)\n",
    "plt.plot(-1, np.cosh(-1), 'ko', ms=8); plt.plot(1, np.cosh(1), 'ko', ms=8)\n",
    "\n",
    "\n",
    "plt.xlabel(\"$x$\", fontsize=22); plt.ylabel(\"$y$\", fontsize=22)\n",
    "plt.xticks(np.linspace(-1, 1, 5), fontsize=14)\n",
    "plt.yticks(np.linspace(1, 1.6, 5), fontsize=14)\n",
    "\n",
    "plt.gcf().subplots_adjust(bottom=0.15); plt.tight_layout()\n",
    "plt.legend(loc='lower left'); plt.grid(); plt.xlim(-1.2,1.2)\n",
    "\n",
    "#plt.savefig('catenary.png', dpi=128);"
   ]
  },
  {
   "cell_type": "code",
   "execution_count": null,
   "metadata": {},
   "outputs": [],
   "source": []
  }
 ],
 "metadata": {
  "kernelspec": {
   "display_name": "Python 3",
   "language": "python",
   "name": "python3"
  },
  "language_info": {
   "codemirror_mode": {
    "name": "ipython",
    "version": 3
   },
   "file_extension": ".py",
   "mimetype": "text/x-python",
   "name": "python",
   "nbconvert_exporter": "python",
   "pygments_lexer": "ipython3",
   "version": "3.7.0"
  }
 },
 "nbformat": 4,
 "nbformat_minor": 2
}
