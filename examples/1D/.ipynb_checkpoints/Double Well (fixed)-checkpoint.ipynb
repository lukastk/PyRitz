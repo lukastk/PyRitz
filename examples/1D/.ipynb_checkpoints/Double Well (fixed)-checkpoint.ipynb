{
 "cells": [
  {
   "cell_type": "markdown",
   "metadata": {},
   "source": []
  },
  {
   "cell_type": "code",
   "execution_count": 347,
   "metadata": {},
   "outputs": [],
   "source": [
    "%matplotlib inline\n",
    "import numpy as np\n",
    "from scipy.optimize import minimize\n",
    "import matplotlib.pyplot as plt\n",
    "import matplotlib as mpl\n",
    "from pyritz.expansion import CollocationInstanton\n",
    "import nlopt\n",
    "from scipy.linalg import null_space"
   ]
  },
  {
   "cell_type": "code",
   "execution_count": 366,
   "metadata": {},
   "outputs": [],
   "source": [
    "r1 = -1\n",
    "r2 = 1\n",
    "c = 10\n",
    "\n",
    "def Upot(x):\n",
    "    return c*(x - r1)**2 * (x - r2) ** 2\n",
    "\n",
    "def force(x):\n",
    "    return -( 2*c*(-r1 + x)**2 * (-r2 + x) + 2*c*(-r1 + x)*(-r2 + x)**2 )\n",
    "\n",
    "def lagrangian(x, v, Nq):\n",
    "    dv =  2*c*(-r1 + x)**2 * (-r2 + x) + 2*c*(-r1 + x)*(-r2 + x)**2\n",
    "    lg = (T/4) * ( (2/T)*v + dv )**2\n",
    "    \n",
    "    return lg\n",
    "\n",
    "def hamiltonian(x, v):\n",
    "    return v*(v + 20*(-1 + x)**2*(1 + x) + 20*(-1 + x)*(1 + x)**2) -  (v + 20*(-1 + x)**2*(1 + x) + 20*(-1 + x)*(1 + x)**2)**2/2."
   ]
  },
  {
   "cell_type": "code",
   "execution_count": 349,
   "metadata": {},
   "outputs": [
    {
     "name": "stderr",
     "output_type": "stream",
     "text": [
      "/local/scratch/public/ltk26/anaconda3/lib/python3.7/site-packages/ipykernel_launcher.py:38: FutureWarning: `rcond` parameter will change to the default of machine precision times ``max(M, N)`` where M and N are the input matrix dimensions.\n",
      "To use the future default and silence this warning we advise to pass `rcond=None`, to keep using the old, explicitly pass `rcond=-1`.\n"
     ]
    }
   ],
   "source": [
    "x_start = r1\n",
    "x_end = r2\n",
    "\n",
    "N = 80\n",
    "Nq = N*10\n",
    "d = np.size(x_start)\n",
    "T = 1e5\n",
    "\n",
    "### Construct the linear constraints\n",
    "\n",
    "C = np.zeros( (d*4, d*N) )\n",
    "\n",
    "## Zero-velocity\n",
    "\n",
    "D = CollocationInstanton.get_differentiation_matrix(N)\n",
    "D1 = D[0, :]\n",
    "DN = D[-1, :]\n",
    "\n",
    "for i in range(d):\n",
    "    C[2*i, i*N:(i+1)*N] = D1\n",
    "    C[2*i+1, i*N:(i+1)*N] = DN\n",
    "\n",
    "# Starting points condition\n",
    "\n",
    "for i in range(d):\n",
    "    C[2*d + 2*i, i*N] = 1\n",
    "    C[2*d + 2*i+1, (i+1)*N-1] = 1\n",
    "\n",
    "# Construct the transformation\n",
    "\n",
    "Z = null_space(C, rcond=1e-16)\n",
    "cb = np.zeros(d*4)\n",
    "\n",
    "for i in range(d):\n",
    "    cb[2*d+2*i] = x_start\n",
    "    cb[2*d+2*i+1] = x_end\n",
    "    \n",
    "cb0 = np.linalg.lstsq(C, cb)[0]"
   ]
  },
  {
   "cell_type": "code",
   "execution_count": 350,
   "metadata": {},
   "outputs": [],
   "source": [
    "j = np.arange(0, N)\n",
    "w = np.power(-1, j)\n",
    "o = np.ones(N)\n",
    "o[0] = 0.5\n",
    "o[N-1] = 0.5\n",
    "w = np.flipud(w*o)\n",
    "\n",
    "wNq = CollocationInstanton.generate_quadrature_weights(Nq)\n",
    "\n",
    "ts = CollocationInstanton.get_chebyshev_grid(N)\n",
    "taus = CollocationInstanton.get_chebyshev_grid(Nq)\n",
    "\n",
    "B = np.zeros( (Nq, N) )\n",
    "for i in range(Nq):\n",
    "    ind = np.where(ts== taus[i])[0]\n",
    "    \n",
    "    if len(ind) != 0:\n",
    "        B[i, ind[0]] = 1\n",
    "    else:\n",
    "        v = w / (taus[i] - ts)\n",
    "        s = np.sum(v)\n",
    "        B[i, :] = v / s\n",
    "\n",
    "D = CollocationInstanton.generate_differentiation_matrix(N)\n",
    "\n",
    "def dxLagrangian(x, v):\n",
    "    return c*T*((2*v)/T - 2*c*(r1 + r2 - 2*x)*(r1 - x)*(r2 - x))*(r1**2 + 4*r1*r2 + r2**2 - 6*r1*x - 6*r2*x + 6*x**2)\n",
    "\n",
    "def dvLagrangian(x, v):\n",
    "    return (2*v)/T - 2*c*(r1 + r2 - 2*x)*(r1 - x)*(r2 - x)\n",
    "\n",
    "BZ = B.dot(Z)\n",
    "BDZ = B.dot(D).dot(Z)\n",
    "\n",
    "def action_gradient(m):\n",
    "    p = path.get_interpolator(m)\n",
    "    x = p.compute_position(taus)\n",
    "    v = p.compute_velocity(taus)\n",
    "    v = v\n",
    "    \n",
    "    dL = dxLagrangian(x, v)\n",
    "    dvL = dvLagrangian(x, v)\n",
    "    dS = (wNq * dL).dot(BZ) + (wNq * dvL).dot(BDZ)\n",
    "\n",
    "    return dS"
   ]
  },
  {
   "cell_type": "code",
   "execution_count": 361,
   "metadata": {},
   "outputs": [],
   "source": [
    "T=2"
   ]
  },
  {
   "cell_type": "code",
   "execution_count": 362,
   "metadata": {},
   "outputs": [],
   "source": [
    "bm = np.random.random(d*(N-4))*1"
   ]
  },
  {
   "cell_type": "code",
   "execution_count": 363,
   "metadata": {},
   "outputs": [
    {
     "data": {
      "text/plain": [
       "array([-183.87485973,  120.9168916 ,   83.92806079, -168.07356809,\n",
       "         73.91504871,   78.90745615,  -95.48840381,   30.77298575,\n",
       "         12.25760469,  -48.23206166,   54.36146675,   -7.85601289,\n",
       "         -1.95013463,    8.17036383,    3.93660656,   -6.11465984,\n",
       "         25.00280194,  -45.80481212,   23.62709535,   10.08349638,\n",
       "        -48.29477022,   53.16663048,  -61.28027561,   31.71481489,\n",
       "          3.25949553,  -36.24203655,   24.81831049,  -40.22284608,\n",
       "         13.21013786,   -4.42698011,    8.32066519,   23.79565124,\n",
       "         -6.58746907,   36.46855501,  -22.60988645,   19.57387437,\n",
       "         11.94798089,  -23.21859413,   69.51092052,  -39.05142912,\n",
       "         27.65967088,  185.46143941, -134.74142912,  194.75561909,\n",
       "         76.17981677,    9.34238274,  385.48374426,  -24.72183425,\n",
       "        -28.38214812,   58.83177308,  361.49024201,  -55.49636892,\n",
       "         16.70443782,  -26.23389109,  380.67691172,  402.74340062,\n",
       "        423.75319976,  -60.85012112,   59.64686573,  226.13746976,\n",
       "       1430.23736117,  113.9135778 ,    4.86812668,  341.70637048,\n",
       "        823.89942018, -118.98969014,  159.44548383,  -66.38986952,\n",
       "        672.30185538,  232.62917001,  604.0988475 ,  241.06137749,\n",
       "        490.47922741, -192.67761143,   28.02260931,   76.11142582])"
      ]
     },
     "execution_count": 363,
     "metadata": {},
     "output_type": "execute_result"
    }
   ],
   "source": [
    "action_gradient(Z.dot(bm) + m0)"
   ]
  },
  {
   "cell_type": "code",
   "execution_count": 364,
   "metadata": {},
   "outputs": [],
   "source": [
    "ddd = 1e-10\n",
    "dbm = np.zeros(d*(N-4))\n",
    "dbm[0] = ddd"
   ]
  },
  {
   "cell_type": "code",
   "execution_count": 365,
   "metadata": {},
   "outputs": [
    {
     "data": {
      "text/plain": [
       "-183.86799638392404"
      ]
     },
     "execution_count": 365,
     "metadata": {},
     "output_type": "execute_result"
    }
   ],
   "source": [
    "(path.action_extra(Z.dot(bm + dbm) + m0, Nq) - path.action_extra(Z.dot(bm) + m0, Nq) ) / ddd"
   ]
  },
  {
   "cell_type": "code",
   "execution_count": 107,
   "metadata": {},
   "outputs": [],
   "source": [
    "cheb_t = CollocationInstanton.get_chebyshev_grid(N)\n",
    "m0 = np.zeros(d*N)\n",
    "\n",
    "A1 = 3*(x_start - x_end) / 4\n",
    "B1 = (x_start + x_end)/2\n",
    "\n",
    "m0 = (-cheb_t + cheb_t**3/3)*A1 + B1\n",
    "bm0 = np.zeros(d*(N-4))\n",
    "\n",
    "#bm0 = np.linalg.lstsq(Z, m0 - cb0)[0]\n",
    "#m0 = m_galerkin\n",
    "#m0 = cb0\n",
    "\n",
    "#bm0 = np.random.rand(N-4)*2"
   ]
  },
  {
   "cell_type": "code",
   "execution_count": 91,
   "metadata": {},
   "outputs": [
    {
     "name": "stdout",
     "output_type": "stream",
     "text": [
      "101.97307336674223\n",
      "20.25035905186516\n"
     ]
    }
   ],
   "source": [
    "path = CollocationInstanton(x_start, x_end, lagrangian, N)\n",
    "\n",
    "def get_action(bm, grad):\n",
    "    mm = Z.dot(bm) + m0\n",
    "    \n",
    "    if grad.size > 0:\n",
    "        dS = action_gradient(mm)\n",
    "        np.copyto(grad, dS)\n",
    "        \n",
    "    return path.action_extra(mm, Nq)\n",
    "\n",
    "opt = nlopt.opt(nlopt.LD_MMA, np.size(bm0))\n",
    "opt.set_min_objective(get_action)\n",
    "\n",
    "opt.set_maxeval(5000)\n",
    "#opt.set_xtol_abs(1e-20)\n",
    "bm = opt.optimize(bm0)\n",
    "m = Z.dot(bm) + m0\n",
    "m0 = Z.dot(bm0) + m0\n",
    "\n",
    "print(path.action_extra(m0, Nq))\n",
    "print(path.action_extra(m, Nq))"
   ]
  },
  {
   "cell_type": "code",
   "execution_count": 92,
   "metadata": {},
   "outputs": [
    {
     "data": {
      "text/plain": [
       "(-1.2, 1.2)"
      ]
     },
     "execution_count": 92,
     "metadata": {},
     "output_type": "execute_result"
    },
    {
     "data": {
      "image/png": "[encoded data removed]",
      "text/plain": [
       "<Figure size 432x288 with 1 Axes>"
      ]
     },
     "metadata": {
      "needs_background": "light"
     },
     "output_type": "display_data"
    }
   ],
   "source": [
    "t = np.linspace(-1,1,1000)\n",
    "\n",
    "p = path.get_interpolator(m)\n",
    "x = p.compute_position(t)\n",
    "pi = path.get_interpolator(m0)\n",
    "xi = pi.compute_position(t)\n",
    "\n",
    "plt.plot(t, x, '-', color=\"#A60628\", lw=2, label='final')\n",
    "plt.plot(CollocationInstanton.get_chebyshev_grid(N), m, '.')\n",
    "\n",
    "plt.plot(t, xi, 'k-', label='initial', lw=2, alpha=0.6)\n",
    "\n",
    "plt.xlabel(\"$x$\", fontsize=22); plt.ylabel(\"$y$\", fontsize=22)\n",
    "plt.legend(loc='upper left'); plt.grid(); plt.xlim(-1.2,1.2)"
   ]
  },
  {
   "cell_type": "markdown",
   "metadata": {},
   "source": [
    "#### Hamiltonian along path"
   ]
  },
  {
   "cell_type": "code",
   "execution_count": 93,
   "metadata": {},
   "outputs": [
    {
     "data": {
      "image/png": "[encoded data removed]",
      "text/plain": [
       "<Figure size 432x288 with 2 Axes>"
      ]
     },
     "metadata": {
      "needs_background": "light"
     },
     "output_type": "display_data"
    }
   ],
   "source": [
    "# Create some mock data\n",
    "t=np.linspace(-1, 1, 1000)\n",
    "p = path.get_interpolator(m)\n",
    "v = p.compute_velocity(t)\n",
    "x = p.compute_position(t)\n",
    "Hs = hamiltonian(x, v)\n",
    "\n",
    "data1 = x\n",
    "data2 = Hs\n",
    "\n",
    "fig, ax1 = plt.subplots()\n",
    "\n",
    "color = 'tab:red'\n",
    "ax1.set_xlabel('t')\n",
    "ax1.set_ylabel('x(t)', color=color)\n",
    "ax1.plot(t, data1, color=color)\n",
    "ax1.tick_params(axis='y', labelcolor=color)\n",
    "\n",
    "ax2 = ax1.twinx()  # instantiate a second axes that shares the same x-axis\n",
    "\n",
    "color = 'tab:blue'\n",
    "ax2.set_ylabel('H(x, p)', color=color)  # we already handled the x-label with ax1\n",
    "ax2.plot(t, data2, color=color)\n",
    "ax2.tick_params(axis='y', labelcolor=color)\n",
    "\n",
    "fig.tight_layout()  # otherwise the right y-label is slightly clipped\n",
    "plt.show()"
   ]
  },
  {
   "cell_type": "markdown",
   "metadata": {},
   "source": [
    "#### $\\int_{-1}^{1} p \\cdot \\dot{x}\\ dt$"
   ]
  },
  {
   "cell_type": "code",
   "execution_count": 94,
   "metadata": {},
   "outputs": [
    {
     "name": "stdout",
     "output_type": "stream",
     "text": [
      "0.0002640970300689105\n"
     ]
    }
   ],
   "source": [
    "int_q = 2000\n",
    "t=np.linspace(-1, 1, int_q)\n",
    "p = path.get_interpolator(m)\n",
    "v = p.compute_velocity(t)\n",
    "x = p.compute_position(t)\n",
    "f = force(x)\n",
    "p = (2/T)*v - f\n",
    "\n",
    "pxint = np.sum((p*v)*CollocationInstanton.generate_quadrature_weights(int_q))\n",
    "dV = Upot(x_end) - Upot(x_start)\n",
    "\n",
    "print(pxint - dV)"
   ]
  },
  {
   "cell_type": "markdown",
   "metadata": {},
   "source": [
    "#### Iterative"
   ]
  },
  {
   "cell_type": "code",
   "execution_count": 6,
   "metadata": {},
   "outputs": [],
   "source": [
    "def dxLagrangian(x, v):\n",
    "    return (2*c*(-r1 + x)**2 + 8*c*(-r1 + x)*(-r2 + x) + 2*c*(-r2 + x)**2)*(v + 2*c*(-r1 + x)**2*(-r2 + x) + 2*c*(-r1 + x)*(-r2 + x)**2)\n",
    "    \n",
    "def dvLagrangian(x, v):\n",
    "    return v + 2*c*(-r1 + x)**2*(-r2 + x) + 2*c*(-r1 + x)*(-r2 + x)**2\n",
    "\n",
    "def action_gradient(m):\n",
    "    p = path.get_interpolator(m)\n",
    "    x = p.compute_position(taus)\n",
    "    v = p.compute_velocity(taus)\n",
    "    \n",
    "    dL = dxLagrangian(x, v)\n",
    "    dvL = dvLagrangian(x, v)\n",
    "    dS = (wNq * dL).dot(B).dot(Z) + (wNq * dvL).dot(B).dot(D).dot(Z)\n",
    "    \n",
    "    return dS"
   ]
  },
  {
   "cell_type": "code",
   "execution_count": 95,
   "metadata": {},
   "outputs": [],
   "source": [
    "x_start = r1\n",
    "x_end = r2\n",
    "\n",
    "Nstart = 50\n",
    "Nend = 100\n",
    "Nstep = 2\n",
    "T = 1e5\n",
    "d = np.size(x_start)"
   ]
  },
  {
   "cell_type": "code",
   "execution_count": 96,
   "metadata": {},
   "outputs": [
    {
     "name": "stderr",
     "output_type": "stream",
     "text": [
      "/local/scratch/public/ltk26/anaconda3/lib/python3.7/site-packages/ipykernel_launcher.py:52: FutureWarning: `rcond` parameter will change to the default of machine precision times ``max(M, N)`` where M and N are the input matrix dimensions.\n",
      "To use the future default and silence this warning we advise to pass `rcond=None`, to keep using the old, explicitly pass `rcond=-1`.\n"
     ]
    },
    {
     "name": "stdout",
     "output_type": "stream",
     "text": [
      "N: 50 S: 17.90203145178119\n",
      "N: 52 S: 9.798071751782167\n",
      "N: 54 S: 9.09355168913188\n"
     ]
    },
    {
     "ename": "KeyboardInterrupt",
     "evalue": "",
     "output_type": "error",
     "traceback": [
      "\u001b[0;31m---------------------------------------------------------------------------\u001b[0m",
      "\u001b[0;31mKeyboardInterrupt\u001b[0m                         Traceback (most recent call last)",
      "\u001b[0;32m<ipython-input-96-4379c219ca75>\u001b[0m in \u001b[0;36m<module>\u001b[0;34m()\u001b[0m\n\u001b[1;32m     98\u001b[0m     \u001b[0mopt\u001b[0m\u001b[0;34m.\u001b[0m\u001b[0mset_maxeval\u001b[0m\u001b[0;34m(\u001b[0m\u001b[0;36m3000\u001b[0m\u001b[0;34m)\u001b[0m\u001b[0;34m\u001b[0m\u001b[0m\n\u001b[1;32m     99\u001b[0m \u001b[0;34m\u001b[0m\u001b[0m\n\u001b[0;32m--> 100\u001b[0;31m     \u001b[0mbm\u001b[0m \u001b[0;34m=\u001b[0m \u001b[0mopt\u001b[0m\u001b[0;34m.\u001b[0m\u001b[0moptimize\u001b[0m\u001b[0;34m(\u001b[0m\u001b[0mbm0\u001b[0m\u001b[0;34m)\u001b[0m\u001b[0;34m\u001b[0m\u001b[0m\n\u001b[0m\u001b[1;32m    101\u001b[0m     \u001b[0mm\u001b[0m \u001b[0;34m=\u001b[0m \u001b[0mZ\u001b[0m\u001b[0;34m.\u001b[0m\u001b[0mdot\u001b[0m\u001b[0;34m(\u001b[0m\u001b[0mbm\u001b[0m\u001b[0;34m)\u001b[0m \u001b[0;34m+\u001b[0m \u001b[0mm\u001b[0m\u001b[0;34m\u001b[0m\u001b[0m\n\u001b[1;32m    102\u001b[0m \u001b[0;34m\u001b[0m\u001b[0m\n",
      "\u001b[0;32m~/scratch/install/lib/python3.7/site-packages/nlopt.py\u001b[0m in \u001b[0;36moptimize\u001b[0;34m(self, *args)\u001b[0m\n\u001b[1;32m    505\u001b[0m \u001b[0;34m\u001b[0m\u001b[0m\n\u001b[1;32m    506\u001b[0m     \u001b[0;32mdef\u001b[0m \u001b[0moptimize\u001b[0m\u001b[0;34m(\u001b[0m\u001b[0mself\u001b[0m\u001b[0;34m,\u001b[0m \u001b[0;34m*\u001b[0m\u001b[0margs\u001b[0m\u001b[0;34m)\u001b[0m\u001b[0;34m:\u001b[0m\u001b[0;34m\u001b[0m\u001b[0m\n\u001b[0;32m--> 507\u001b[0;31m         \u001b[0;32mreturn\u001b[0m \u001b[0m_nlopt\u001b[0m\u001b[0;34m.\u001b[0m\u001b[0mopt_optimize\u001b[0m\u001b[0;34m(\u001b[0m\u001b[0mself\u001b[0m\u001b[0;34m,\u001b[0m \u001b[0;34m*\u001b[0m\u001b[0margs\u001b[0m\u001b[0;34m)\u001b[0m\u001b[0;34m\u001b[0m\u001b[0m\n\u001b[0m\u001b[1;32m    508\u001b[0m \u001b[0;34m\u001b[0m\u001b[0m\n\u001b[1;32m    509\u001b[0m     \u001b[0;32mdef\u001b[0m \u001b[0mlast_optimize_result\u001b[0m\u001b[0;34m(\u001b[0m\u001b[0mself\u001b[0m\u001b[0;34m)\u001b[0m\u001b[0;34m:\u001b[0m\u001b[0;34m\u001b[0m\u001b[0m\n",
      "\u001b[0;32m<ipython-input-96-4379c219ca75>\u001b[0m in \u001b[0;36mget_action\u001b[0;34m(bm, grad)\u001b[0m\n\u001b[1;32m     86\u001b[0m \u001b[0;34m\u001b[0m\u001b[0m\n\u001b[1;32m     87\u001b[0m         \u001b[0;32mif\u001b[0m \u001b[0mgrad\u001b[0m\u001b[0;34m.\u001b[0m\u001b[0msize\u001b[0m \u001b[0;34m>\u001b[0m \u001b[0;36m0\u001b[0m\u001b[0;34m:\u001b[0m\u001b[0;34m\u001b[0m\u001b[0m\n\u001b[0;32m---> 88\u001b[0;31m             \u001b[0mdS\u001b[0m \u001b[0;34m=\u001b[0m \u001b[0maction_gradient\u001b[0m\u001b[0;34m(\u001b[0m\u001b[0mmm\u001b[0m\u001b[0;34m)\u001b[0m\u001b[0;34m\u001b[0m\u001b[0m\n\u001b[0m\u001b[1;32m     89\u001b[0m             \u001b[0mnp\u001b[0m\u001b[0;34m.\u001b[0m\u001b[0mcopyto\u001b[0m\u001b[0;34m(\u001b[0m\u001b[0mgrad\u001b[0m\u001b[0;34m,\u001b[0m \u001b[0mdS\u001b[0m\u001b[0;34m)\u001b[0m\u001b[0;34m\u001b[0m\u001b[0m\n\u001b[1;32m     90\u001b[0m \u001b[0;34m\u001b[0m\u001b[0m\n",
      "\u001b[0;32m<ipython-input-88-0c8ff8fdc8d6>\u001b[0m in \u001b[0;36maction_gradient\u001b[0;34m(m)\u001b[0m\n\u001b[1;32m     35\u001b[0m \u001b[0;32mdef\u001b[0m \u001b[0maction_gradient\u001b[0m\u001b[0;34m(\u001b[0m\u001b[0mm\u001b[0m\u001b[0;34m)\u001b[0m\u001b[0;34m:\u001b[0m\u001b[0;34m\u001b[0m\u001b[0m\n\u001b[1;32m     36\u001b[0m     \u001b[0mp\u001b[0m \u001b[0;34m=\u001b[0m \u001b[0mpath\u001b[0m\u001b[0;34m.\u001b[0m\u001b[0mget_interpolator\u001b[0m\u001b[0;34m(\u001b[0m\u001b[0mm\u001b[0m\u001b[0;34m)\u001b[0m\u001b[0;34m\u001b[0m\u001b[0m\n\u001b[0;32m---> 37\u001b[0;31m     \u001b[0mx\u001b[0m \u001b[0;34m=\u001b[0m \u001b[0mp\u001b[0m\u001b[0;34m.\u001b[0m\u001b[0mcompute_position\u001b[0m\u001b[0;34m(\u001b[0m\u001b[0mtaus\u001b[0m\u001b[0;34m)\u001b[0m\u001b[0;34m\u001b[0m\u001b[0m\n\u001b[0m\u001b[1;32m     38\u001b[0m     \u001b[0mv\u001b[0m \u001b[0;34m=\u001b[0m \u001b[0mp\u001b[0m\u001b[0;34m.\u001b[0m\u001b[0mcompute_velocity\u001b[0m\u001b[0;34m(\u001b[0m\u001b[0mtaus\u001b[0m\u001b[0;34m)\u001b[0m\u001b[0;34m\u001b[0m\u001b[0m\n\u001b[1;32m     39\u001b[0m \u001b[0;34m\u001b[0m\u001b[0m\n",
      "\u001b[0;32m/local/scratch/public/ltk26/anaconda3/lib/python3.7/site-packages/pyritz/expansion/collocation.py\u001b[0m in \u001b[0;36mcompute_position\u001b[0;34m(self, t)\u001b[0m\n\u001b[1;32m    210\u001b[0m \u001b[0;34m\u001b[0m\u001b[0m\n\u001b[1;32m    211\u001b[0m         \u001b[0;32mfor\u001b[0m \u001b[0mi\u001b[0m \u001b[0;32min\u001b[0m \u001b[0mrange\u001b[0m\u001b[0;34m(\u001b[0m\u001b[0mself\u001b[0m\u001b[0;34m.\u001b[0m\u001b[0md\u001b[0m\u001b[0;34m)\u001b[0m\u001b[0;34m:\u001b[0m\u001b[0;34m\u001b[0m\u001b[0m\n\u001b[0;32m--> 212\u001b[0;31m             \u001b[0mxs\u001b[0m\u001b[0;34m.\u001b[0m\u001b[0mappend\u001b[0m\u001b[0;34m(\u001b[0m\u001b[0mself\u001b[0m\u001b[0;34m.\u001b[0m\u001b[0m__barycentric\u001b[0m\u001b[0;34m(\u001b[0m\u001b[0mt\u001b[0m\u001b[0;34m,\u001b[0m \u001b[0mself\u001b[0m\u001b[0;34m.\u001b[0m\u001b[0mfs\u001b[0m\u001b[0;34m[\u001b[0m\u001b[0mi\u001b[0m\u001b[0;34m]\u001b[0m\u001b[0;34m)\u001b[0m\u001b[0;34m)\u001b[0m\u001b[0;34m\u001b[0m\u001b[0m\n\u001b[0m\u001b[1;32m    213\u001b[0m \u001b[0;34m\u001b[0m\u001b[0m\n\u001b[1;32m    214\u001b[0m         \u001b[0;32mif\u001b[0m \u001b[0mself\u001b[0m\u001b[0;34m.\u001b[0m\u001b[0md\u001b[0m \u001b[0;34m==\u001b[0m \u001b[0;36m1\u001b[0m\u001b[0;34m:\u001b[0m\u001b[0;34m\u001b[0m\u001b[0m\n",
      "\u001b[0;32m/local/scratch/public/ltk26/anaconda3/lib/python3.7/site-packages/pyritz/expansion/collocation.py\u001b[0m in \u001b[0;36m__barycentric\u001b[0;34m(self, ts, f)\u001b[0m\n\u001b[1;32m    193\u001b[0m         \u001b[0;32mfor\u001b[0m \u001b[0mi\u001b[0m \u001b[0;32min\u001b[0m \u001b[0mrange\u001b[0m\u001b[0;34m(\u001b[0m\u001b[0mnp\u001b[0m\u001b[0;34m.\u001b[0m\u001b[0msize\u001b[0m\u001b[0;34m(\u001b[0m\u001b[0mts\u001b[0m\u001b[0;34m)\u001b[0m\u001b[0;34m)\u001b[0m\u001b[0;34m:\u001b[0m\u001b[0;34m\u001b[0m\u001b[0m\n\u001b[1;32m    194\u001b[0m             \u001b[0mt\u001b[0m \u001b[0;34m=\u001b[0m \u001b[0mts\u001b[0m\u001b[0;34m[\u001b[0m\u001b[0mi\u001b[0m\u001b[0;34m]\u001b[0m\u001b[0;34m\u001b[0m\u001b[0m\n\u001b[0;32m--> 195\u001b[0;31m             \u001b[0;32mif\u001b[0m \u001b[0mt\u001b[0m \u001b[0;32min\u001b[0m \u001b[0mself\u001b[0m\u001b[0;34m.\u001b[0m\u001b[0mchebPoints\u001b[0m\u001b[0;34m:\u001b[0m \u001b[0;31m# If t is a grid point, then just return the corresponding value in f.\u001b[0m\u001b[0;34m\u001b[0m\u001b[0m\n\u001b[0m\u001b[1;32m    196\u001b[0m                 \u001b[0ms\u001b[0m\u001b[0;34m[\u001b[0m\u001b[0mi\u001b[0m\u001b[0;34m,\u001b[0m\u001b[0mnp\u001b[0m\u001b[0;34m.\u001b[0m\u001b[0mwhere\u001b[0m\u001b[0;34m(\u001b[0m\u001b[0mself\u001b[0m\u001b[0;34m.\u001b[0m\u001b[0mchebPoints\u001b[0m \u001b[0;34m==\u001b[0m \u001b[0mt\u001b[0m\u001b[0;34m)\u001b[0m\u001b[0;34m[\u001b[0m\u001b[0;36m0\u001b[0m\u001b[0;34m]\u001b[0m\u001b[0;34m[\u001b[0m\u001b[0;36m0\u001b[0m\u001b[0;34m]\u001b[0m\u001b[0;34m]\u001b[0m \u001b[0;34m=\u001b[0m \u001b[0;36m1\u001b[0m\u001b[0;34m\u001b[0m\u001b[0m\n\u001b[1;32m    197\u001b[0m             \u001b[0;32melse\u001b[0m\u001b[0;34m:\u001b[0m\u001b[0;34m\u001b[0m\u001b[0m\n",
      "\u001b[0;31mKeyboardInterrupt\u001b[0m: "
     ]
    }
   ],
   "source": [
    "N = Nstart\n",
    "t = np.linspace(-1,1,1000)\n",
    "\n",
    "cheb_t = CollocationInstanton.get_chebyshev_grid(N)\n",
    "m = np.zeros(d*N)\n",
    "\n",
    "A1 = 3*(x_start - x_end) / 4\n",
    "B1 = (x_start + x_end) / 2\n",
    "\n",
    "m = (-cheb_t + cheb_t**3/3)*A1 + B1\n",
    "\n",
    "#bm0 = np.linalg.lstsq(Z, m0 - cb0)[0]\n",
    "#m0 = cb0\n",
    "\n",
    "#bm0 = np.random.rand(N-4)*2\n",
    "\n",
    "arch = [ (m, np.zeros(d*(Nstart-4)), Nstart) ]\n",
    "\n",
    "for N in range(Nstart, Nend + 1, Nstep):\n",
    "\n",
    "    Nq = N*10\n",
    "\n",
    "    ### Construct the linear constraints\n",
    "\n",
    "    C = np.zeros( (d*4, d*N) )\n",
    "\n",
    "    ## Zero-velocity\n",
    "\n",
    "    D = CollocationInstanton.get_differentiation_matrix(N)\n",
    "    D1 = D[0, :]\n",
    "    DN = D[-1, :]\n",
    "\n",
    "    for i in range(d):\n",
    "        C[2*i, i*N:(i+1)*N] = D1\n",
    "        C[2*i+1, i*N:(i+1)*N] = DN\n",
    "\n",
    "    # Starting points condition\n",
    "\n",
    "    for i in range(d):\n",
    "        C[2*d + 2*i, i*N] = 1\n",
    "        C[2*d + 2*i+1, (i+1)*N-1] = 1\n",
    "\n",
    "    # Construct the transformation\n",
    "\n",
    "    Z = null_space(C, rcond=1e-16)\n",
    "    cb = np.zeros(d*4)\n",
    "\n",
    "    for i in range(d):\n",
    "        cb[2*d+2*i] = x_start\n",
    "        cb[2*d+2*i+1] = x_end\n",
    "\n",
    "    cb0 = np.linalg.lstsq(C, cb)[0]\n",
    "\n",
    "    j = np.arange(0, N)\n",
    "    w = np.power(-1, j)\n",
    "    o = np.ones(N)\n",
    "    o[0] = 0.5\n",
    "    o[N-1] = 0.5\n",
    "    w = np.flipud(w*o)\n",
    "\n",
    "    wNq = CollocationInstanton.generate_quadrature_weights(Nq)\n",
    "\n",
    "    ts = CollocationInstanton.get_chebyshev_grid(N)\n",
    "    taus = CollocationInstanton.get_chebyshev_grid(Nq)\n",
    "\n",
    "    B = np.zeros( (Nq, N) )\n",
    "    for i in range(Nq):\n",
    "        ind = np.where(ts== taus[i])[0]\n",
    "\n",
    "        if len(ind) != 0:\n",
    "            B[i, ind[0]] = 1\n",
    "        else:\n",
    "            v = w / (taus[i] - ts)\n",
    "            s = np.sum(v)\n",
    "            B[i, :] = v / s\n",
    "            \n",
    "    BZ = B.dot(Z)\n",
    "    BDZ = B.dot(D).dot(Z)\n",
    "\n",
    "    D = CollocationInstanton.generate_differentiation_matrix(N)\n",
    "\n",
    "    path = CollocationInstanton(x_start, x_end, lagrangian, N)\n",
    "\n",
    "    def get_action(bm, grad):\n",
    "        mm = Z.dot(bm) + m\n",
    "\n",
    "        if grad.size > 0:\n",
    "            dS = action_gradient(mm)\n",
    "            np.copyto(grad, dS)\n",
    "\n",
    "        return path.action_extra(mm, Nq)\n",
    "\n",
    "    bm0 = np.zeros(d*(N-4))\n",
    "    \n",
    "    opt = nlopt.opt(nlopt.LD_MMA, np.size(bm0))\n",
    "    opt.set_min_objective(get_action)\n",
    "    #opt.set_xtol_abs(1e-20)\n",
    "    opt.set_maxeval(5000)\n",
    "    \n",
    "    bm = opt.optimize(bm0)\n",
    "    m = Z.dot(bm) + m\n",
    "    \n",
    "    arch.append( (m, bm, N) )\n",
    "    \n",
    "    if N != Nend:\n",
    "        p = path.get_interpolator(m)\n",
    "        m = p.compute_position(CollocationInstanton.get_chebyshev_grid(N+Nstep))\n",
    "    \n",
    "    print (\"N:\", N, \"S:\", path.action_extra(m, Nq))"
   ]
  },
  {
   "cell_type": "code",
   "execution_count": 97,
   "metadata": {},
   "outputs": [
    {
     "data": {
      "image/png": "[encoded data removed]",
      "text/plain": [
       "<Figure size 432x288 with 1 Axes>"
      ]
     },
     "metadata": {
      "needs_background": "light"
     },
     "output_type": "display_data"
    }
   ],
   "source": [
    "i = -1\n",
    "\n",
    "m = arch[i][0]\n",
    "mi = arch[0][0]\n",
    "t = np.linspace(-1,1,1000)\n",
    "\n",
    "p = path.get_interpolator(m)\n",
    "x = p.compute_position(t)\n",
    "pi = path.get_interpolator(mi)\n",
    "xi = pi.compute_position(t)\n",
    "\n",
    "plt.plot(t, x, '-', color=\"#A60628\", lw=2, label='final ($N=' +str(Nend)+ '$)')\n",
    "#plt.plot(CollocationInstanton.get_chebyshev_grid(Nend), m, \".\")\n",
    "plt.plot(t, xi, '-', label='initial ($N=' +str(Nstart)+ '$)')\n",
    "\n",
    "plt.xlabel(\"$x$\", fontsize=22); plt.ylabel(\"$y$\", fontsize=22)\n",
    "plt.legend(loc='upper left'); plt.grid(); plt.xlim(-1.2,1.2)\n",
    "fig = mpl.pyplot.gcf()\n",
    "#fig.set_size_inches(4, 4)"
   ]
  },
  {
   "cell_type": "code",
   "execution_count": 402,
   "metadata": {},
   "outputs": [
    {
     "data": {
      "text/plain": [
       "(-1.2, 1.2)"
      ]
     },
     "execution_count": 402,
     "metadata": {},
     "output_type": "execute_result"
    },
    {
     "data": {
      "image/png": "[encoded data removed]",
      "text/plain": [
       "<Figure size 432x288 with 1 Axes>"
      ]
     },
     "metadata": {
      "needs_background": "light"
     },
     "output_type": "display_data"
    }
   ],
   "source": [
    "m_galerkin = np.array([-1.00000000e+00, -9.90429709e-01, -1.00642308e+00, -9.94435014e-01,\n",
    "       -1.00472071e+00, -9.95820562e-01, -1.00329881e+00, -9.97427829e-01,\n",
    "       -1.00132276e+00, -9.99803981e-01, -9.98178539e-01, -1.00377864e+00,\n",
    "       -9.92297780e-01, -1.01204933e+00, -9.76351417e-01, -1.04069037e+00,\n",
    "       -5.47966451e-01,  8.21995622e-02, -4.65405816e-02,  3.24210589e-02,\n",
    "       -2.48447683e-02,  2.00407414e-02, -1.66502831e-02,  1.40718196e-02,\n",
    "       -1.20008614e-02,  1.02680879e-02, -8.77268764e-03,  7.45163465e-03,\n",
    "       -6.26378954e-03,  5.18153094e-03, -4.18601685e-03,  3.26413116e-03,\n",
    "       -2.40663235e-03,  1.60703054e-03, -8.60808261e-04,  1.64817674e-04,\n",
    "        4.83033062e-04, -1.08414461e-03,  1.63935726e-03, -2.14911480e-03,\n",
    "        2.61353760e-03, -3.03262965e-03,  3.40616428e-03, -3.73393504e-03,\n",
    "        4.01560762e-03, -4.25090750e-03,  4.43953036e-03, -4.58125013e-03,\n",
    "        4.67585568e-03, -4.72319880e-03,  4.72321672e-03, -4.67593009e-03,\n",
    "        4.58136529e-03, -4.43971948e-03,  4.25112667e-03, -4.01587838e-03,\n",
    "        3.73425135e-03, -3.40653963e-03,  3.03304566e-03, -2.61400878e-03,\n",
    "        2.14961364e-03, -1.63990801e-03,  1.08471558e-03, -4.83648675e-04,\n",
    "       -1.64184088e-04,  8.60133055e-04, -1.60631071e-03,  2.40590237e-03,\n",
    "       -3.26336048e-03,  4.18526813e-03, -5.18075832e-03,  6.26301385e-03,\n",
    "       -7.45086204e-03,  8.77193836e-03, -1.02673257e-02,  1.20001819e-02,\n",
    "       -1.40712548e-02,  1.66498156e-02, -2.00404348e-02,  2.48447810e-02,\n",
    "       -3.24215211e-02,  4.65419232e-02, -8.22037498e-02,  5.47910088e-01,\n",
    "        1.04069112e+00,  9.76348526e-01,  1.01205218e+00,  9.92294935e-01,\n",
    "        1.00378140e+00,  9.98175861e-01,  9.99806577e-01,  1.00132017e+00,\n",
    "        9.97430290e-01,  1.00329638e+00,  9.95822924e-01,  1.00471825e+00,\n",
    "        9.94437490e-01,  1.00641961e+00,  9.90458479e-01,  1.00000000e+00]);\n",
    "\n",
    "t = np.linspace(-1,1,1000)\n",
    "p = path.get_interpolator(m_galerkin)\n",
    "x = p.compute_position(t)\n",
    "\n",
    "plt.plot(t, x, '-', color=\"#A60628\", lw=2, label='final')\n",
    "#plt.plot(CollocationInstanton.get_chebyshev_grid(Nend), m, '.')\n",
    "\n",
    "plt.xlabel(\"$x$\", fontsize=22); plt.ylabel(\"$y$\", fontsize=22)\n",
    "plt.legend(loc='upper left'); plt.grid(); plt.xlim(-1.2,1.2)"
   ]
  },
  {
   "cell_type": "code",
   "execution_count": 265,
   "metadata": {},
   "outputs": [
    {
     "data": {
      "text/plain": [
       "array([-2.35339782e-04,  1.79553412e-04, -1.63737002e-04,  1.65325051e-04,\n",
       "       -1.85601822e-04,  2.43619495e-04, -3.82067120e-04,  7.34772908e-04,\n",
       "       -1.31649605e-03,  9.48613427e-04, -3.41718604e-04,  1.35118113e-04,\n",
       "       -6.51196045e-05,  3.28663318e-05, -1.89259246e-05,  1.11889326e-05,\n",
       "       -6.47913937e-06,  3.23531165e-06, -1.06676272e-06,  8.33194343e-07,\n",
       "        2.03549157e-06, -4.63585834e-06,  5.23611375e-06, -7.21933599e-06,\n",
       "        7.55856834e-06, -8.33916826e-06,  8.47445429e-06, -1.06875166e-05,\n",
       "        1.05216866e-05, -1.23923975e-05,  1.38433080e-05, -1.39788873e-05,\n",
       "        1.56624865e-05, -1.72919719e-05,  1.95112114e-05, -1.98521587e-05,\n",
       "        2.06825614e-05, -2.31996198e-05,  2.54225115e-05, -2.86373874e-05,\n",
       "        3.01765055e-05, -3.44248086e-05,  3.73977069e-05, -4.43685947e-05,\n",
       "        4.97982204e-05, -5.65580577e-05,  6.54225204e-05, -7.74631483e-05,\n",
       "        9.54441612e-05, -1.20918294e-04,  1.56100444e-04, -2.16072887e-04,\n",
       "        3.20262364e-04, -4.45995987e-04,  2.85581167e-04,  1.23210699e-04,\n",
       "       -2.46150216e-04,  2.49613023e-04, -2.37760883e-04,  2.30522948e-04,\n",
       "       -2.32268962e-04,  2.47113129e-04, -2.58041719e-04,  2.67382528e-04,\n",
       "        7.74010805e-04, -1.30822260e-04])"
      ]
     },
     "execution_count": 265,
     "metadata": {},
     "output_type": "execute_result"
    }
   ],
   "source": [
    "path = CollocationInstanton(x_start, x_end, lagrangian, 50)\n",
    "path.action_extra(m_galerkin, 1000)\n",
    "action_gradient(m_galerkin)"
   ]
  },
  {
   "cell_type": "code",
   "execution_count": 403,
   "metadata": {},
   "outputs": [
    {
     "name": "stdout",
     "output_type": "stream",
     "text": [
      "2.5437226243596456e-05\n"
     ]
    }
   ],
   "source": [
    "int_q = 1000\n",
    "t=np.linspace(-1, 1, int_q)\n",
    "p = path.get_interpolator(m_galerkin)\n",
    "v = p.compute_velocity(t)\n",
    "x = p.compute_position(t)\n",
    "f = force(x)\n",
    "p = (2/T)*v - f\n",
    "\n",
    "pxint = np.sum((p*v)*CollocationInstanton.generate_quadrature_weights(int_q))\n",
    "dV = Upot(x_end) - Upot(x_start)\n",
    "\n",
    "print(pxint - dV)"
   ]
  },
  {
   "cell_type": "code",
   "execution_count": null,
   "metadata": {},
   "outputs": [],
   "source": []
  }
 ],
 "metadata": {
  "kernelspec": {
   "display_name": "Python 3",
   "language": "python",
   "name": "python3"
  },
  "language_info": {
   "codemirror_mode": {
    "name": "ipython",
    "version": 3
   },
   "file_extension": ".py",
   "mimetype": "text/x-python",
   "name": "python",
   "nbconvert_exporter": "python",
   "pygments_lexer": "ipython3",
   "version": "3.7.0"
  }
 },
 "nbformat": 4,
 "nbformat_minor": 2
}
