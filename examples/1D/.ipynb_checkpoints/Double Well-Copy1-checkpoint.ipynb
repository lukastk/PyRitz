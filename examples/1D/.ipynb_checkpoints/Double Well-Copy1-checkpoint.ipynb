{
 "cells": [
  {
   "cell_type": "markdown",
   "metadata": {},
   "source": []
  },
  {
   "cell_type": "code",
   "execution_count": 140,
   "metadata": {},
   "outputs": [],
   "source": [
    "%matplotlib inline\n",
    "import numpy as np\n",
    "from scipy.optimize import minimize\n",
    "import matplotlib.pyplot as plt\n",
    "import matplotlib as mpl\n",
    "from pyritz.expansion import CollocationInstanton\n",
    "import nlopt\n",
    "from scipy.linalg import null_space"
   ]
  },
  {
   "cell_type": "code",
   "execution_count": 244,
   "metadata": {},
   "outputs": [],
   "source": [
    "r1 = -1\n",
    "r2 = 1\n",
    "c = 10\n",
    "\n",
    "def Upot(x):\n",
    "    return c*(x - r1)**2 * (x - r2) ** 2\n",
    "\n",
    "def force(x):\n",
    "    return -( 2*c*(-r1 + x)**2 * (-r2 + x) + 2*c*(-r1 + x)*(-r2 + x)**2 )\n",
    "\n",
    "def lagrangian(x, v, Nq):\n",
    "    dv =  2*c*(-r1 + x)**2 * (-r2 + x) + 2*c*(-r1 + x)*(-r2 + x)**2\n",
    "    lg = 0.5 * ( (2/T)*v + dv )**2\n",
    "    \n",
    "    return lg"
   ]
  },
  {
   "cell_type": "code",
   "execution_count": 297,
   "metadata": {},
   "outputs": [
    {
     "name": "stderr",
     "output_type": "stream",
     "text": [
      "/local/scratch/public/ltk26/anaconda3/lib/python3.7/site-packages/ipykernel_launcher.py:38: FutureWarning: `rcond` parameter will change to the default of machine precision times ``max(M, N)`` where M and N are the input matrix dimensions.\n",
      "To use the future default and silence this warning we advise to pass `rcond=None`, to keep using the old, explicitly pass `rcond=-1`.\n"
     ]
    }
   ],
   "source": [
    "x_start = r1\n",
    "x_end = r2\n",
    "\n",
    "N = 80\n",
    "Nq = N*10\n",
    "d = np.size(x_start)\n",
    "T = 1e10\n",
    "\n",
    "### Construct the linear constraints\n",
    "\n",
    "C = np.zeros( (d*4, d*N) )\n",
    "\n",
    "## Zero-velocity\n",
    "\n",
    "D = CollocationInstanton.get_differentiation_matrix(N)\n",
    "D1 = D[0, :]\n",
    "DN = D[-1, :]\n",
    "\n",
    "for i in range(d):\n",
    "    C[2*i, i*N:(i+1)*N] = D1\n",
    "    C[2*i+1, i*N:(i+1)*N] = DN\n",
    "\n",
    "# Starting points condition\n",
    "\n",
    "for i in range(d):\n",
    "    C[2*d + 2*i, i*N] = 1\n",
    "    C[2*d + 2*i+1, (i+1)*N-1] = 1\n",
    "\n",
    "# Construct the transformation\n",
    "\n",
    "Z = null_space(C, rcond=1e-16)\n",
    "cb = np.zeros(d*4)\n",
    "\n",
    "for i in range(d):\n",
    "    cb[2*d+2*i] = x_start\n",
    "    cb[2*d+2*i+1] = x_end\n",
    "    \n",
    "cb0 = np.linalg.lstsq(C, cb)[0]"
   ]
  },
  {
   "cell_type": "code",
   "execution_count": 298,
   "metadata": {},
   "outputs": [],
   "source": [
    "j = np.arange(0, N)\n",
    "w = np.power(-1, j)\n",
    "o = np.ones(N)\n",
    "o[0] = 0.5\n",
    "o[N-1] = 0.5\n",
    "w = np.flipud(w*o)\n",
    "\n",
    "wNq = CollocationInstanton.generate_quadrature_weights(Nq)\n",
    "\n",
    "ts = CollocationInstanton.get_chebyshev_grid(N)\n",
    "taus = CollocationInstanton.get_chebyshev_grid(Nq)\n",
    "\n",
    "B = np.zeros( (Nq, N) )\n",
    "for i in range(Nq):\n",
    "    ind = np.where(ts== taus[i])[0]\n",
    "    \n",
    "    if len(ind) != 0:\n",
    "        B[i, ind[0]] = 1\n",
    "    else:\n",
    "        v = w / (taus[i] - ts)\n",
    "        s = np.sum(v)\n",
    "        B[i, :] = v / s\n",
    "\n",
    "D = CollocationInstanton.generate_differentiation_matrix(N)\n",
    "\n",
    "def dxLagrangian(x, v):\n",
    "    return (2*c*(-r1 + x)**2 + 8*c*(-r1 + x)*(-r2 + x) + 2*c*(-r2 + x)**2)*(v + 2*c*(-r1 + x)**2*(-r2 + x) + 2*c*(-r1 + x)*(-r2 + x)**2)\n",
    "    \n",
    "def dvLagrangian(x, v):\n",
    "    return v + 2*c*(-r1 + x)**2*(-r2 + x) + 2*c*(-r1 + x)*(-r2 + x)**2\n",
    "\n",
    "BZ = B.dot(Z)\n",
    "BDZ = B.dot(D).dot(Z)\n",
    "\n",
    "def action_gradient(m):\n",
    "    p = path.get_interpolator(m)\n",
    "    x = p.compute_position(taus)\n",
    "    v = p.compute_velocity(taus)\n",
    "    \n",
    "    dL = dxLagrangian(x, v)\n",
    "    dvL = dvLagrangian(x, v)\n",
    "    dS = (wNq * dL).dot(BZ) + (wNq * dvL).dot(BDZ)\n",
    "    \n",
    "    return dS"
   ]
  },
  {
   "cell_type": "code",
   "execution_count": 299,
   "metadata": {},
   "outputs": [],
   "source": [
    "cheb_t = CollocationInstanton.get_chebyshev_grid(N)\n",
    "m0 = np.zeros(d*N)\n",
    "\n",
    "A1 = 3*(x_start - x_end) / 4\n",
    "B1 = (x_start + x_end)/2\n",
    "\n",
    "m0 = (-cheb_t + cheb_t**3/3)*A1 + B1\n",
    "bm0 = np.zeros(d*(N-4))\n",
    "\n",
    "#bm0 = np.linalg.lstsq(Z, m0 - cb0)[0]\n",
    "#m0 = m_galerkin\n",
    "#m0 = cb0\n",
    "\n",
    "#bm0 = np.random.rand(N-4)*2"
   ]
  },
  {
   "cell_type": "code",
   "execution_count": 300,
   "metadata": {},
   "outputs": [
    {
     "name": "stdout",
     "output_type": "stream",
     "text": [
      "101.97307336626223\n",
      "10.279485297333043\n"
     ]
    }
   ],
   "source": [
    "path = CollocationInstanton(x_start, x_end, lagrangian, N)\n",
    "\n",
    "def get_action(bm, grad):\n",
    "    mm = Z.dot(bm) + m0\n",
    "    \n",
    "    if grad.size > 0:\n",
    "        dS = action_gradient(mm)\n",
    "        np.copyto(grad, dS)\n",
    "        \n",
    "    return path.action_extra(mm, Nq)\n",
    "\n",
    "opt = nlopt.opt(nlopt.LD_MMA, np.size(bm0))\n",
    "opt.set_min_objective(get_action)\n",
    "\n",
    "#opt.add_equality_constraint(startpoint_constraint, 1e-12)\n",
    "#opt.add_equality_constraint(endpoint_constraint, 1e-12)m0\n",
    "#opt.add_equality_constraint(startvelocity_constraint, 1e-4)\n",
    "#opt.add_equality_constraint(endvelocity_constraint, 1e-4)\n",
    "#opt.add_inequality_constraint(length_constraint, 1e-12)\n",
    "\n",
    "#opt.set_maxeval(5000)\n",
    "opt.set_xtol_abs(1e-30)\n",
    "bm = opt.optimize(bm0)\n",
    "m = Z.dot(bm) + m0\n",
    "m0 = Z.dot(bm0) + m0\n",
    "\n",
    "print(path.action_extra(m0, Nq))\n",
    "print(path.action_extra(m, Nq))"
   ]
  },
  {
   "cell_type": "code",
   "execution_count": 301,
   "metadata": {},
   "outputs": [
    {
     "data": {
      "text/plain": [
       "(-1.2, 1.2)"
      ]
     },
     "execution_count": 301,
     "metadata": {},
     "output_type": "execute_result"
    },
    {
     "data": {
      "image/png": "[encoded data removed]",
      "text/plain": [
       "<Figure size 432x288 with 1 Axes>"
      ]
     },
     "metadata": {
      "needs_background": "light"
     },
     "output_type": "display_data"
    }
   ],
   "source": [
    "t = np.linspace(-1,1,1000)\n",
    "\n",
    "p = path.get_interpolator(m)\n",
    "x = p.compute_position(t)\n",
    "pi = path.get_interpolator(m0)\n",
    "xi = pi.compute_position(t)\n",
    "\n",
    "plt.plot(t, x, '-', color=\"#A60628\", lw=2, label='final')\n",
    "plt.plot(CollocationInstanton.get_chebyshev_grid(N), m, '.')\n",
    "\n",
    "plt.plot(t, xi, 'k-', label='initial', lw=2, alpha=0.6)\n",
    "\n",
    "plt.xlabel(\"$x$\", fontsize=22); plt.ylabel(\"$y$\", fontsize=22)\n",
    "plt.legend(loc='upper left'); plt.grid(); plt.xlim(-1.2,1.2)"
   ]
  },
  {
   "cell_type": "code",
   "execution_count": 148,
   "metadata": {},
   "outputs": [],
   "source": [
    "runs = 10000\n",
    "gstep = 1e-6\n",
    "bm = bm0\n",
    "running = True\n",
    "\n",
    "for i in range(runs):\n",
    "    m = m0 + Z.dot(bm)\n",
    "    s1 = path.action_extra(m0 + Z.dot(bm), Nq)\n",
    "    bm = bm - action_gradient(m)*gstep\n",
    "    s2 = path.action_extra(m0 + Z.dot(bm), Nq)\n",
    "        \n",
    "m = m0 + Z.dot(bm)"
   ]
  },
  {
   "cell_type": "code",
   "execution_count": 149,
   "metadata": {},
   "outputs": [
    {
     "name": "stdout",
     "output_type": "stream",
     "text": [
      "0.0\n"
     ]
    }
   ],
   "source": [
    "tol = 1e-12\n",
    "gstep = 1e-16\n",
    "bm = bm0\n",
    "running = True\n",
    "\n",
    "while running:\n",
    "    m = m0 + Z.dot(bm)\n",
    "    s1 = path.action_extra(m0 + Z.dot(bm), Nq)\n",
    "    bm = bm - action_gradient(m)*gstep\n",
    "    s2 = path.action_extra(m0 + Z.dot(bm), Nq)\n",
    "    \n",
    "    print(np.abs(s2 - s1))\n",
    "    if np.abs(s2 - s1) < tol:\n",
    "        running = False\n",
    "        \n",
    "m = m0 + Z.dot(bm)"
   ]
  },
  {
   "cell_type": "code",
   "execution_count": 93,
   "metadata": {},
   "outputs": [
    {
     "name": "stdout",
     "output_type": "stream",
     "text": [
      "0.0\n"
     ]
    }
   ],
   "source": [
    "gstep = 1e-10\n",
    "\n",
    "S1 = path.action_extra(m, Nq)\n",
    "for i in range(100):\n",
    "    m = m0 + Z.dot(bm)\n",
    "    s1 = path.action_extra(m0 + Z.dot(bm), Nq)\n",
    "    bm = bm - action_gradient(m)*gstep\n",
    "    s2 = path.action_extra(m0 + Z.dot(bm), Nq)\n",
    "m = m0 + Z.dot(bm)\n",
    "S2 = path.action_extra(m, Nq)\n",
    "print(S2 - S1)"
   ]
  },
  {
   "cell_type": "code",
   "execution_count": 220,
   "metadata": {},
   "outputs": [
    {
     "data": {
      "text/plain": [
       "array([ 3.69384275e-07, -1.17198397e-07,  2.04465978e-06, -9.56124941e-07,\n",
       "        4.32769765e-06, -9.02595154e-07,  1.77045397e-06,  2.52868847e-07,\n",
       "        1.89389848e-08,  1.15401497e-07, -1.18315633e-07,  1.23577755e-07,\n",
       "       -1.24036153e-07,  1.21713189e-07, -1.25975719e-07,  3.34368249e-07,\n",
       "       -1.26507566e-07,  1.20451092e-07, -1.20209693e-07,  1.18671971e-07,\n",
       "       -1.17368451e-07,  1.16206506e-07, -1.13825069e-07,  1.08122136e-07,\n",
       "       -1.94067723e-07,  2.04669546e-07, -2.03155969e-07,  2.04786978e-07,\n",
       "       -2.08821938e-07,  2.18656514e-07, -2.24570872e-07,  9.39537897e-08,\n",
       "       -2.56670196e-07,  1.21848108e-07,  4.22362778e-07,  3.24684439e-06,\n",
       "        1.38400248e-06,  4.43478907e-06,  9.97804683e-07,  4.28583188e-06,\n",
       "        1.38596144e-06, -3.63782516e-07,  1.48277400e-07,  4.38485918e-08,\n",
       "       -1.43885163e-06,  8.74900757e-09])"
      ]
     },
     "execution_count": 220,
     "metadata": {},
     "output_type": "execute_result"
    }
   ],
   "source": [
    "action_gradient(m)"
   ]
  },
  {
   "cell_type": "code",
   "execution_count": null,
   "metadata": {},
   "outputs": [],
   "source": [
    "path.action_extra(m0 + Z.dot(bm + action_gradient(m)*1e-5), Nq)"
   ]
  },
  {
   "cell_type": "code",
   "execution_count": 19,
   "metadata": {},
   "outputs": [
    {
     "data": {
      "text/plain": [
       "2.9103830456733704e-11"
      ]
     },
     "execution_count": 19,
     "metadata": {},
     "output_type": "execute_result"
    }
   ],
   "source": [
    "path.action_extra(m0 + Z.dot(bm - action_gradient(m)*1e-10), Nq) - path.action_extra(Z.dot(bm) + m0, Nq)"
   ]
  },
  {
   "cell_type": "markdown",
   "metadata": {},
   "source": [
    "#### $\\int_{-1}^{1} p \\cdot \\dot{x}\\ dt$"
   ]
  },
  {
   "cell_type": "code",
   "execution_count": 302,
   "metadata": {},
   "outputs": [
    {
     "name": "stdout",
     "output_type": "stream",
     "text": [
      "-5.021641364599816e-05\n"
     ]
    }
   ],
   "source": [
    "int_q = 1000\n",
    "t=np.linspace(-1, 1, int_q)\n",
    "p = path.get_interpolator(m)\n",
    "v = p.compute_velocity(t)\n",
    "x = p.compute_position(t)\n",
    "f = force(x)\n",
    "p = (2/T)*v - f\n",
    "\n",
    "pxint = np.sum((p*v)*CollocationInstanton.generate_quadrature_weights(int_q))\n",
    "dV = Upot(x_end) - Upot(x_start)\n",
    "\n",
    "print(pxint - dV)"
   ]
  },
  {
   "cell_type": "markdown",
   "metadata": {},
   "source": [
    "#### Iterative"
   ]
  },
  {
   "cell_type": "code",
   "execution_count": 168,
   "metadata": {},
   "outputs": [],
   "source": [
    "def dxLagrangian(x, v):\n",
    "    return (2*c*(-r1 + x)**2 + 8*c*(-r1 + x)*(-r2 + x) + 2*c*(-r2 + x)**2)*(v + 2*c*(-r1 + x)**2*(-r2 + x) + 2*c*(-r1 + x)*(-r2 + x)**2)\n",
    "    \n",
    "def dvLagrangian(x, v):\n",
    "    return v + 2*c*(-r1 + x)**2*(-r2 + x) + 2*c*(-r1 + x)*(-r2 + x)**2\n",
    "\n",
    "def action_gradient(m):\n",
    "    p = path.get_interpolator(m)\n",
    "    x = p.compute_position(taus)\n",
    "    v = p.compute_velocity(taus)\n",
    "    \n",
    "    dL = dxLagrangian(x, v)\n",
    "    dvL = dvLagrangian(x, v)\n",
    "    dS = (wNq * dL).dot(B).dot(Z) + (wNq * dvL).dot(B).dot(D).dot(Z)\n",
    "    \n",
    "    return dS"
   ]
  },
  {
   "cell_type": "code",
   "execution_count": 303,
   "metadata": {},
   "outputs": [],
   "source": [
    "x_start = r1\n",
    "x_end = r2\n",
    "\n",
    "Nstart = 6\n",
    "Nend = 80\n",
    "Nstep = 1\n",
    "T = 1e10\n",
    "d = np.size(x_start)"
   ]
  },
  {
   "cell_type": "code",
   "execution_count": null,
   "metadata": {},
   "outputs": [
    {
     "name": "stderr",
     "output_type": "stream",
     "text": [
      "/local/scratch/public/ltk26/anaconda3/lib/python3.7/site-packages/ipykernel_launcher.py:51: FutureWarning: `rcond` parameter will change to the default of machine precision times ``max(M, N)`` where M and N are the input matrix dimensions.\n",
      "To use the future default and silence this warning we advise to pass `rcond=None`, to keep using the old, explicitly pass `rcond=-1`.\n"
     ]
    },
    {
     "name": "stdout",
     "output_type": "stream",
     "text": [
      "N: 6 S: 66.69185723764242\n",
      "N: 7 S: 66.69185723764238\n",
      "N: 8 S: 48.16431182505167\n",
      "N: 9 S: 41.92198537157293\n",
      "N: 10 S: 36.03956117701506\n",
      "N: 11 S: 31.299143474342717\n",
      "N: 12 S: 27.111184535032745\n",
      "N: 13 S: 23.83990470118416\n",
      "N: 14 S: 21.103025444978176\n",
      "N: 15 S: 20.919934199085514\n",
      "N: 16 S: 19.89981569073191\n",
      "N: 17 S: 17.69647417690358\n",
      "N: 18 S: 16.454715893856623\n",
      "N: 19 S: 16.454715893856633\n",
      "N: 20 S: 15.667162123134807\n",
      "N: 21 S: 14.400590534131464\n",
      "N: 22 S: 13.42940652614489\n",
      "N: 23 S: 13.303538897219557\n",
      "N: 24 S: 13.238923613727316\n",
      "N: 25 S: 12.491372149781645\n"
     ]
    }
   ],
   "source": [
    "N = Nstart\n",
    "\n",
    "cheb_t = CollocationInstanton.get_chebyshev_grid(N)\n",
    "m = np.zeros(d*N)\n",
    "\n",
    "A1 = 3*(x_start - x_end) / 4\n",
    "B1 = (x_start + x_end) / 2\n",
    "\n",
    "m = (-cheb_t + cheb_t**3/3)*A1 + B1\n",
    "\n",
    "#bm0 = np.linalg.lstsq(Z, m0 - cb0)[0]\n",
    "#m0 = cb0\n",
    "\n",
    "#bm0 = np.random.rand(N-4)*2\n",
    "\n",
    "arch = [ (m0, np.zeros(d*(Nstart-4)), Nstart) ]\n",
    "\n",
    "for N in range(Nstart, Nend + 1, Nstep):\n",
    "\n",
    "    Nq = N*15\n",
    "\n",
    "    ### Construct the linear constraints\n",
    "\n",
    "    C = np.zeros( (d*4, d*N) )\n",
    "\n",
    "    ## Zero-velocity\n",
    "\n",
    "    D = CollocationInstanton.get_differentiation_matrix(N)\n",
    "    D1 = D[0, :]\n",
    "    DN = D[-1, :]\n",
    "\n",
    "    for i in range(d):\n",
    "        C[2*i, i*N:(i+1)*N] = D1\n",
    "        C[2*i+1, i*N:(i+1)*N] = DN\n",
    "\n",
    "    # Starting points condition\n",
    "\n",
    "    for i in range(d):\n",
    "        C[2*d + 2*i, i*N] = 1\n",
    "        C[2*d + 2*i+1, (i+1)*N-1] = 1\n",
    "\n",
    "    # Construct the transformation\n",
    "\n",
    "    Z = null_space(C, rcond=1e-16)\n",
    "    cb = np.zeros(d*4)\n",
    "\n",
    "    for i in range(d):\n",
    "        cb[2*d+2*i] = x_start\n",
    "        cb[2*d+2*i+1] = x_end\n",
    "\n",
    "    cb0 = np.linalg.lstsq(C, cb)[0]\n",
    "\n",
    "    j = np.arange(0, N)\n",
    "    w = np.power(-1, j)\n",
    "    o = np.ones(N)\n",
    "    o[0] = 0.5\n",
    "    o[N-1] = 0.5\n",
    "    w = np.flipud(w*o)\n",
    "\n",
    "    wNq = CollocationInstanton.generate_quadrature_weights(Nq)\n",
    "\n",
    "    ts = CollocationInstanton.get_chebyshev_grid(N)\n",
    "    taus = CollocationInstanton.get_chebyshev_grid(Nq)\n",
    "\n",
    "    B = np.zeros( (Nq, N) )\n",
    "    for i in range(Nq):\n",
    "        ind = np.where(ts== taus[i])[0]\n",
    "\n",
    "        if len(ind) != 0:\n",
    "            B[i, ind[0]] = 1\n",
    "        else:\n",
    "            v = w / (taus[i] - ts)\n",
    "            s = np.sum(v)\n",
    "            B[i, :] = v / s\n",
    "            \n",
    "    BZ = B.dot(Z)\n",
    "    BDZ = B.dot(D).dot(Z)\n",
    "\n",
    "    D = CollocationInstanton.generate_differentiation_matrix(N)\n",
    "\n",
    "    path = CollocationInstanton(x_start, x_end, lagrangian, N)\n",
    "\n",
    "    def get_action(bm, grad):\n",
    "        mm = Z.dot(bm) + m\n",
    "\n",
    "        if grad.size > 0:\n",
    "            dS = action_gradient(mm)\n",
    "            np.copyto(grad, dS)\n",
    "\n",
    "        return path.action_extra(mm, Nq)\n",
    "\n",
    "    bm0 = np.zeros(d*(N-4))\n",
    "    \n",
    "    opt = nlopt.opt(nlopt.LD_MMA, np.size(bm0))\n",
    "    opt.set_min_objective(get_action)\n",
    "    opt.set_xtol_abs(1e-30)\n",
    "    \n",
    "    bm = opt.optimize(bm0)\n",
    "    m = Z.dot(bm) + m\n",
    "    \n",
    "    arch.append( (m, bm, N) )\n",
    "    \n",
    "    if N != Nend:\n",
    "        p = path.get_interpolator(m)\n",
    "        m = p.compute_position(CollocationInstanton.get_chebyshev_grid(N+Nstep))\n",
    "    \n",
    "    print (\"N:\", N, \"S:\", path.action_extra(m, Nq))"
   ]
  },
  {
   "cell_type": "code",
   "execution_count": null,
   "metadata": {},
   "outputs": [],
   "source": [
    "m = arch[0][0]\n",
    "t = np.linspace(-1,1,1000)\n",
    "\n",
    "p = path.get_interpolator(m)\n",
    "x = p.compute_position(t)\n",
    "\n",
    "plt.plot(t, x, '-', color=\"#A60628\", lw=2, label='initial')\n",
    "#plt.plot(CollocationInstanton.get_chebyshev_grid(Nend), m, '.')\n",
    "\n",
    "plt.xlabel(\"$x$\", fontsize=22); plt.ylabel(\"$y$\", fontsize=22)\n",
    "plt.legend(loc='upper left'); plt.grid(); plt.xlim(-1.2,1.2)\n",
    "fig = mpl.pyplot.gcf()\n",
    "#fig.set_size_inches(4, 4)"
   ]
  },
  {
   "cell_type": "code",
   "execution_count": 263,
   "metadata": {},
   "outputs": [
    {
     "data": {
      "text/plain": [
       "array([-1.        , -0.99949654, -0.99798668, -0.99547192, -0.99195481,\n",
       "       -0.98743889, -0.9819287 , -0.97542979, -0.9679487 , -0.95949297,\n",
       "       -0.95007112, -0.93969262, -0.92836793, -0.91610846, -0.90292654,\n",
       "       -0.88883545, -0.87384938, -0.85798341, -0.84125353, -0.82367658,\n",
       "       -0.80527026, -0.78605309, -0.76604444, -0.74526445, -0.72373404,\n",
       "       -0.70147489, -0.67850941, -0.65486073, -0.63055267, -0.60560969,\n",
       "       -0.58005691, -0.55392006, -0.52722547, -0.5       , -0.47227107,\n",
       "       -0.44406661, -0.41541501, -0.38634513, -0.35688622, -0.32706796,\n",
       "       -0.29692038, -0.26647381, -0.23575894, -0.20480667, -0.17364818,\n",
       "       -0.14231484, -0.1108382 , -0.07924996, -0.04758192, -0.01586596,\n",
       "        0.01586596,  0.04758192,  0.07924996,  0.1108382 ,  0.14231484,\n",
       "        0.17364818,  0.20480667,  0.23575894,  0.26647381,  0.29692038,\n",
       "        0.32706796,  0.35688622,  0.38634513,  0.41541501,  0.44406661,\n",
       "        0.47227107,  0.5       ,  0.52722547,  0.55392006,  0.58005691,\n",
       "        0.60560969,  0.63055267,  0.65486073,  0.67850941,  0.70147489,\n",
       "        0.72373404,  0.74526445,  0.76604444,  0.78605309,  0.80527026,\n",
       "        0.82367658,  0.84125353,  0.85798341,  0.87384938,  0.88883545,\n",
       "        0.90292654,  0.91610846,  0.92836793,  0.93969262,  0.95007112,\n",
       "        0.95949297,  0.9679487 ,  0.97542979,  0.9819287 ,  0.98743889,\n",
       "        0.99195481,  0.99547192,  0.99798668,  0.99949654,  1.        ])"
      ]
     },
     "execution_count": 263,
     "metadata": {},
     "output_type": "execute_result"
    }
   ],
   "source": [
    "CollocationInstanton.get_chebyshev_grid(100)"
   ]
  },
  {
   "cell_type": "code",
   "execution_count": 264,
   "metadata": {},
   "outputs": [
    {
     "data": {
      "text/plain": [
       "(-1.2, 1.2)"
      ]
     },
     "execution_count": 264,
     "metadata": {},
     "output_type": "execute_result"
    },
    {
     "data": {
      "image/png": "[encoded data removed]",
      "text/plain": [
       "<Figure size 432x288 with 1 Axes>"
      ]
     },
     "metadata": {
      "needs_background": "light"
     },
     "output_type": "display_data"
    }
   ],
   "source": [
    "m_galerkin = np.array([-1.00000000e+00, -9.99998837e-01, -9.99999943e-01, -9.99998308e-01,\n",
    "       -9.99995335e-01, -9.99997363e-01, -9.99984845e-01, -9.99990859e-01,\n",
    "       -9.99956653e-01, -9.99952378e-01, -9.99845492e-01, -9.99718081e-01,\n",
    "       -9.99205796e-01, -9.98014003e-01, -9.94166723e-01, -9.82512451e-01,\n",
    "       -9.45076364e-01, -8.37675131e-01, -6.17704294e-01, -3.62323050e-01,\n",
    "       -1.83151158e-01, -8.59284218e-02, -3.88227087e-02, -1.68218378e-02,\n",
    "       -7.19371608e-03, -2.88190215e-03, -1.21095431e-03, -4.18356468e-04,\n",
    "       -2.02194810e-04, -3.75981485e-05, -4.41921219e-05,  9.44223741e-06,\n",
    "       -1.65500378e-05,  9.51097350e-06, -7.58162961e-06,  4.24856223e-06,\n",
    "       -1.66925122e-06, -9.13789044e-07,  3.24497581e-06, -5.44620925e-06,\n",
    "        7.45626222e-06, -9.31598957e-06,  1.10095392e-05, -1.25608379e-05,\n",
    "        1.39280912e-05, -1.51729760e-05,  1.62358490e-05, -1.71712455e-05,\n",
    "        1.79398854e-05, -1.85492486e-05,  1.90255702e-05, -1.93345460e-05,\n",
    "        1.95085830e-05, -1.95345418e-05,  1.94194135e-05, -1.91392453e-05,\n",
    "        1.87415859e-05, -1.82029647e-05,  1.75106874e-05, -1.66978679e-05,\n",
    "        1.57447334e-05, -1.46691253e-05,  1.34492851e-05, -1.21207556e-05,\n",
    "        1.06813252e-05, -9.00085194e-06,  7.61060474e-06, -4.79088881e-06,\n",
    "        5.76058843e-06,  4.78286454e-06,  1.66174236e-05,  5.02745939e-05,\n",
    "        1.18917747e-04,  3.29363070e-04,  7.92788186e-04,  1.97354581e-03,\n",
    "        4.61691340e-03,  1.06635051e-02,  2.36607017e-02,  5.10676003e-02,\n",
    "        1.06075791e-01,  2.10745197e-01,  3.87913779e-01,  6.21813712e-01,\n",
    "        8.22469935e-01,  9.30485795e-01,  9.74083172e-01,  9.90010002e-01,\n",
    "        9.95951515e-01,  9.98209709e-01,  9.99172507e-01,  9.99569822e-01,\n",
    "        9.99774297e-01,  9.99866235e-01,  9.99923073e-01,  9.99955284e-01,\n",
    "        9.99974556e-01,  9.99990946e-01,  9.99995960e-01,  1.00000000e+00]);\n",
    "\n",
    "t = np.linspace(-1,1,1000)\n",
    "p = path.get_interpolator(m_galerkin)\n",
    "x = p.compute_position(t)\n",
    "\n",
    "plt.plot(t, x, '-', color=\"#A60628\", lw=2, label='final')\n",
    "#plt.plot(CollocationInstanton.get_chebyshev_grid(Nend), m, '.')\n",
    "\n",
    "plt.xlabel(\"$x$\", fontsize=22); plt.ylabel(\"$y$\", fontsize=22)\n",
    "plt.legend(loc='upper left'); plt.grid(); plt.xlim(-1.2,1.2)"
   ]
  },
  {
   "cell_type": "code",
   "execution_count": 265,
   "metadata": {},
   "outputs": [
    {
     "data": {
      "text/plain": [
       "array([-2.35339782e-04,  1.79553412e-04, -1.63737002e-04,  1.65325051e-04,\n",
       "       -1.85601822e-04,  2.43619495e-04, -3.82067120e-04,  7.34772908e-04,\n",
       "       -1.31649605e-03,  9.48613427e-04, -3.41718604e-04,  1.35118113e-04,\n",
       "       -6.51196045e-05,  3.28663318e-05, -1.89259246e-05,  1.11889326e-05,\n",
       "       -6.47913937e-06,  3.23531165e-06, -1.06676272e-06,  8.33194343e-07,\n",
       "        2.03549157e-06, -4.63585834e-06,  5.23611375e-06, -7.21933599e-06,\n",
       "        7.55856834e-06, -8.33916826e-06,  8.47445429e-06, -1.06875166e-05,\n",
       "        1.05216866e-05, -1.23923975e-05,  1.38433080e-05, -1.39788873e-05,\n",
       "        1.56624865e-05, -1.72919719e-05,  1.95112114e-05, -1.98521587e-05,\n",
       "        2.06825614e-05, -2.31996198e-05,  2.54225115e-05, -2.86373874e-05,\n",
       "        3.01765055e-05, -3.44248086e-05,  3.73977069e-05, -4.43685947e-05,\n",
       "        4.97982204e-05, -5.65580577e-05,  6.54225204e-05, -7.74631483e-05,\n",
       "        9.54441612e-05, -1.20918294e-04,  1.56100444e-04, -2.16072887e-04,\n",
       "        3.20262364e-04, -4.45995987e-04,  2.85581167e-04,  1.23210699e-04,\n",
       "       -2.46150216e-04,  2.49613023e-04, -2.37760883e-04,  2.30522948e-04,\n",
       "       -2.32268962e-04,  2.47113129e-04, -2.58041719e-04,  2.67382528e-04,\n",
       "        7.74010805e-04, -1.30822260e-04])"
      ]
     },
     "execution_count": 265,
     "metadata": {},
     "output_type": "execute_result"
    }
   ],
   "source": [
    "path = CollocationInstanton(x_start, x_end, lagrangian, 50)\n",
    "path.action_extra(m_galerkin, 1000)\n",
    "action_gradient(m_galerkin)"
   ]
  },
  {
   "cell_type": "code",
   "execution_count": 280,
   "metadata": {},
   "outputs": [
    {
     "name": "stdout",
     "output_type": "stream",
     "text": [
      "0.7754042331841817\n"
     ]
    }
   ],
   "source": [
    "int_q = 1000\n",
    "t=np.linspace(-1, 1, int_q)\n",
    "p = path.get_interpolator(m_galerkin)\n",
    "v = p.compute_velocity(t)\n",
    "x = p.compute_position(t)\n",
    "f = force(x)\n",
    "p = (2/T)*v - f\n",
    "\n",
    "pxint = np.sum((p*v)*CollocationInstanton.generate_quadrature_weights(int_q))\n",
    "dV = Upot(x_end) - Upot(x_start)\n",
    "\n",
    "print(pxint - dV)"
   ]
  },
  {
   "cell_type": "code",
   "execution_count": null,
   "metadata": {},
   "outputs": [],
   "source": []
  }
 ],
 "metadata": {
  "kernelspec": {
   "display_name": "Python 3",
   "language": "python",
   "name": "python3"
  }
 },
 "nbformat": 4,
 "nbformat_minor": 2
}
