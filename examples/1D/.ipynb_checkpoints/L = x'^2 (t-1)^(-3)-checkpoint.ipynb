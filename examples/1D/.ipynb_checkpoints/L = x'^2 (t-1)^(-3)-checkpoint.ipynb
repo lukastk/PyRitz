{
 "cells": [
  {
   "cell_type": "markdown",
   "metadata": {},
   "source": [
    "$L[x] = \\frac{x'^2}{(t+1)^3}$\n",
    "\n",
    "with $x(-1) = 1$ and $x(1) = 2$.\n",
    "\n",
    "Exact solution:\n",
    "\n",
    "$x(t) = \\frac{1}{80} \\left(t^4+8 t^3+24 t^2+32 t+95\\right)$"
   ]
  },
  {
   "cell_type": "code",
   "execution_count": 1,
   "metadata": {},
   "outputs": [],
   "source": [
    "%matplotlib inline\n",
    "import numpy as np\n",
    "from scipy.optimize import minimize\n",
    "import matplotlib.pyplot as plt\n",
    "import matplotlib as mpl\n",
    "from pyritz.expansion import CollocationInstanton\n",
    "import nlopt"
   ]
  },
  {
   "cell_type": "code",
   "execution_count": 2,
   "metadata": {},
   "outputs": [],
   "source": [
    "def lagrangian(x, v, Nq):\n",
    "    lg = v*v / (cheb_t + 2)**3\n",
    "    return lg"
   ]
  },
  {
   "cell_type": "code",
   "execution_count": 3,
   "metadata": {},
   "outputs": [],
   "source": [
    "x_start = 1\n",
    "x_end = 2\n",
    "\n",
    "N = 8\n",
    "d = 1\n",
    "\n",
    "cheb_t = CollocationInstanton.get_chebyshev_grid(N)\n",
    "\n",
    "path = CollocationInstanton(x_start, x_end, lagrangian, N)\n",
    "\n",
    "m0 = CollocationInstanton.get_straight_line_path(x_start, x_end, N)\n",
    "\n",
    "ub = np.full(d*N, np.inf)\n",
    "lb = np.full(d*N, -np.inf)\n",
    "\n",
    "ub[0] = x_start\n",
    "lb[0] = x_start\n",
    "ub[N-1] = x_end\n",
    "lb[N-1] = x_end\n",
    "\n",
    "def get_action(m, grad):\n",
    "    return path.action(m)\n",
    "\n",
    "opt = nlopt.opt(nlopt.LN_NEWUOA, np.size(m0))\n",
    "opt.set_lower_bounds(lb)\n",
    "opt.set_upper_bounds(ub)\n",
    "opt.set_maxeval(1000)\n",
    "opt.set_min_objective(get_action)\n",
    "opt.set_xtol_rel(1e-12)\n",
    "m = opt.optimize(m0)"
   ]
  },
  {
   "cell_type": "code",
   "execution_count": 4,
   "metadata": {},
   "outputs": [
    {
     "data": {
      "text/plain": [
       "0.04999999999999996"
      ]
     },
     "execution_count": 4,
     "metadata": {},
     "output_type": "execute_result"
    }
   ],
   "source": [
    "path.action(m)"
   ]
  },
  {
   "cell_type": "code",
   "execution_count": 5,
   "metadata": {},
   "outputs": [],
   "source": [
    "def exact_sol(t):\n",
    "    return (1/80)*( 95 + 32*t + 24*t*t + 8*t**3 + t**4 )"
   ]
  },
  {
   "cell_type": "code",
   "execution_count": 6,
   "metadata": {},
   "outputs": [
    {
     "data": {
      "text/plain": [
       "(-1.2, 1.2)"
      ]
     },
     "execution_count": 6,
     "metadata": {},
     "output_type": "execute_result"
    },
    {
     "data": {
      "image/png": "[encoded data removed]",
      "text/plain": [
       "<Figure size 432x288 with 1 Axes>"
      ]
     },
     "metadata": {
      "needs_background": "light"
     },
     "output_type": "display_data"
    }
   ],
   "source": [
    "t = np.linspace(-1,1,1000)\n",
    "\n",
    "p = path.get_interpolator(m)\n",
    "x = p.compute_position(t)\n",
    "pi = path.get_interpolator(m0)\n",
    "xi = pi.compute_position(t)\n",
    "\n",
    "plt.plot(t, x, '-', color=\"#A60628\", lw=2, label='final')\n",
    "plt.plot(t, xi, 'k-', label='initial', lw=2, alpha=0.6)\n",
    "plt.plot(t, exact_sol(t), '--', label='exact')\n",
    "\n",
    "plt.xlabel(\"$t$\", fontsize=22); plt.ylabel(\"$x$\", fontsize=22)\n",
    "plt.legend(loc='upper left'); plt.grid(); plt.xlim(-1.2,1.2)"
   ]
  },
  {
   "cell_type": "markdown",
   "metadata": {},
   "source": [
    "#### Real action of the found path"
   ]
  },
  {
   "cell_type": "code",
   "execution_count": 7,
   "metadata": {},
   "outputs": [
    {
     "name": "stdout",
     "output_type": "stream",
     "text": [
      "N = 8    S = 0.04999999999999996\n",
      "N = 300    S = 0.04999999999999906\n"
     ]
    },
    {
     "data": {
      "image/png": "[encoded data removed]",
      "text/plain": [
       "<Figure size 432x288 with 1 Axes>"
      ]
     },
     "metadata": {
      "needs_background": "light"
     },
     "output_type": "display_data"
    }
   ],
   "source": [
    "res = []\n",
    "\n",
    "Nstart = 8\n",
    "Nend = 300\n",
    "\n",
    "for N2 in range(Nstart, Nend + 1):\n",
    "    t = CollocationInstanton.get_chebyshev_grid(N2)\n",
    "    p = path.get_interpolator(m)\n",
    "    cheb_t = CollocationInstanton.get_chebyshev_grid(N2)\n",
    "    path2 = CollocationInstanton(x_start, x_end, lagrangian, N2)\n",
    "    res.append( path2.action(p.compute_position(t)) )\n",
    "    \n",
    "plt.xlabel(\"N\")\n",
    "plt.ylabel(\"S\")\n",
    "plt.plot(np.arange(Nstart, Nend + 1), res)\n",
    "\n",
    "print(\"N =\", Nstart, \"   S =\", res[0])\n",
    "print(\"N =\",Nend, \"   S =\", res[-1])"
   ]
  },
  {
   "cell_type": "markdown",
   "metadata": {},
   "source": [
    "#### Iterative approach"
   ]
  },
  {
   "cell_type": "code",
   "execution_count": 8,
   "metadata": {},
   "outputs": [
    {
     "name": "stdout",
     "output_type": "stream",
     "text": [
      "S = 0.050000000000000204\n"
     ]
    }
   ],
   "source": [
    "x_start = 1\n",
    "x_end = 2\n",
    "\n",
    "Nstart = 8\n",
    "Nend = 100\n",
    "d = 1\n",
    "\n",
    "m0 = CollocationInstanton.get_straight_line_path(x_start, x_end, N)\n",
    "\n",
    "for N in range(Nstart, Nend):\n",
    "    cheb_t = CollocationInstanton.get_chebyshev_grid(N)\n",
    "    path = CollocationInstanton(x_start, x_end, lagrangian, N)\n",
    "\n",
    "    p = path.get_interpolator(m)\n",
    "    m0 = p.compute_position(cheb_t)\n",
    "\n",
    "    ub = np.full(d*N, np.inf)\n",
    "    lb = np.full(d*N, -np.inf)\n",
    "\n",
    "    ub[0] = x_start\n",
    "    lb[0] = x_start\n",
    "    ub[N-1] = x_end\n",
    "    lb[N-1] = x_end\n",
    "\n",
    "    def get_action(m, grad):\n",
    "        return path.action(m)\n",
    "\n",
    "    opt = nlopt.opt(nlopt.LN_NEWUOA, np.size(m0))\n",
    "    opt.set_lower_bounds(lb)\n",
    "    opt.set_upper_bounds(ub)\n",
    "    opt.set_maxeval(1000)\n",
    "    opt.set_min_objective(get_action)\n",
    "    opt.set_xtol_rel(1e-12)\n",
    "    m = opt.optimize(m0)\n",
    "    \n",
    "print(\"S =\", path.action(m))"
   ]
  },
  {
   "cell_type": "code",
   "execution_count": 9,
   "metadata": {},
   "outputs": [
    {
     "data": {
      "text/plain": [
       "(-1.2, 1.2)"
      ]
     },
     "execution_count": 9,
     "metadata": {},
     "output_type": "execute_result"
    },
    {
     "data": {
      "image/png": "[encoded data removed]",
      "text/plain": [
       "<Figure size 432x288 with 1 Axes>"
      ]
     },
     "metadata": {
      "needs_background": "light"
     },
     "output_type": "display_data"
    }
   ],
   "source": [
    "t = np.linspace(-1,1,1000)\n",
    "\n",
    "p = path.get_interpolator(m)\n",
    "x = p.compute_position(t)\n",
    "\n",
    "plt.plot(t, x, '-', color=\"#A60628\", lw=2, label='final')\n",
    "plt.plot(t, exact_sol(t), '--', label='exact')\n",
    "\n",
    "plt.xlabel(\"$t$\", fontsize=22); plt.ylabel(\"$x$\", fontsize=22)\n",
    "plt.legend(loc='upper left'); plt.grid(); plt.xlim(-1.2,1.2)"
   ]
  },
  {
   "cell_type": "code",
   "execution_count": null,
   "metadata": {},
   "outputs": [],
   "source": []
  }
 ],
 "metadata": {
  "kernelspec": {
   "display_name": "Python 3",
   "language": "python",
   "name": "python3"
  },
  "language_info": {
   "codemirror_mode": {
    "name": "ipython",
    "version": 3
   },
   "file_extension": ".py",
   "mimetype": "text/x-python",
   "name": "python",
   "nbconvert_exporter": "python",
   "pygments_lexer": "ipython3",
   "version": "3.7.0"
  }
 },
 "nbformat": 4,
 "nbformat_minor": 2
}
