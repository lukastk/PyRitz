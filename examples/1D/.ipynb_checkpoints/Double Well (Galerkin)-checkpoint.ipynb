{
 "cells": [
  {
   "cell_type": "code",
   "execution_count": 26,
   "metadata": {},
   "outputs": [],
   "source": [
    "%matplotlib inline\n",
    "import numpy as np\n",
    "from scipy.optimize import minimize\n",
    "import matplotlib.pyplot as plt\n",
    "import matplotlib as mpl\n",
    "import pyritz\n",
    "import nlopt\n",
    "\n",
    "r1 = -1\n",
    "r2 = 1\n",
    "c = 10\n",
    "T = 2\n",
    "\n",
    "# domain\n",
    "x1, x2 = r1, r2\n",
    "\n",
    "# Chebyshev modes\n",
    "Nm = 100\n",
    "Nq = Nm*5\n",
    "a0 = np.zeros(Nm)\n",
    "\n",
    "# Lagrangian for the catenary problem \n",
    "def Lagrangian(x, v, Nq):\n",
    "    dv =  2*c*(-r1 + x)**2 * (-r2 + x) + 2*c*(-r1 + x)*(-r2 + x)**2\n",
    "    lg = 0.5 * ( (2/T)*v + dv )**2\n",
    "    return lg\n",
    "\n",
    "def get_action(m, grad):\n",
    "    return path.action(m)\n",
    "\n",
    "# instantiate the chebPath class\n",
    "path = pyritz.expansion.GalerkinInstanton(x1, x2, Lagrangian, Nq)\n",
    "\n",
    "opt = nlopt.opt(nlopt.LN_NEWUOA, np.size(a0))\n",
    "opt.set_min_objective(get_action)\n",
    "opt.set_xtol_abs(1e-30)\n",
    "a = opt.optimize(a0)"
   ]
  },
  {
   "cell_type": "code",
   "execution_count": 27,
   "metadata": {},
   "outputs": [
    {
     "data": {
      "text/plain": [
       "Text(0,0.5,'$y$')"
      ]
     },
     "execution_count": 27,
     "metadata": {},
     "output_type": "execute_result"
    },
    {
     "data": {
      "image/png": "[encoded data removed]",
      "text/plain": [
       "<Figure size 432x288 with 1 Axes>"
      ]
     },
     "metadata": {
      "needs_background": "light"
     },
     "output_type": "display_data"
    }
   ],
   "source": [
    "# plotting\n",
    "t = np.linspace(-1,1,1000)\n",
    "x = path.position(a0,t)\n",
    "y = path.position(a, t)\n",
    "\n",
    "plt.plot(t, y, '-', color=\"#A60628\", lw=2, label='final')\n",
    "#plt.plot(t, x, 'k-', label='initial', lw=2, alpha=0.6)\n",
    "\n",
    "plt.xlabel(\"$x$\", fontsize=22); plt.ylabel(\"$y$\", fontsize=22)\n",
    "\n",
    "#plt.savefig('catenary.png', dpi=128);"
   ]
  },
  {
   "cell_type": "code",
   "execution_count": 36,
   "metadata": {},
   "outputs": [
    {
     "data": {
      "text/plain": [
       "20.000024537601245"
      ]
     },
     "execution_count": 36,
     "metadata": {},
     "output_type": "execute_result"
    }
   ],
   "source": [
    "path.action(a)"
   ]
  },
  {
   "cell_type": "code",
   "execution_count": 41,
   "metadata": {
    "slideshow": {
     "slide_type": "subslide"
    }
   },
   "outputs": [
    {
     "data": {
      "text/plain": [
       "array([-1.00000000e+00, -9.99998837e-01, -9.99999943e-01, -9.99998308e-01,\n",
       "       -9.99995335e-01, -9.99997363e-01, -9.99984845e-01, -9.99990859e-01,\n",
       "       -9.99956653e-01, -9.99952378e-01, -9.99845492e-01, -9.99718081e-01,\n",
       "       -9.99205796e-01, -9.98014003e-01, -9.94166723e-01, -9.82512451e-01,\n",
       "       -9.45076364e-01, -8.37675131e-01, -6.17704294e-01, -3.62323050e-01,\n",
       "       -1.83151158e-01, -8.59284218e-02, -3.88227087e-02, -1.68218378e-02,\n",
       "       -7.19371608e-03, -2.88190215e-03, -1.21095431e-03, -4.18356468e-04,\n",
       "       -2.02194810e-04, -3.75981485e-05, -4.41921219e-05,  9.44223741e-06,\n",
       "       -1.65500378e-05,  9.51097350e-06, -7.58162961e-06,  4.24856223e-06,\n",
       "       -1.66925122e-06, -9.13789044e-07,  3.24497581e-06, -5.44620925e-06,\n",
       "        7.45626222e-06, -9.31598957e-06,  1.10095392e-05, -1.25608379e-05,\n",
       "        1.39280912e-05, -1.51729760e-05,  1.62358490e-05, -1.71712455e-05,\n",
       "        1.79398854e-05, -1.85492486e-05,  1.90255702e-05, -1.93345460e-05,\n",
       "        1.95085830e-05, -1.95345418e-05,  1.94194135e-05, -1.91392453e-05,\n",
       "        1.87415859e-05, -1.82029647e-05,  1.75106874e-05, -1.66978679e-05,\n",
       "        1.57447334e-05, -1.46691253e-05,  1.34492851e-05, -1.21207556e-05,\n",
       "        1.06813252e-05, -9.00085194e-06,  7.61060474e-06, -4.79088881e-06,\n",
       "        5.76058843e-06,  4.78286454e-06,  1.66174236e-05,  5.02745939e-05,\n",
       "        1.18917747e-04,  3.29363070e-04,  7.92788186e-04,  1.97354581e-03,\n",
       "        4.61691340e-03,  1.06635051e-02,  2.36607017e-02,  5.10676003e-02,\n",
       "        1.06075791e-01,  2.10745197e-01,  3.87913779e-01,  6.21813712e-01,\n",
       "        8.22469935e-01,  9.30485795e-01,  9.74083172e-01,  9.90010002e-01,\n",
       "        9.95951515e-01,  9.98209709e-01,  9.99172507e-01,  9.99569822e-01,\n",
       "        9.99774297e-01,  9.99866235e-01,  9.99923073e-01,  9.99955284e-01,\n",
       "        9.99974556e-01,  9.99990946e-01,  9.99995960e-01,  1.00000000e+00])"
      ]
     },
     "execution_count": 41,
     "metadata": {},
     "output_type": "execute_result"
    }
   ],
   "source": [
    "path.position(a, np.array([-1.        , -0.99949654, -0.99798668, -0.99547192, -0.99195481,\n",
    "       -0.98743889, -0.9819287 , -0.97542979, -0.9679487 , -0.95949297,\n",
    "       -0.95007112, -0.93969262, -0.92836793, -0.91610846, -0.90292654,\n",
    "       -0.88883545, -0.87384938, -0.85798341, -0.84125353, -0.82367658,\n",
    "       -0.80527026, -0.78605309, -0.76604444, -0.74526445, -0.72373404,\n",
    "       -0.70147489, -0.67850941, -0.65486073, -0.63055267, -0.60560969,\n",
    "       -0.58005691, -0.55392006, -0.52722547, -0.5       , -0.47227107,\n",
    "       -0.44406661, -0.41541501, -0.38634513, -0.35688622, -0.32706796,\n",
    "       -0.29692038, -0.26647381, -0.23575894, -0.20480667, -0.17364818,\n",
    "       -0.14231484, -0.1108382 , -0.07924996, -0.04758192, -0.01586596,\n",
    "        0.01586596,  0.04758192,  0.07924996,  0.1108382 ,  0.14231484,\n",
    "        0.17364818,  0.20480667,  0.23575894,  0.26647381,  0.29692038,\n",
    "        0.32706796,  0.35688622,  0.38634513,  0.41541501,  0.44406661,\n",
    "        0.47227107,  0.5       ,  0.52722547,  0.55392006,  0.58005691,\n",
    "        0.60560969,  0.63055267,  0.65486073,  0.67850941,  0.70147489,\n",
    "        0.72373404,  0.74526445,  0.76604444,  0.78605309,  0.80527026,\n",
    "        0.82367658,  0.84125353,  0.85798341,  0.87384938,  0.88883545,\n",
    "        0.90292654,  0.91610846,  0.92836793,  0.93969262,  0.95007112,\n",
    "        0.95949297,  0.9679487 ,  0.97542979,  0.9819287 ,  0.98743889,\n",
    "        0.99195481,  0.99547192,  0.99798668,  0.99949654,  1.          ]))"
   ]
  },
  {
   "cell_type": "code",
   "execution_count": null,
   "metadata": {},
   "outputs": [],
   "source": []
  }
 ],
 "metadata": {
  "kernelspec": {
   "display_name": "Python 3",
   "language": "python",
   "name": "python3"
  },
  "language_info": {
   "codemirror_mode": {
    "name": "ipython",
    "version": 3
   },
   "file_extension": ".py",
   "mimetype": "text/x-python",
   "name": "python",
   "nbconvert_exporter": "python",
   "pygments_lexer": "ipython3",
   "version": "3.7.0"
  }
 },
 "nbformat": 4,
 "nbformat_minor": 2
}
