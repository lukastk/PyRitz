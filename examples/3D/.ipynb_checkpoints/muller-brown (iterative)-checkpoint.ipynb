{
 "cells": [
  {
   "cell_type": "markdown",
   "metadata": {},
   "source": [
    "### Eggers model\n",
    "\n",
    "From \\[J. Atm. Sc. 38, 12 (1981)\\]. The following SDE is a rudimentary model for central European weather\n",
    "\n",
    "\n",
    "\\begin{aligned}\n",
    "    da =& kb(U-\\beta/k^2)\\,dt - \\gamma a\\,dt + \\sqrt{\\epsilon} dW_a\\,,\\\\\n",
    "    db =& -ka(U-\\beta/k^2)\\,dt + UH/k\\,dt \\\\&- \\gamma b\\,dt \n",
    "    + \\sqrt{\\epsilon} dW_b\\,,\\\\\n",
    "    dU =& -bHk/2\\,dt-\\gamma(U-U_0)\\,dt + \\sqrt{\\epsilon} dW_U\\,.\n",
    "\\end{aligned}\n",
    "\n",
    "We write this as\n",
    "\n",
    "\\begin{aligned}\n",
    "    d X = f dt + \\sqrt{\\epsilon} \\sigma d W\n",
    "\\end{aligned}\n",
    "\n",
    "with\n",
    "\n",
    "\\begin{aligned}\n",
    "    & X = (a, b, U)^T \\\\\n",
    "    & f = \\begin{pmatrix} kb(U - \\beta / k^2) - \\gamma a \\\\ -ka(U - \\beta^2 / k^2) + UH/k - \\gamma b \\\\ -b H k / 2 - \\gamma(U  - U_0) \\end{pmatrix} \\\\\n",
    "    & W = (W_a, W_b, W_U)^T \\\\\n",
    "    & \\sigma = I\n",
    "\\end{aligned}\n",
    "\n",
    "and then a standard result in Large Deviation Theory \\[Touchette 2009\\] is the Lagrangian\n",
    "\n",
    "\\begin{aligned}\n",
    "    L = \\frac{1}{2} |\\dot{x} - f|^2\n",
    "\\end{aligned}"
   ]
  },
  {
   "cell_type": "code",
   "execution_count": 3,
   "metadata": {},
   "outputs": [
    {
     "data": {
      "text/plain": [
       "['',\n",
       " '/mhome/damtp/t/ltk26/dev/pyritz/pyritz/examples/3D',\n",
       " '/mhome/damtp/t/ltk26/dev/pyritz/pyritz/examples/3D',\n",
       " '/home/ltk26/scratch/install/lib/python3.7/site-packages',\n",
       " '/local/scratch/public/ltk26/anaconda3/lib/python37.zip',\n",
       " '/local/scratch/public/ltk26/anaconda3/lib/python3.7',\n",
       " '/local/scratch/public/ltk26/anaconda3/lib/python3.7/lib-dynload',\n",
       " '/local/scratch/public/ltk26/anaconda3/lib/python3.7/site-packages',\n",
       " '/local/scratch/public/ltk26/anaconda3/lib/python3.7/site-packages/IPython/extensions',\n",
       " '/mhome/damtp/t/ltk26/.ipython']"
      ]
     },
     "execution_count": 3,
     "metadata": {},
     "output_type": "execute_result"
    }
   ],
   "source": [
    "%matplotlib notebook\n",
    "import numpy as np    \n",
    "from scipy.optimize import minimize   \n",
    "from scipy.optimize import root\n",
    "from scipy.interpolate import interp1d\n",
    "from scipy.signal import savgol_filter\n",
    "\n",
    "import pyritz   \n",
    "import nlopt\n",
    "\n",
    "import matplotlib as mpl\n",
    "import matplotlib.pyplot as plt   \n",
    "from mpl_toolkits.mplot3d import Axes3D\n",
    "\n",
    "import sys\n",
    "sys.path"
   ]
  },
  {
   "cell_type": "markdown",
   "metadata": {},
   "source": [
    "#### Parameters"
   ]
  },
  {
   "cell_type": "code",
   "execution_count": 7,
   "metadata": {},
   "outputs": [],
   "source": [
    "A  = [-200,-100,-170,15]\n",
    "a  = [-1,-1,-6.5,.7]\n",
    "b  = [0,0,11,.6]\n",
    "c  = [-10,-10,-6.5,.7]\n",
    "x0 = [1,0,-.5,-1]\n",
    "y0 = [0,.5,1.5,1]\n",
    "\n",
    "Nq = 30\n",
    "Nm = 4\n",
    "d = 2"
   ]
  },
  {
   "cell_type": "markdown",
   "metadata": {},
   "source": [
    "#### Functions"
   ]
  },
  {
   "cell_type": "code",
   "execution_count": 10,
   "metadata": {},
   "outputs": [],
   "source": [
    "def f_flow(x, y):\n",
    "    fx=x*0\n",
    "    for i in range(4):\n",
    "        dd = a[i]*(x-x0[i])**2 + b[i]*(x-x0[i])*(y-y0[i]) + c[i]*(y-y0[i])**2\n",
    "        fx += -A[i]*np.exp(dd)*(2*a[i]*(x-x0[i])+b[i]*(y-y0[i])) \n",
    "    fy=x*0\n",
    "    for i in range(4):\n",
    "        dd = a[i]*(x-x0[i])**2 + b[i]*(x-x0[i])*(y-y0[i]) + c[i]*(y-y0[i])**2\n",
    "        fy += -A[i]*np.exp(dd)*(2*c[i]*(y-y0[i])+b[i]*(x-x0[i])) \n",
    "        \n",
    "    return (fx, fy)\n",
    "\n",
    "def lagrangianFW(x,v,Nq):\n",
    "    '''\n",
    "    This is the Freidlin-Wentzell Lagrangian as implemented by Rajesh\n",
    "    ''';\n",
    "    xx=x[0:Nq]; yy=x[Nq:2*Nq]\n",
    "    vx=v[0:Nq]; vy=v[Nq:2*Nq]\n",
    "    \n",
    "    fx, fy = f_flow(xx, yy)\n",
    "    \n",
    "    lg1 = vx - fx; \n",
    "    lg2 = vy - fy;\n",
    "    return (lg1*lg1 + lg2*lg2) \n",
    "\n",
    "\n",
    "def lagrangianOM(x,v,Nq):\n",
    "    '''\n",
    "    This Onsager-Machlup Lagrangian implementation is based on the\n",
    "    Freidlin-Wentzell Lagrangian as implemented by Rajesh\n",
    "    ''';\n",
    "    xx=x[0:Nq]; yy=x[Nq:2*Nq]\n",
    "    vx=v[0:Nq]; vy=v[Nq:2*Nq]\n",
    "    A  = [-200,-100,-170,15]\n",
    "    a  = [-1,-1,-6.5,.7]\n",
    "    b  = [0,0,11,.6]\n",
    "    c  = [-10,-10,-6.5,.7]\n",
    "    x0 = [1,0,-.5,-1]\n",
    "    y0 = [0,.5,1.5,1]\n",
    "    \n",
    "    fx=xx*0\n",
    "    divfx=xx*0\n",
    "    for i in range(4):\n",
    "        dd = a[i]*(xx-x0[i])**2 + b[i]*(xx-x0[i])*(yy-y0[i]) + c[i]*(yy-y0[i])**2\n",
    "        fx += -A[i]*np.exp(dd)*(2*a[i]*(xx-x0[i])+b[i]*(yy-y0[i])) \n",
    "        divfx += -A[i]*np.exp(dd)*( (2*a[i]*(xx-x0[i])+b[i]*(yy-y0[i]))**2 + 2*a[i] )\n",
    "    fy=xx*0\n",
    "    divfy=xx*0\n",
    "    for i in range(4):\n",
    "        dd = a[i]*(xx-x0[i])**2 + b[i]*(xx-x0[i])*(yy-y0[i]) + c[i]*(yy-y0[i])**2\n",
    "        fy += -A[i]*np.exp(dd)*(2*c[i]*(yy-y0[i])+b[i]*(xx-x0[i])) \n",
    "        divfy += -A[i]*np.exp(dd)*( (2*c[i]*(yy-y0[i])+b[i]*(xx-x0[i]))**2 + 2*c[i] )\n",
    "        \n",
    "    lg1 = vx - fx; \n",
    "    lg2 = vy - fy;\n",
    "    return (lg1*lg1 + lg2*lg2) + divfx + divfy\n",
    "\n",
    "def find_instanton(lagrangian, x_start, x_end, Nm, Nq, d, a0=None):\n",
    "    path = pyritz.expansion.Instanton(x_start, x_end, lagrangian, Nq)\n",
    "    \n",
    "    def get_action(a, grad):\n",
    "        return path.action(a)\n",
    "    \n",
    "    if a0 is None:\n",
    "        a0 = np.zeros(Nm*d)\n",
    "        \n",
    "    opt = nlopt.opt(nlopt.LN_NEWUOA, np.size(a0))\n",
    "    opt.set_maxeval(1000)\n",
    "    opt.set_min_objective(get_action)\n",
    "    opt.set_xtol_rel(1e-12)\n",
    "    a = opt.optimize(a0)\n",
    "    \n",
    "    p = pyritz.expansion.Instanton(x_start, x_end, lagrangian, Nq)\n",
    "    xs = path.position(a1, np.linspace(-1,1,Nq))\n",
    "    \n",
    "    path = []\n",
    "    for i in range(d):\n",
    "        path.append(xs[i*Nq:(i+1)*Nq])\n",
    "\n",
    "    return (path, a)\n",
    "\n",
    "def find_caustic_instanton(lagrangian, x_start, x_end, x_mid0, Nm, Nq, d, a1=None, a2=None):\n",
    "    \n",
    "    # m[0:2] - x_mid\n",
    "    # m[2:2+Nm*np.size(x_start)] - Chebyshev coefficients for first half of path\n",
    "    # m[2+Nm*np.size(x_start):2+2*Nm*np.size(x_start)] - Chebyshev coefficients for second half of path\n",
    "    def optimization_func(m, x_start, x_end, Nm, Nq, d):\n",
    "        x_mid = m[0:d]\n",
    "        a1 = m[2:2+Nm*d]\n",
    "        a2 = m[2+Nm*d:2+2*Nm*d]\n",
    "\n",
    "        x1=x_start;  x2=x_mid;\n",
    "        path = pyritz.expansion.Instanton(x1, x2, lagrangian, Nq)\n",
    "        act1 = path.action(a1)\n",
    "\n",
    "        x1=x_mid;  x2=x_end;\n",
    "        path = pyritz.expansion.Instanton(x1, x2, lagrangian, Nq)\n",
    "        act2 = path.action(a2)\n",
    "\n",
    "        return act1+act2\n",
    "    \n",
    "    def get_action(m, grad):\n",
    "        return optimization_func(m, x_start, x_end, Nm, Nq, d)\n",
    "    \n",
    "    if a1 is None:\n",
    "        a1 = np.zeros(Nm*d)\n",
    "    if a2 is None:\n",
    "        a2 = np.zeros(Nm*d)\n",
    "        \n",
    "    m0 = np.concatenate( (x_mid0 , a1, a2) )\n",
    "        \n",
    "    opt = nlopt.opt(nlopt.LN_NEWUOA, np.size(m0))\n",
    "    opt.set_maxeval(1000)\n",
    "    opt.set_min_objective(get_action)\n",
    "    opt.set_xtol_rel(1e-12)\n",
    "    mF = opt.optimize(m0)\n",
    "\n",
    "    x_mid = mF[0:d]\n",
    "    a1 = mF[d:d+Nm*d]\n",
    "    a2 = mF[d+Nm*d:d+2*Nm*d]\n",
    "\n",
    "    path = pyritz.expansion.Instanton(x_start, x_mid, lagrangian, Nq)\n",
    "    xF1 = path.position(a1, np.linspace(-1,1,Nq))\n",
    "    path = pyritz.expansion.Instanton(x_mid, x_end, lagrangian, Nq)\n",
    "    xF2 = path.position(a2, np.linspace(-1,1,Nq))\n",
    "\n",
    "    path = []\n",
    "    for i in range(d):\n",
    "        path.append( np.concatenate( ( xF1[i*Nq:(i+1)*Nq], xF2[i*Nq:(i+1)*Nq] ) ) )\n",
    "    \n",
    "    return (path, x_mid, a1, a2)\n",
    "\n",
    "def find_caustic_instanton_iteratively(lagrangian, x_start, x_end, x_mid0, Nm_start, Nm_end, Nq, d):\n",
    "    a1 = np.zeros(Nm_start*d)\n",
    "    a2 = np.zeros(Nm_start*d)\n",
    "    \n",
    "    history = []\n",
    "    \n",
    "    for Nm in range(Nm_start, Nm_end + 1):\n",
    "        print(\"Nm: \" + str(Nm))\n",
    "        \n",
    "        path, x_mid, a1, a2 = find_caustic_instanton(lagrangian, x_start, x_end, x_mid0, Nm, Nq, d, a1, a2)\n",
    "        history.append( (path, x_mid, a1, a2) )\n",
    "        \n",
    "        if Nm != Nm_end:\n",
    "            a1 = np.insert(a1, list(range(Nm,d*Nm+1, Nm)), np.zeros(d))\n",
    "            a2 = np.insert(a2, list(range(Nm,d*Nm+1, Nm)), np.zeros(d))\n",
    "            \n",
    "    return (path, x_mid, a1, a2, history)"
   ]
  },
  {
   "cell_type": "markdown",
   "metadata": {},
   "source": [
    "##### Find smooth instanton between two points"
   ]
  },
  {
   "cell_type": "code",
   "execution_count": 12,
   "metadata": {
    "scrolled": false
   },
   "outputs": [
    {
     "ename": "NameError",
     "evalue": "name 'x_mid' is not defined",
     "output_type": "error",
     "traceback": [
      "\u001b[0;31m---------------------------------------------------------------------------\u001b[0m",
      "\u001b[0;31mNameError\u001b[0m                                 Traceback (most recent call last)",
      "\u001b[0;32m<ipython-input-12-e0c301239d40>\u001b[0m in \u001b[0;36m<module>\u001b[0;34m()\u001b[0m\n\u001b[1;32m      2\u001b[0m \u001b[0mx_end\u001b[0m\u001b[0;34m=\u001b[0m\u001b[0mnp\u001b[0m\u001b[0;34m.\u001b[0m\u001b[0marray\u001b[0m\u001b[0;34m(\u001b[0m\u001b[0;34m[\u001b[0m\u001b[0;36m0.6234994049\u001b[0m\u001b[0;34m,\u001b[0m \u001b[0;36m0.02803775853\u001b[0m\u001b[0;34m]\u001b[0m\u001b[0;34m)\u001b[0m\u001b[0;34m;\u001b[0m\u001b[0;34m\u001b[0m\u001b[0m\n\u001b[1;32m      3\u001b[0m \u001b[0;34m\u001b[0m\u001b[0m\n\u001b[0;32m----> 4\u001b[0;31m \u001b[0;34m(\u001b[0m\u001b[0mx\u001b[0m\u001b[0;34m,\u001b[0m \u001b[0my\u001b[0m\u001b[0;34m)\u001b[0m\u001b[0;34m,\u001b[0m \u001b[0ma\u001b[0m \u001b[0;34m=\u001b[0m \u001b[0mfind_instanton\u001b[0m\u001b[0;34m(\u001b[0m\u001b[0mlagrangianOM\u001b[0m\u001b[0;34m,\u001b[0m \u001b[0mx_start\u001b[0m\u001b[0;34m,\u001b[0m \u001b[0mx_end\u001b[0m\u001b[0;34m,\u001b[0m \u001b[0mNm\u001b[0m\u001b[0;34m,\u001b[0m \u001b[0mNq\u001b[0m\u001b[0;34m,\u001b[0m \u001b[0md\u001b[0m\u001b[0;34m)\u001b[0m\u001b[0;34m\u001b[0m\u001b[0m\n\u001b[0m\u001b[1;32m      5\u001b[0m \u001b[0;34m\u001b[0m\u001b[0m\n\u001b[1;32m      6\u001b[0m \u001b[0mpath\u001b[0m \u001b[0;34m=\u001b[0m \u001b[0mpyritz\u001b[0m\u001b[0;34m.\u001b[0m\u001b[0mexpansion\u001b[0m\u001b[0;34m.\u001b[0m\u001b[0mInstanton\u001b[0m\u001b[0;34m(\u001b[0m\u001b[0mxa\u001b[0m\u001b[0;34m,\u001b[0m \u001b[0mxb\u001b[0m\u001b[0;34m,\u001b[0m \u001b[0mlagrangianOM\u001b[0m\u001b[0;34m,\u001b[0m \u001b[0mNq\u001b[0m\u001b[0;34m)\u001b[0m\u001b[0;34m\u001b[0m\u001b[0m\n",
      "\u001b[0;32m<ipython-input-10-506433ddea30>\u001b[0m in \u001b[0;36mfind_instanton\u001b[0;34m(lagrangian, x_start, x_end, Nm, Nq, d, a0)\u001b[0m\n\u001b[1;32m     71\u001b[0m     \u001b[0ma\u001b[0m \u001b[0;34m=\u001b[0m \u001b[0mopt\u001b[0m\u001b[0;34m.\u001b[0m\u001b[0moptimize\u001b[0m\u001b[0;34m(\u001b[0m\u001b[0ma0\u001b[0m\u001b[0;34m)\u001b[0m\u001b[0;34m\u001b[0m\u001b[0m\n\u001b[1;32m     72\u001b[0m \u001b[0;34m\u001b[0m\u001b[0m\n\u001b[0;32m---> 73\u001b[0;31m     \u001b[0mp\u001b[0m \u001b[0;34m=\u001b[0m \u001b[0mpyritz\u001b[0m\u001b[0;34m.\u001b[0m\u001b[0mexpansion\u001b[0m\u001b[0;34m.\u001b[0m\u001b[0mInstanton\u001b[0m\u001b[0;34m(\u001b[0m\u001b[0mx_start\u001b[0m\u001b[0;34m,\u001b[0m \u001b[0mx_mid\u001b[0m\u001b[0;34m,\u001b[0m \u001b[0mlagrangian\u001b[0m\u001b[0;34m,\u001b[0m \u001b[0mNq\u001b[0m\u001b[0;34m)\u001b[0m\u001b[0;34m\u001b[0m\u001b[0m\n\u001b[0m\u001b[1;32m     74\u001b[0m     \u001b[0mxs\u001b[0m \u001b[0;34m=\u001b[0m \u001b[0mpath\u001b[0m\u001b[0;34m.\u001b[0m\u001b[0mposition\u001b[0m\u001b[0;34m(\u001b[0m\u001b[0ma1\u001b[0m\u001b[0;34m,\u001b[0m \u001b[0mnp\u001b[0m\u001b[0;34m.\u001b[0m\u001b[0mlinspace\u001b[0m\u001b[0;34m(\u001b[0m\u001b[0;34m-\u001b[0m\u001b[0;36m1\u001b[0m\u001b[0;34m,\u001b[0m\u001b[0;36m1\u001b[0m\u001b[0;34m,\u001b[0m\u001b[0mNq\u001b[0m\u001b[0;34m)\u001b[0m\u001b[0;34m)\u001b[0m\u001b[0;34m\u001b[0m\u001b[0m\n\u001b[1;32m     75\u001b[0m \u001b[0;34m\u001b[0m\u001b[0m\n",
      "\u001b[0;31mNameError\u001b[0m: name 'x_mid' is not defined"
     ]
    }
   ],
   "source": [
    "x_start=np.array([-0.5582236346, 1.441725842]);    \n",
    "x_end=np.array([0.6234994049, 0.02803775853]); \n",
    "\n",
    "(x, y), a = find_instanton(lagrangianOM, x_start, x_end, Nm, Nq, d)\n",
    "\n",
    "path = pyritz.expansion.Instanton(xa, xb, lagrangianOM, Nq)\n",
    "print(path.action(a))"
   ]
  },
  {
   "cell_type": "code",
   "execution_count": null,
   "metadata": {},
   "outputs": [],
   "source": [
    "plt.plot(x, y)\n",
    "#plt.plot(x_i, y_i)\n",
    "\n",
    "X, Y = np.meshgrid(np.linspace(-1,1,64), np.linspace(-0.5,2,64))\n",
    "vx,vy=f_flow(X,Y); vx=vx/np.sqrt(vx**2+vy**2); vy=vy/np.sqrt(vx**2+vy**2)\n",
    "plt.streamplot(X,Y, vx, vy, density=1.7, linewidth=.6, color='gray');"
   ]
  },
  {
   "cell_type": "markdown",
   "metadata": {},
   "source": [
    "##### Find instanton with discontinuos velocity between two points\n",
    "\n",
    "Finds the instanton between x_start and x_end, allowing for a single discontinuity in the velocity along the path."
   ]
  },
  {
   "cell_type": "code",
   "execution_count": 70,
   "metadata": {},
   "outputs": [],
   "source": [
    "x_start=np.array([-0.5582236346, 1.441725842]);    \n",
    "x_end=np.array([0.6234994049, 0.02803775853]); \n",
    "x_mid0 = np.array([0, 0]); \n",
    "\n",
    "(x, y), x_mid, a1, a2 =  find_caustic_instanton(lagrangianOM, x_start, x_end, x_mid0, Nm, Nq, d, a1=a1, a2=a2)"
   ]
  },
  {
   "cell_type": "code",
   "execution_count": null,
   "metadata": {},
   "outputs": [],
   "source": [
    "plt.plot(x, y)\n",
    "#plt.plot(x_i, y_i)\n",
    "\n",
    "X, Y = np.meshgrid(np.linspace(-1.2,1.2,64), np.linspace(-0.4,.4,64))\n",
    "vx,vy=f_flow(X,Y); vx=vx/np.sqrt(vx**2+vy**2); vy=vy/np.sqrt(vx**2+vy**2)\n",
    "plt.streamplot(X,Y, vx, vy, density=1.7, linewidth=.6, color='gray');"
   ]
  }
 ],
 "metadata": {
  "kernelspec": {
   "display_name": "Python 3",
   "language": "python",
   "name": "python3"
  },
  "language_info": {
   "codemirror_mode": {
    "name": "ipython",
    "version": 3
   },
   "file_extension": ".py",
   "mimetype": "text/x-python",
   "name": "python",
   "nbconvert_exporter": "python",
   "pygments_lexer": "ipython3",
   "version": "3.7.0"
  }
 },
 "nbformat": 4,
 "nbformat_minor": 2
}
