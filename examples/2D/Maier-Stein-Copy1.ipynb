{
 "cells": [
  {
   "cell_type": "markdown",
   "metadata": {},
   "source": [
    "# Computing the instanton of the Catenary"
   ]
  },
  {
   "cell_type": "markdown",
   "metadata": {},
   "source": [
    "## Import statements"
   ]
  },
  {
   "cell_type": "code",
   "execution_count": 1,
   "metadata": {},
   "outputs": [],
   "source": [
    "# Modify path environment variables to search for the local Pyritz and NLopt installations in the repository.\n",
    "\n",
    "import os, sys\n",
    "\n",
    "pyritz_dir = \"/\".join(os.getcwd().split(\"/\")[:-2])\n",
    "nlopt_lib_dir = \":%s/nlopt/lib\" % pyritz_dir\n",
    "nlopt_py_dir = \"%s/nlopt/nlopt_py\" % pyritz_dir\n",
    "\n",
    "os.environ['LD_LIBRARY_PATH'] = nlopt_lib_dir + os.environ['LD_LIBRARY_PATH']\n",
    "sys.path.insert(0, nlopt_py_dir)\n",
    "sys.path.insert(0, pyritz_dir)\n",
    "\n",
    "# Import statements\n",
    "\n",
    "import pyritz\n",
    "\n",
    "import numpy as np\n",
    "import matplotlib.pyplot as plt\n",
    "import matplotlib as mpl\n",
    "import nlopt"
   ]
  },
  {
   "cell_type": "markdown",
   "metadata": {},
   "source": [
    "## Define system"
   ]
  },
  {
   "cell_type": "markdown",
   "metadata": {},
   "source": [
    "#### System:\n",
    "\n",
    "$$\n",
    "dX = a(X)dt + \\sqrt{\\epsilon} dW.\n",
    "$$\n",
    "\n",
    "where $x = (u, v)$ and\n",
    "\n",
    "$$\n",
    "a(u, v) =\n",
    "\\begin{pmatrix}\n",
    "u - u^3 - \\beta u v^2 \\\\\n",
    "-(1 + u^2) v\n",
    "\\end{pmatrix}\n",
    "$$\n",
    "\n",
    "and\n",
    "\n",
    "$$\n",
    "\\nabla a = \\begin{pmatrix}\n",
    "    1 - 3 u^2 - \\beta v^2 &  -2 u v \\\\\n",
    "    - 2 \\beta u v & - (1 + u^2)\n",
    "\\end{pmatrix}\n",
    "$$\n",
    "\n",
    "where $(\\nabla a)_{ij} = \\frac{\\partial a_i}{\\partial x_j}$.\n",
    "\n",
    "#### Lagrangian:\n",
    "\n",
    "$$\n",
    "L(x, \\dot x) = |\\dot x| |a(x)| - \\dot x \\cdot a(x)\n",
    "$$\n",
    "\n",
    "#### Derivatives of the Lagrangian:\n",
    "\n",
    "$$\\begin{aligned}\n",
    "\\frac{\\partial L}{\\partial x} & = \\nabla a( x ) \\cdot \\left( |\\dot x| \\hat{a}(x) - \\dot x \\right) \\\\\n",
    "\\frac{\\partial L}{\\partial \\dot x} & = |a(x)| \\hat{\\dot{x}} - a(x)\n",
    "\\end{aligned}$$"
   ]
  },
  {
   "cell_type": "code",
   "execution_count": 17,
   "metadata": {},
   "outputs": [],
   "source": [
    "# System parameters\n",
    "\n",
    "g = -9.82\n",
    "y1 = \n",
    "\n",
    "# System Lagrangian\n",
    "\n",
    "def lagrangian(ls, dxls, dvls, path, ts, args):\n",
    "    ys, dys = path\n",
    "    ls[:] = np.sqrt(1 + dys*dys) / (2*g*(y1 - ys))\n",
    "    print((1+4*vs*vs)/(-2*10*xs))"
   ]
  },
  {
   "cell_type": "markdown",
   "metadata": {},
   "source": [
    "## Computing the instanton"
   ]
  },
  {
   "cell_type": "markdown",
   "metadata": {},
   "source": [
    "### Gradient-based optimisation"
   ]
  },
  {
   "cell_type": "code",
   "execution_count": 18,
   "metadata": {},
   "outputs": [
    {
     "name": "stdout",
     "output_type": "stream",
     "text": [
      "[[-0.03240271 -0.03240271 -0.03240271 -0.03240271 -0.03240271 -0.03240271\n",
      "  -0.03240271 -0.03240271 -0.03240271 -0.03240271 -0.03240271 -0.03240271\n",
      "  -0.03240271 -0.03240271 -0.03240271 -0.03240271 -0.03240271 -0.03240271\n",
      "  -0.03240271 -0.03240271 -0.03240271 -0.03240271 -0.03240271 -0.03240271\n",
      "  -0.03240271 -0.03240271 -0.03240271 -0.03240271 -0.03240271 -0.03240271\n",
      "  -0.03240271 -0.03240271 -0.03240271 -0.03240271 -0.03240271 -0.03240271\n",
      "  -0.03240271 -0.03240271 -0.03240271 -0.03240271 -0.03240271 -0.03240271\n",
      "  -0.03240271 -0.03240271 -0.03240271 -0.03240271 -0.03240271 -0.03240271\n",
      "  -0.03240271 -0.03240271 -0.03240271 -0.03240271 -0.03240271 -0.03240271\n",
      "  -0.03240271 -0.03240271 -0.03240271 -0.03240271 -0.03240271 -0.03240271\n",
      "  -0.03240271 -0.03240271 -0.03240271 -0.03240271 -0.03240271 -0.03240271\n",
      "  -0.03240271 -0.03240271 -0.03240271 -0.03240271 -0.03240271 -0.03240271\n",
      "  -0.03240271 -0.03240271 -0.03240271 -0.03240271 -0.03240271 -0.03240271\n",
      "  -0.03240271 -0.03240271 -0.03240271]]\n",
      "[[-0.03240271 -0.03240271 -0.03240271 -0.03240271 -0.03240271 -0.03240271\n",
      "  -0.03240271 -0.03240271 -0.03240271 -0.03240271 -0.03240271 -0.03240271\n",
      "  -0.03240271 -0.03240271 -0.03240271 -0.03240271 -0.03240271 -0.03240271\n",
      "  -0.03240271 -0.03240271 -0.03240271 -0.03240271 -0.03240271 -0.03240271\n",
      "  -0.03240271 -0.03240271 -0.03240271 -0.03240271 -0.03240271 -0.03240271\n",
      "  -0.03240271 -0.03240271 -0.03240271 -0.03240271 -0.03240271 -0.03240271\n",
      "  -0.03240271 -0.03240271 -0.03240271 -0.03240271 -0.03240271 -0.03240271\n",
      "  -0.03240271 -0.03240271 -0.03240271 -0.03240271 -0.03240271 -0.03240271\n",
      "  -0.03240271 -0.03240271 -0.03240271 -0.03240271 -0.03240271 -0.03240271\n",
      "  -0.03240271 -0.03240271 -0.03240271 -0.03240271 -0.03240271 -0.03240271\n",
      "  -0.03240271 -0.03240271 -0.03240271 -0.03240271 -0.03240271 -0.03240271\n",
      "  -0.03240271 -0.03240271 -0.03240271 -0.03240271 -0.03240271 -0.03240271\n",
      "  -0.03240271 -0.03240271 -0.03240271 -0.03240271 -0.03240271 -0.03240271\n",
      "  -0.03240271 -0.03240271 -0.03240271]]\n",
      "S[alpha0] = nan\n",
      "[[-0.03240271 -0.03240271 -0.03240271 -0.03240271 -0.03240271 -0.03240271\n",
      "  -0.03240271 -0.03240271 -0.03240271 -0.03240271 -0.03240271 -0.03240271\n",
      "  -0.03240271 -0.03240271 -0.03240271 -0.03240271 -0.03240271 -0.03240271\n",
      "  -0.03240271 -0.03240271 -0.03240271 -0.03240271 -0.03240271 -0.03240271\n",
      "  -0.03240271 -0.03240271 -0.03240271 -0.03240271 -0.03240271 -0.03240271\n",
      "  -0.03240271 -0.03240271 -0.03240271 -0.03240271 -0.03240271 -0.03240271\n",
      "  -0.03240271 -0.03240271 -0.03240271 -0.03240271 -0.03240271 -0.03240271\n",
      "  -0.03240271 -0.03240271 -0.03240271 -0.03240271 -0.03240271 -0.03240271\n",
      "  -0.03240271 -0.03240271 -0.03240271 -0.03240271 -0.03240271 -0.03240271\n",
      "  -0.03240271 -0.03240271 -0.03240271 -0.03240271 -0.03240271 -0.03240271\n",
      "  -0.03240271 -0.03240271 -0.03240271 -0.03240271 -0.03240271 -0.03240271\n",
      "  -0.03240271 -0.03240271 -0.03240271 -0.03240271 -0.03240271 -0.03240271\n",
      "  -0.03240271 -0.03240271 -0.03240271 -0.03240271 -0.03240271 -0.03240271\n",
      "  -0.03240271 -0.03240271 -0.03240271]]\n",
      "S[alpha]  = nan\n"
     ]
    },
    {
     "name": "stderr",
     "output_type": "stream",
     "text": [
      "/store/SOFT/ltk26/anaconda3/lib/python3.7/site-packages/ipykernel_launcher.py:5: RuntimeWarning: invalid value encountered in sqrt\n",
      "  \"\"\"\n"
     ]
    }
   ],
   "source": [
    "x1 = np.cosh(-1); x2 = np.cosh(1)\n",
    "\n",
    "n = 8\n",
    "nq = n*10\n",
    "\n",
    "alpha0 = pyritz.interpolation.utils.linear_path(x1, x2, n)\n",
    "\n",
    "path = pyritz.interpolation.Path(lagrangian, n, nq, x1, x2)\n",
    "\n",
    "opt = nlopt.opt(nlopt.LD_SLSQP, np.size(alpha0))\n",
    "opt.set_min_objective(path.action)\n",
    "opt.set_xtol_rel(1e-16)\n",
    "alpha = opt.optimize(alpha0)\n",
    "\n",
    "print(\"S[alpha0] = %s\" % path.action(alpha0))\n",
    "print(\"S[alpha]  = %s\" % path.action(alpha))"
   ]
  },
  {
   "cell_type": "code",
   "execution_count": null,
   "metadata": {},
   "outputs": [],
   "source": [
    "np.size(2)"
   ]
  },
  {
   "cell_type": "markdown",
   "metadata": {},
   "source": [
    "#### Instanton plot"
   ]
  },
  {
   "cell_type": "code",
   "execution_count": null,
   "metadata": {},
   "outputs": [],
   "source": [
    "ts = np.linspace(-1, 1, 1000)\n",
    "\n",
    "paths = [\n",
    "    (path.get_alpha_with_endpoints(alpha0), \"Initial\"),\n",
    "    (path.get_alpha_with_endpoints(alpha), \"Final\")\n",
    "]\n",
    "\n",
    "for _alpha, _label in paths:\n",
    "    xs = pyritz.interpolation.utils.interpolate(_alpha, n, ts)\n",
    "    plt.plot(xs[0,:], xs[1,:], label=_label)\n",
    "\n",
    "X, Y = np.meshgrid(np.linspace(-1.2,1.2,64), np.linspace(-0.4,.4,64))\n",
    "sax,say=system_a(X,Y); sax=sax/np.sqrt(sax**2+say**2); say=say/np.sqrt(sax**2+say**2)\n",
    "plt.streamplot(X,Y, sax, say, density=1.7, linewidth=.6, color='gray');\n",
    "plt.legend()\n",
    "\n",
    "fig = mpl.pyplot.gcf()\n",
    "fig.set_size_inches(7, 7)"
   ]
  },
  {
   "cell_type": "markdown",
   "metadata": {},
   "source": [
    "### Gradient-free optimisation"
   ]
  },
  {
   "cell_type": "code",
   "execution_count": null,
   "metadata": {},
   "outputs": [],
   "source": [
    "x1 = e_xa\n",
    "x2 = e_xb\n",
    "\n",
    "n = 8\n",
    "nq = n*10\n",
    "\n",
    "path = pyritz.interpolation.Path(lagrangian, n, nq, x1, x2)\n",
    "alpha0 = pyritz.interpolation.utils.linear_path(x1, x2, n)\n",
    "\n",
    "def get_action(alpha, grad):\n",
    "    return path.action(alpha)\n",
    "\n",
    "opt = nlopt.opt(nlopt.LN_NEWUOA, np.size(alpha0))\n",
    "opt.set_min_objective(get_action)\n",
    "opt.set_xtol_rel(1e-16)\n",
    "alpha = opt.optimize(alpha0)\n",
    "\n",
    "print(\"S[alpha0] = %s\" % path.action(alpha0))\n",
    "print(\"S[alpha]  = %s\" % path.action(alpha))"
   ]
  },
  {
   "cell_type": "markdown",
   "metadata": {},
   "source": [
    "#### Instanton plot"
   ]
  },
  {
   "cell_type": "code",
   "execution_count": null,
   "metadata": {},
   "outputs": [],
   "source": [
    "ts = np.linspace(-1, 1, 1000)\n",
    "\n",
    "paths = [\n",
    "    (path.get_alpha_with_endpoints(alpha0), \"Initial\"),\n",
    "    (path.get_alpha_with_endpoints(alpha), \"Final\")\n",
    "]\n",
    "\n",
    "for _alpha, _label in paths:\n",
    "    xs = pyritz.interpolation.utils.interpolate(_alpha, n, ts)\n",
    "    plt.plot(xs[0,:], xs[1,:], label=_label)\n",
    "\n",
    "X, Y = np.meshgrid(np.linspace(-1.2,1.2,64), np.linspace(-0.4,.4,64))\n",
    "sax,say=system_a(X,Y); sax=sax/np.sqrt(sax**2+say**2); say=say/np.sqrt(sax**2+say**2)\n",
    "plt.streamplot(X,Y, sax, say, density=1.7, linewidth=.6, color='gray');\n",
    "plt.legend()\n",
    "\n",
    "fig = mpl.pyplot.gcf()\n",
    "fig.set_size_inches(7, 7)"
   ]
  }
 ],
 "metadata": {
  "kernelspec": {
   "display_name": "Python 3",
   "language": "python",
   "name": "python3"
  },
  "language_info": {
   "codemirror_mode": {
    "name": "ipython",
    "version": 3
   },
   "file_extension": ".py",
   "mimetype": "text/x-python",
   "name": "python",
   "nbconvert_exporter": "python",
   "pygments_lexer": "ipython3",
   "version": "3.7.3"
  }
 },
 "nbformat": 4,
 "nbformat_minor": 2
}
