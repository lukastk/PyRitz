{
 "cells": [
  {
   "cell_type": "markdown",
   "metadata": {},
   "source": [
    "# Maier-Stein\n",
    "\n",
    "**Lagrangian:** Geometric Action\n",
    "<br>\n",
    "**Implementation:** Cython\n",
    "\n",
    "**System:**\n",
    "\n",
    "$ \\begin{cases}\n",
    "du = (u - u^3 - \\beta u v^2)\\ dt + \\sqrt{\\epsilon}\\ dW_u \\\\\n",
    "dv = -(1 + u^2) v\\ dt + \\sqrt{\\epsilon}\\ dW_v\n",
    "\\end{cases}$"
   ]
  },
  {
   "cell_type": "code",
   "execution_count": 1,
   "metadata": {},
   "outputs": [],
   "source": [
    "%load_ext Cython\n",
    "\n",
    "sfdir = !pwd\n",
    "sfdir = \"/\".join(sfdir[0].split(\"/\")[:-3]) + \"/\"\n",
    "import sys\n",
    "sys.path.insert(0, sfdir+'pyritz/')\n",
    "\n",
    "import pyritz\n",
    "import numpy as np\n",
    "import matplotlib.pyplot as plt\n",
    "import matplotlib as mpl\n",
    "import nlopt"
   ]
  },
  {
   "cell_type": "markdown",
   "metadata": {},
   "source": [
    "## System"
   ]
  },
  {
   "cell_type": "markdown",
   "metadata": {},
   "source": [
    "### Dynamics\n",
    "\n",
    "`system_a` is the drift term of the system. It's used for plotting stream-plots, as well as finding fixed points of the deterministic system.\n",
    "\n",
    "`lagrangian` is the Lagrangian of the system. The Lagrangian used is the Geometric Action lagrangian (Heymann and Vanden-Eijnden), defined as\n",
    "\n",
    "$$\n",
    "L(x, \\dot x) = |\\dot x| |a(x)| - \\dot x \\cdot a(x)\n",
    "$$\n",
    "\n",
    "for any general Ito diffusion of the form\n",
    "\n",
    "$$\n",
    "dX = a(X)dt + \\sqrt{\\epsilon} dW.\n",
    "$$\n",
    "\n",
    "The function also computes the partial derivatives of the Lagrangian, which are used for gradient optimisation. This can be enabled/disabled by setting the *args* argument to True/False. The partial derivatives of the geometric lagrangian are\n",
    "\n",
    "$$\\begin{aligned}\n",
    "\\frac{\\partial L}{\\partial x} & = \\nabla a( x ) \\cdot \\left( |\\dot x| \\hat{a}(x) - \\dot x \\right) \\\\\n",
    "\\frac{\\partial L}{\\partial \\dot x} & = |a(x)| \\hat{\\dot{x}} - a(x)\n",
    "\\end{aligned}$$\n",
    "\n",
    "An important property of the geometric action is that it is time-reparameterisation invariant, meaning that $x$ can be replaced by any other path that shares the same *graph*."
   ]
  },
  {
   "cell_type": "markdown",
   "metadata": {},
   "source": [
    "#### Notes on the Maier-Stein system\n",
    "\n",
    "Let $(\\nabla a)_{ij} = \\frac{\\partial a_i}{\\partial x_j}$, where $x = (u, v)$, then\n",
    "\n",
    "$$\n",
    "\\nabla a = \\begin{pmatrix}\n",
    "    1 - 3 u^2 - \\beta v^2 &  -2 u v \\\\\n",
    "    - 2 \\beta u v & - (1 + u^2)\n",
    "\\end{pmatrix}\n",
    "$$"
   ]
  },
  {
   "cell_type": "code",
   "execution_count": 2,
   "metadata": {},
   "outputs": [],
   "source": [
    "dim = 2"
   ]
  },
  {
   "cell_type": "code",
   "execution_count": 3,
   "metadata": {},
   "outputs": [],
   "source": [
    "%%cython\n",
    "\n",
    "cimport cython\n",
    "from cpython cimport array\n",
    "from cython.view cimport array as cvarray\n",
    "from libc.stdio cimport printf\n",
    "from cython.parallel import prange\n",
    "from numpy.math cimport INFINITY\n",
    "import numpy as np\n",
    "from libc.math cimport sqrt, pow\n",
    "from cpython cimport bool\n",
    "\n",
    "# Parameters:\n",
    "# System parameters are defined here. All system parameter variables are prefaced with\n",
    "# \"m_\", with the exception of `dim` which is the dimension of the system.\n",
    "\n",
    "cdef int dim = 2\n",
    "cdef double m_beta = 10\n",
    "\n",
    "def system_a(u, v):\n",
    "    return np.array(   [u - np.power(u, 3) - m_beta * u * np.power(v, 2),\n",
    "                       -(1 + np.power(u, 2))*v])\n",
    "\n",
    "# Lagrangian helper variables:\n",
    "\n",
    "p_aus = None\n",
    "p_avs = None\n",
    "p_a_norm = None\n",
    "p_a_normalised = None\n",
    "p_dxs_norm = None\n",
    "p_das = None\n",
    "\n",
    "cdef double[:] aus\n",
    "cdef double[:] avs\n",
    "cdef double[:] a_norm\n",
    "cdef double[:, :] a_normalised\n",
    "cdef double[:] dxs_norm\n",
    "cdef double[:, :, :] das\n",
    "\n",
    "cpdef void initialize_lagrangian(int Nq):\n",
    "    global aus, avs, a_norm, a_normalised, dxs_norm, das\n",
    "    \n",
    "    p_aus = np.zeros(Nq)\n",
    "    p_avs = np.zeros(Nq)\n",
    "    p_a_norm = np.zeros(Nq)\n",
    "    p_a_normalised = np.zeros( (Nq, Nq) )\n",
    "    p_dxs_norm = np.zeros(Nq)\n",
    "    p_das = np.zeros( (dim, dim, Nq) )\n",
    "    \n",
    "    aus = p_aus\n",
    "    avs = p_avs\n",
    "    a_norm = p_a_norm\n",
    "    a_normalised = p_a_normalised\n",
    "    dxs_norm = p_dxs_norm\n",
    "    das = p_das\n",
    "\n",
    "@cython.boundscheck(False)  # Deactivate bounds checking\n",
    "@cython.wraparound(False)   # Deactivate negative indexing.\n",
    "@cython.nonecheck(False)\n",
    "@cython.cdivision(True)\n",
    "cdef void c_lagrangian(double[:] ls, double[:,:] dxls, double[:,:] dvls, double[:] us, double[:] vs,\n",
    "                        double[:] dus, double[:] dvs, double[:] ts, int Nq, bool compute_gradient):\n",
    "    cdef int i = 0\n",
    "    \n",
    "    for i in prange(Nq, nogil=True):\n",
    "        aus[i] = us[i] - pow(us[i],3) - m_beta * us[i] * pow(vs[i],2)\n",
    "        avs[i] = -(1 + pow(us[i],2))*vs[i]\n",
    "        \n",
    "        a_norm[i] = sqrt(pow(aus[i],2) + pow(avs[i],2))\n",
    "        dxs_norm[i] = sqrt(pow(dus[i],2) + pow(dvs[i],2))\n",
    "        \n",
    "        ls[i] = dxs_norm[i]*a_norm[i] - (aus[i]*dus[i] + avs[i]*dvs[i])\n",
    "    \n",
    "    # Compute gradient\n",
    "    \n",
    "    i = 0\n",
    "    cdef int j = 0\n",
    "    if compute_gradient:\n",
    "        \n",
    "        for i in prange(Nq, nogil=True):\n",
    "            ## Compute dL/dx\n",
    "\n",
    "            das[0, 0, i] = 1 - 3*us[i]**2 - m_beta*vs[i]**2\n",
    "            das[0, 1, i] =-2*us[i]*vs[i]\n",
    "            das[1, 0, i] = -2*m_beta*us[i]*vs[i]\n",
    "            das[1, 1, i] = -(1+us[i]**2)\n",
    "\n",
    "            if a_norm[i] != 0:\n",
    "                a_normalised[0, i] = aus[i]/a_norm[i]\n",
    "                a_normalised[1, i] = avs[i]/a_norm[i]\n",
    "            else:\n",
    "                a_normalised[0, i] = a_normalised[1, i] = 0\n",
    "\n",
    "            dxls[i, 0] = dxls[i, 1] = 0\n",
    "            for j in prange(dim):\n",
    "                dxls[i, j] += das[j, 0, i] * ( dxs_norm[i]*a_normalised[0,i] - dus[i] )\n",
    "                dxls[i, j] += das[j, 1, i] * ( dxs_norm[i]*a_normalised[1,i] - dvs[i] )\n",
    "\n",
    "            ## Compute dL/dv\n",
    "\n",
    "            dvls[i, 0] = dvls[i, 1] = 0\n",
    "            if dxs_norm[i] != 0:\n",
    "                dvls[i, 0] += dus[i]*a_norm[i]/dxs_norm[i]\n",
    "                dvls[i, 1] += dvs[i]*a_norm[i]/dxs_norm[i]\n",
    "                \n",
    "            dvls[i, 0] += - aus[i]\n",
    "            dvls[i, 1] += - avs[i]\n",
    "        \n",
    "cpdef lagrangian(ls, dxls, dvls, fvals, ts, args):\n",
    "    compute_lagrangian = args\n",
    "    \n",
    "    xs, dxs = fvals\n",
    "    us, vs = xs[:, 0], xs[:, 1]\n",
    "    dus, dvs = dxs[:, 0], dxs[:, 1]\n",
    "    Nq = len(ts)\n",
    "    \n",
    "    c_lagrangian(ls, dxls, dvls, us, vs, dus, dvs, ts, Nq, compute_lagrangian)"
   ]
  },
  {
   "cell_type": "markdown",
   "metadata": {},
   "source": [
    "### Find fixed points of the system"
   ]
  },
  {
   "cell_type": "code",
   "execution_count": 4,
   "metadata": {},
   "outputs": [
    {
     "name": "stdout",
     "output_type": "stream",
     "text": [
      "[-1.  0.] [1. 0.] [0. 0.]\n"
     ]
    }
   ],
   "source": [
    "from scipy.optimize import root\n",
    "\n",
    "e_xa = root(lambda x : system_a(x[0], x[1]), np.array([-1, 0])).x\n",
    "e_xb = root(lambda x : system_a(x[0], x[1]), np.array([1, 0])).x\n",
    "e_xs = root(lambda x : system_a(x[0], x[1]), np.array([0.1, 0.1])).x\n",
    "\n",
    "print(e_xa, e_xb, e_xs)"
   ]
  },
  {
   "cell_type": "markdown",
   "metadata": {},
   "source": [
    "## Optimisation"
   ]
  },
  {
   "cell_type": "markdown",
   "metadata": {},
   "source": [
    "### Gradient-free optimisation"
   ]
  },
  {
   "cell_type": "code",
   "execution_count": null,
   "metadata": {},
   "outputs": [],
   "source": [
    "x_start = e_xa\n",
    "x_end = e_xb\n",
    "\n",
    "Nm = 8\n",
    "Nq = Nm*10\n",
    "\n",
    "initialize_lagrangian(Nq)\n",
    "\n",
    "m0 = pyritz.funcs.CollocationFF.get_straight_line_path(x_start, x_end, Nm,\n",
    "                                    exclude_start_point=True, exclude_end_point=True)\n",
    "\n",
    "ff = pyritz.funcs.CollocationFF(Nm, dim, derivatives=1,\n",
    "                               fixed_start_point=x_start,\n",
    "                               fixed_end_point=x_end)\n",
    "\n",
    "quad_scheme = pyritz.quads.Q_clenshaw_curtis\n",
    "\n",
    "compute_gradient=False\n",
    "act = pyritz.Action(dim, ff, lagrangian, Nq, quad_scheme, lagrangian_args=compute_gradient)\n",
    "\n",
    "def get_action(m, grad):\n",
    "    return act.compute(m)\n",
    "\n",
    "opt = nlopt.opt(nlopt.LN_NEWUOA, np.size(m0))\n",
    "opt.set_min_objective(get_action)\n",
    "opt.set_xtol_rel(1e-12)\n",
    "#opt.set_maxeval(10000)\n",
    "m = opt.optimize(m0)\n",
    "\n",
    "print(act.compute(m0))\n",
    "print(act.compute(m))"
   ]
  },
  {
   "cell_type": "markdown",
   "metadata": {},
   "source": [
    "#### Instanton plot"
   ]
  },
  {
   "cell_type": "code",
   "execution_count": null,
   "metadata": {
    "scrolled": false
   },
   "outputs": [],
   "source": [
    "ts = np.linspace(-1, 1, 1000)\n",
    "\n",
    "paths = [\n",
    "    (m0, \"Initial\"),\n",
    "    (m, \"Final\")\n",
    "]\n",
    "\n",
    "for p in paths:\n",
    "    _m, _mlabel = p\n",
    "    xs, vs = ff.evaluate(_m, ts)\n",
    "    plt.plot(xs[:,0], xs[:,1], label=_mlabel)\n",
    "\n",
    "X, Y = np.meshgrid(np.linspace(-1.2,1.2,64), np.linspace(-0.4,.4,64))\n",
    "vx,vy=system_a(X,Y); vx=vx/np.sqrt(vx**2+vy**2); vy=vy/np.sqrt(vx**2+vy**2)\n",
    "plt.streamplot(X,Y, vx, vy, density=1.7, linewidth=.6, color='gray');\n",
    "plt.legend()\n",
    "\n",
    "fig = mpl.pyplot.gcf()\n",
    "fig.set_size_inches(7, 6)"
   ]
  },
  {
   "cell_type": "markdown",
   "metadata": {},
   "source": [
    "### Gradient optimisation"
   ]
  },
  {
   "cell_type": "code",
   "execution_count": null,
   "metadata": {},
   "outputs": [],
   "source": [
    "x_start = e_xa\n",
    "x_end = e_xb\n",
    "\n",
    "Nm = 8\n",
    "Nq = Nm*10\n",
    "\n",
    "m0 = pyritz.funcs.CollocationFF.get_straight_line_path(x_start, x_end, Nm,\n",
    "                                    exclude_start_point=True, exclude_end_point=True)\n",
    "m0 += (-1 + 2*np.random.random(len(m0)))*0.1 # Add some noise to initial path\n",
    "\n",
    "ff = pyritz.funcs.CollocationFF(Nm, dim, derivatives=1,\n",
    "                               fixed_start_point=x_start,\n",
    "                               fixed_end_point=x_end)\n",
    "\n",
    "quad_scheme = pyritz.quads.Q_clenshaw_curtis\n",
    "\n",
    "compute_gradient=True\n",
    "act = pyritz.Action(dim, ff, lagrangian, Nq, quad_scheme, lagrangian_args=compute_gradient)\n",
    "\n",
    "def get_action(m, grad):\n",
    "    if grad.size > 0:\n",
    "        return act.compute(m, grad)\n",
    "    else:\n",
    "        return act.compute(m)\n",
    "\n",
    "opt = nlopt.opt(nlopt.LD_SLSQP, np.size(m0))\n",
    "opt.set_min_objective(get_action)\n",
    "opt.set_xtol_rel(1e-12)\n",
    "m = opt.optimize(m0)\n",
    "\n",
    "print(act.compute(m0))\n",
    "print(act.compute(m))"
   ]
  },
  {
   "cell_type": "code",
   "execution_count": null,
   "metadata": {},
   "outputs": [],
   "source": [
    "ts = np.linspace(-1, 1, 1000)\n",
    "\n",
    "paths = [\n",
    "    (m0, \"Initial\"),\n",
    "    (m, \"Final\")\n",
    "]\n",
    "\n",
    "for p in paths:\n",
    "    _m, _mlabel = p\n",
    "    xs, vs = ff.evaluate(_m, ts)\n",
    "    plt.plot(xs[:,0], xs[:,1], label=_mlabel)\n",
    "\n",
    "X, Y = np.meshgrid(np.linspace(-1.2,1.2,64), np.linspace(-0.4,.4,64))\n",
    "vx,vy=system_a(X,Y); vx=vx/np.sqrt(vx**2+vy**2); vy=vy/np.sqrt(vx**2+vy**2)\n",
    "plt.streamplot(X,Y, vx, vy, density=1.7, linewidth=.6, color='gray');\n",
    "plt.legend()\n",
    "\n",
    "fig = mpl.pyplot.gcf()\n",
    "fig.set_size_inches(7, 7)"
   ]
  },
  {
   "cell_type": "markdown",
   "metadata": {},
   "source": [
    "## Iterative gradient optimisation"
   ]
  },
  {
   "cell_type": "code",
   "execution_count": null,
   "metadata": {},
   "outputs": [],
   "source": [
    "x_start = e_xa\n",
    "x_end = e_xb\n",
    "\n",
    "Nms = np.array( [8, 8] ).astype(int)\n",
    "Nqs = Nms*10\n",
    "\n",
    "m0 = pyritz.funcs.CollocationFF.get_straight_line_path(x_start, x_end, Nms[0],\n",
    "                                    exclude_start_point=True, exclude_end_point=True)\n",
    "m0 += (-1 + 2*np.random.random(len(m0)))*0.1 # Add some noise to initial path\n",
    "\n",
    "ff = pyritz.funcs.CollocationFF(Nms[0], dim, derivatives=1,\n",
    "                               fixed_start_point=x_start,\n",
    "                               fixed_end_point=x_end)\n",
    "quad_scheme = pyritz.quads.Q_clenshaw_curtis\n",
    "compute_gradient=True\n",
    "\n",
    "res = pyritz.utils.minimize_action_iteratively(Nms, Nqs, x_start, x_end, lagrangian, ff, quad_scheme, m0,\n",
    "                           nlopt.LD_SLSQP, lagrangian_args=compute_gradient,\n",
    "                           xtol_rel=1e-12)"
   ]
  },
  {
   "cell_type": "code",
   "execution_count": null,
   "metadata": {},
   "outputs": [],
   "source": [
    "ts = np.linspace(-1, 1, 1000)\n",
    "\n",
    "paths = [(m, \"Nm=%s\" % Nm, Nm) for m, S, Nm, Nq in res]\n",
    "\n",
    "for p in paths:\n",
    "    _m, _mlabel, _Nm = p\n",
    "    xs, vs = ff.evaluate_at_order(_m, ts, _Nm)\n",
    "    plt.plot(xs[:,0], xs[:,1], label=_mlabel)\n",
    "\n",
    "X, Y = np.meshgrid(np.linspace(-1.2,1.2,64), np.linspace(-0.4,.4,64))\n",
    "vx,vy=system_a(X,Y); vx=vx/np.sqrt(vx**2+vy**2); vy=vy/np.sqrt(vx**2+vy**2)\n",
    "plt.streamplot(X,Y, vx, vy, density=1.7, linewidth=.6, color='gray');\n",
    "plt.legend()\n",
    "\n",
    "fig = mpl.pyplot.gcf()\n",
    "fig.set_size_inches(7, 6)"
   ]
  },
  {
   "cell_type": "markdown",
   "metadata": {},
   "source": [
    "## Quasipotential"
   ]
  },
  {
   "cell_type": "code",
   "execution_count": 27,
   "metadata": {},
   "outputs": [],
   "source": [
    "import itertools\n",
    "\n",
    "def compute_quasipotential(coords, Nm, Nq, x_start, lagrangian, function_family,\n",
    "                           quadrature_scheme, m0_provider, nlopt_algorithm,\n",
    "                           lagrangian_args=None, maxeval=-1, xtol_rel=-1, verbose=True):\n",
    "    import time\n",
    "\n",
    "    cmins = list(map(min, coords))\n",
    "    cmaxs = list(map(max, coords))\n",
    "    qp_shape = list(map(len, coords))\n",
    "\n",
    "    indices = np.vstack(\n",
    "        [np.arange(0, n) for n in qp_shape]\n",
    "    )\n",
    "\n",
    "    qp = np.zeros( qp_shape )\n",
    "    count = 0\n",
    "    dt_avg = 0\n",
    "    m = None\n",
    "\n",
    "    for c in list(itertools.product(*indices)):\n",
    "        count += 1\n",
    "        t_start = time.time()\n",
    "        x_end = np.array( [ coords[i][c[i]] for i in range(len(c)) ] )\n",
    "        m0 = m0_provider(x_start, x_end, Nm, m)\n",
    "        m, S = pyritz.utils.minimize_action(Nm, Nq, x_start, x_end, lagrangian, function_family,\n",
    "            quadrature_scheme, m0, nlopt_algorithm, lagrangian_args, maxeval, xtol_rel)\n",
    "\n",
    "        qp[c] = S\n",
    "        t_end = time.time()\n",
    "\n",
    "        dt = t_end-t_start\n",
    "        dt_avg = ( (count-1)*dt_avg + dt )/count\n",
    "        time_left = np.round( dt_avg*( np.prod(qp_shape) - count )/(60*60), 2)\n",
    "\n",
    "        if verbose:\n",
    "            print(\"Time (h):\", time_left, \"Calcs left:\", np.prod(qp_shape) - count, \"S:\", qp[c], \"x_end:\", x_end, \"index:\", c)\n",
    "\n",
    "    print(\"Done.\")\n",
    "\n",
    "    return qp"
   ]
  },
  {
   "cell_type": "code",
   "execution_count": 28,
   "metadata": {},
   "outputs": [
    {
     "name": "stderr",
     "output_type": "stream",
     "text": [
      "/mhome/damtp/t/ltk26/dev/softbridge/pyritz/pyritz/funcs/collocation_ff.py:154: RuntimeWarning: divide by zero encountered in double_scalars\n",
      "  s += omegas[k] / (ts[i] - self.chebyshev_ts[k] )\n"
     ]
    },
    {
     "name": "stdout",
     "output_type": "stream",
     "text": [
      "(0, 0)\n",
      "Time (h): 0.03 Calcs left: 8 S: 0.7501066437046979 x_end: [-1.2 -0.4]\n",
      "(0, 1)\n",
      "Time (h): 0.03 Calcs left: 7 S: 0.09681625355992067 x_end: [-1.2  0. ]\n",
      "(0, 2)\n",
      "Time (h): 0.02 Calcs left: 6 S: 0.7501097700523262 x_end: [-1.2  0.4]\n",
      "(1, 0)\n",
      "Time (h): 0.01 Calcs left: 5 S: 0.42590802585495824 x_end: [ 0.  -0.4]\n",
      "(1, 1)\n",
      "Time (h): 0.01 Calcs left: 4 S: 0.34018486627186156 x_end: [0. 0.]\n"
     ]
    },
    {
     "ename": "KeyboardInterrupt",
     "evalue": "",
     "output_type": "error",
     "traceback": [
      "\u001b[0;31m---------------------------------------------------------------------------\u001b[0m",
      "\u001b[0;31mKeyboardInterrupt\u001b[0m                         Traceback (most recent call last)",
      "\u001b[0;32m<ipython-input-28-a40d2bf981a5>\u001b[0m in \u001b[0;36m<module>\u001b[0;34m()\u001b[0m\n\u001b[1;32m     31\u001b[0m \u001b[0;34m\u001b[0m\u001b[0m\n\u001b[1;32m     32\u001b[0m qp = compute_quasipotential([xs, ys], Nm, Nq, x_start, lagrangian, ff, quad_scheme,\n\u001b[0;32m---> 33\u001b[0;31m                       m0_provider, nlopt.LD_MMA, lagrangian_args=compute_gradient, xtol_rel=1e-12, maxeval=5000)\n\u001b[0m",
      "\u001b[0;32m<ipython-input-27-38e9eb0bc423>\u001b[0m in \u001b[0;36mcompute_quasipotential\u001b[0;34m(coords, Nm, Nq, x_start, lagrangian, function_family, quadrature_scheme, m0_provider, nlopt_algorithm, lagrangian_args, maxeval, xtol_rel, verbose)\u001b[0m\n\u001b[1;32m     25\u001b[0m         \u001b[0mm0\u001b[0m \u001b[0;34m=\u001b[0m \u001b[0mm0_provider\u001b[0m\u001b[0;34m(\u001b[0m\u001b[0mx_start\u001b[0m\u001b[0;34m,\u001b[0m \u001b[0mx_end\u001b[0m\u001b[0;34m,\u001b[0m \u001b[0mNm\u001b[0m\u001b[0;34m,\u001b[0m \u001b[0mm\u001b[0m\u001b[0;34m)\u001b[0m\u001b[0;34m\u001b[0m\u001b[0;34m\u001b[0m\u001b[0m\n\u001b[1;32m     26\u001b[0m         m, S = pyritz.utils.minimize_action(Nm, Nq, x_start, x_end, lagrangian, function_family,\n\u001b[0;32m---> 27\u001b[0;31m             quadrature_scheme, m0, nlopt_algorithm, lagrangian_args, maxeval, xtol_rel)\n\u001b[0m\u001b[1;32m     28\u001b[0m         \u001b[0mprint\u001b[0m\u001b[0;34m(\u001b[0m\u001b[0mc\u001b[0m\u001b[0;34m)\u001b[0m\u001b[0;34m\u001b[0m\u001b[0;34m\u001b[0m\u001b[0m\n\u001b[1;32m     29\u001b[0m \u001b[0;34m\u001b[0m\u001b[0m\n",
      "\u001b[0;32m/mhome/damtp/t/ltk26/dev/softbridge/pyritz/pyritz/utils.py\u001b[0m in \u001b[0;36mminimize_action\u001b[0;34m(Nm, Nq, x_start, x_end, lagrangian, function_family, quad_scheme, m0, nlopt_algorithm, lagrangian_args, maxeval, xtol_rel)\u001b[0m\n\u001b[1;32m     53\u001b[0m         \u001b[0mopt\u001b[0m\u001b[0;34m.\u001b[0m\u001b[0mset_maxeval\u001b[0m\u001b[0;34m(\u001b[0m\u001b[0mmaxeval\u001b[0m\u001b[0;34m)\u001b[0m\u001b[0;34m\u001b[0m\u001b[0;34m\u001b[0m\u001b[0m\n\u001b[1;32m     54\u001b[0m \u001b[0;34m\u001b[0m\u001b[0m\n\u001b[0;32m---> 55\u001b[0;31m     \u001b[0mm\u001b[0m \u001b[0;34m=\u001b[0m \u001b[0mopt\u001b[0m\u001b[0;34m.\u001b[0m\u001b[0moptimize\u001b[0m\u001b[0;34m(\u001b[0m\u001b[0mm0\u001b[0m\u001b[0;34m)\u001b[0m\u001b[0;34m\u001b[0m\u001b[0;34m\u001b[0m\u001b[0m\n\u001b[0m\u001b[1;32m     56\u001b[0m     \u001b[0mS\u001b[0m \u001b[0;34m=\u001b[0m \u001b[0mact\u001b[0m\u001b[0;34m.\u001b[0m\u001b[0mcompute\u001b[0m\u001b[0;34m(\u001b[0m\u001b[0mm\u001b[0m\u001b[0;34m)\u001b[0m\u001b[0;34m\u001b[0m\u001b[0;34m\u001b[0m\u001b[0m\n\u001b[1;32m     57\u001b[0m \u001b[0;34m\u001b[0m\u001b[0m\n",
      "\u001b[0;32m~/scratch/install/lib/python3.7/site-packages/nlopt.py\u001b[0m in \u001b[0;36moptimize\u001b[0;34m(self, *args)\u001b[0m\n\u001b[1;32m    505\u001b[0m \u001b[0;34m\u001b[0m\u001b[0m\n\u001b[1;32m    506\u001b[0m     \u001b[0;32mdef\u001b[0m \u001b[0moptimize\u001b[0m\u001b[0;34m(\u001b[0m\u001b[0mself\u001b[0m\u001b[0;34m,\u001b[0m \u001b[0;34m*\u001b[0m\u001b[0margs\u001b[0m\u001b[0;34m)\u001b[0m\u001b[0;34m:\u001b[0m\u001b[0;34m\u001b[0m\u001b[0;34m\u001b[0m\u001b[0m\n\u001b[0;32m--> 507\u001b[0;31m         \u001b[0;32mreturn\u001b[0m \u001b[0m_nlopt\u001b[0m\u001b[0;34m.\u001b[0m\u001b[0mopt_optimize\u001b[0m\u001b[0;34m(\u001b[0m\u001b[0mself\u001b[0m\u001b[0;34m,\u001b[0m \u001b[0;34m*\u001b[0m\u001b[0margs\u001b[0m\u001b[0;34m)\u001b[0m\u001b[0;34m\u001b[0m\u001b[0;34m\u001b[0m\u001b[0m\n\u001b[0m\u001b[1;32m    508\u001b[0m \u001b[0;34m\u001b[0m\u001b[0m\n\u001b[1;32m    509\u001b[0m     \u001b[0;32mdef\u001b[0m \u001b[0mlast_optimize_result\u001b[0m\u001b[0;34m(\u001b[0m\u001b[0mself\u001b[0m\u001b[0;34m)\u001b[0m\u001b[0;34m:\u001b[0m\u001b[0;34m\u001b[0m\u001b[0;34m\u001b[0m\u001b[0m\n",
      "\u001b[0;32m/mhome/damtp/t/ltk26/dev/softbridge/pyritz/pyritz/utils.py\u001b[0m in \u001b[0;36mget_action\u001b[0;34m(m, grad)\u001b[0m\n\u001b[1;32m     35\u001b[0m     \u001b[0;32mdef\u001b[0m \u001b[0mget_action\u001b[0m\u001b[0;34m(\u001b[0m\u001b[0mm\u001b[0m\u001b[0;34m,\u001b[0m \u001b[0mgrad\u001b[0m\u001b[0;34m)\u001b[0m\u001b[0;34m:\u001b[0m\u001b[0;34m\u001b[0m\u001b[0;34m\u001b[0m\u001b[0m\n\u001b[1;32m     36\u001b[0m         \u001b[0;32mif\u001b[0m \u001b[0mgrad\u001b[0m\u001b[0;34m.\u001b[0m\u001b[0msize\u001b[0m \u001b[0;34m>\u001b[0m \u001b[0;36m0\u001b[0m\u001b[0;34m:\u001b[0m\u001b[0;34m\u001b[0m\u001b[0;34m\u001b[0m\u001b[0m\n\u001b[0;32m---> 37\u001b[0;31m             \u001b[0;32mreturn\u001b[0m \u001b[0mact\u001b[0m\u001b[0;34m.\u001b[0m\u001b[0mcompute\u001b[0m\u001b[0;34m(\u001b[0m\u001b[0mm\u001b[0m\u001b[0;34m,\u001b[0m \u001b[0mgrad\u001b[0m\u001b[0;34m)\u001b[0m\u001b[0;34m\u001b[0m\u001b[0;34m\u001b[0m\u001b[0m\n\u001b[0m\u001b[1;32m     38\u001b[0m         \u001b[0;32melse\u001b[0m\u001b[0;34m:\u001b[0m\u001b[0;34m\u001b[0m\u001b[0;34m\u001b[0m\u001b[0m\n\u001b[1;32m     39\u001b[0m             \u001b[0;32mreturn\u001b[0m \u001b[0mact\u001b[0m\u001b[0;34m.\u001b[0m\u001b[0mcompute\u001b[0m\u001b[0;34m(\u001b[0m\u001b[0mm\u001b[0m\u001b[0;34m)\u001b[0m\u001b[0;34m\u001b[0m\u001b[0;34m\u001b[0m\u001b[0m\n",
      "\u001b[0;32m/mhome/damtp/t/ltk26/dev/softbridge/pyritz/pyritz/action.py\u001b[0m in \u001b[0;36mcompute\u001b[0;34m(self, m, grad, return_function_values)\u001b[0m\n\u001b[1;32m    149\u001b[0m             \u001b[0mlvw\u001b[0m \u001b[0;34m=\u001b[0m \u001b[0mself\u001b[0m\u001b[0;34m.\u001b[0m\u001b[0m_dvlagrangian_arr\u001b[0m \u001b[0;34m*\u001b[0m \u001b[0mself\u001b[0m\u001b[0;34m.\u001b[0m\u001b[0m__quadrature_weights_stack\u001b[0m\u001b[0;34m\u001b[0m\u001b[0;34m\u001b[0m\u001b[0m\n\u001b[1;32m    150\u001b[0m             \u001b[0mffxgrad\u001b[0m\u001b[0;34m,\u001b[0m \u001b[0mffvgrad\u001b[0m \u001b[0;34m=\u001b[0m \u001b[0mself\u001b[0m\u001b[0;34m.\u001b[0m\u001b[0mfunction_family\u001b[0m\u001b[0;34m.\u001b[0m\u001b[0mgradient\u001b[0m\u001b[0;34m(\u001b[0m\u001b[0mm\u001b[0m\u001b[0;34m)\u001b[0m\u001b[0;34m\u001b[0m\u001b[0;34m\u001b[0m\u001b[0m\n\u001b[0;32m--> 151\u001b[0;31m             \u001b[0mgrad\u001b[0m\u001b[0;34m[\u001b[0m\u001b[0;34m:\u001b[0m\u001b[0;34m]\u001b[0m \u001b[0;34m=\u001b[0m \u001b[0mnp\u001b[0m\u001b[0;34m.\u001b[0m\u001b[0mtrace\u001b[0m\u001b[0;34m(\u001b[0m\u001b[0mnp\u001b[0m\u001b[0;34m.\u001b[0m\u001b[0mtensordot\u001b[0m\u001b[0;34m(\u001b[0m\u001b[0mlxw\u001b[0m\u001b[0;34m,\u001b[0m \u001b[0mffxgrad\u001b[0m\u001b[0;34m,\u001b[0m \u001b[0maxes\u001b[0m\u001b[0;34m=\u001b[0m\u001b[0;34m(\u001b[0m\u001b[0;34m[\u001b[0m\u001b[0;36m1\u001b[0m\u001b[0;34m,\u001b[0m\u001b[0;36m2\u001b[0m\u001b[0;34m]\u001b[0m\u001b[0;34m)\u001b[0m\u001b[0;34m)\u001b[0m \u001b[0;34m+\u001b[0m \u001b[0mnp\u001b[0m\u001b[0;34m.\u001b[0m\u001b[0mtensordot\u001b[0m\u001b[0;34m(\u001b[0m\u001b[0mlvw\u001b[0m\u001b[0;34m,\u001b[0m \u001b[0mffvgrad\u001b[0m\u001b[0;34m,\u001b[0m \u001b[0maxes\u001b[0m\u001b[0;34m=\u001b[0m\u001b[0;34m(\u001b[0m\u001b[0;34m[\u001b[0m\u001b[0;36m1\u001b[0m\u001b[0;34m,\u001b[0m\u001b[0;36m2\u001b[0m\u001b[0;34m]\u001b[0m\u001b[0;34m)\u001b[0m\u001b[0;34m)\u001b[0m\u001b[0;34m,\u001b[0m \u001b[0maxis1\u001b[0m\u001b[0;34m=\u001b[0m\u001b[0;36m0\u001b[0m\u001b[0;34m,\u001b[0m \u001b[0maxis2\u001b[0m\u001b[0;34m=\u001b[0m\u001b[0;36m2\u001b[0m\u001b[0;34m)\u001b[0m\u001b[0;34m\u001b[0m\u001b[0;34m\u001b[0m\u001b[0m\n\u001b[0m\u001b[1;32m    152\u001b[0m \u001b[0;34m\u001b[0m\u001b[0m\n\u001b[1;32m    153\u001b[0m         \u001b[0mS\u001b[0m \u001b[0;34m=\u001b[0m \u001b[0mnp\u001b[0m\u001b[0;34m.\u001b[0m\u001b[0msum\u001b[0m\u001b[0;34m(\u001b[0m\u001b[0mself\u001b[0m\u001b[0;34m.\u001b[0m\u001b[0mquadrature_weights\u001b[0m\u001b[0;34m*\u001b[0m\u001b[0mself\u001b[0m\u001b[0;34m.\u001b[0m\u001b[0m_lagrangian_arr\u001b[0m\u001b[0;34m)\u001b[0m \u001b[0;31m# TODO Cython this in a for loop\u001b[0m\u001b[0;34m\u001b[0m\u001b[0;34m\u001b[0m\u001b[0m\n",
      "\u001b[0;32m/local/scratch/public/ltk26/anaconda3/lib/python3.7/site-packages/numpy/core/numeric.py\u001b[0m in \u001b[0;36mtensordot\u001b[0;34m(a, b, axes)\u001b[0m\n\u001b[1;32m   1312\u001b[0m     \u001b[0mat\u001b[0m \u001b[0;34m=\u001b[0m \u001b[0ma\u001b[0m\u001b[0;34m.\u001b[0m\u001b[0mtranspose\u001b[0m\u001b[0;34m(\u001b[0m\u001b[0mnewaxes_a\u001b[0m\u001b[0;34m)\u001b[0m\u001b[0;34m.\u001b[0m\u001b[0mreshape\u001b[0m\u001b[0;34m(\u001b[0m\u001b[0mnewshape_a\u001b[0m\u001b[0;34m)\u001b[0m\u001b[0;34m\u001b[0m\u001b[0;34m\u001b[0m\u001b[0m\n\u001b[1;32m   1313\u001b[0m     \u001b[0mbt\u001b[0m \u001b[0;34m=\u001b[0m \u001b[0mb\u001b[0m\u001b[0;34m.\u001b[0m\u001b[0mtranspose\u001b[0m\u001b[0;34m(\u001b[0m\u001b[0mnewaxes_b\u001b[0m\u001b[0;34m)\u001b[0m\u001b[0;34m.\u001b[0m\u001b[0mreshape\u001b[0m\u001b[0;34m(\u001b[0m\u001b[0mnewshape_b\u001b[0m\u001b[0;34m)\u001b[0m\u001b[0;34m\u001b[0m\u001b[0;34m\u001b[0m\u001b[0m\n\u001b[0;32m-> 1314\u001b[0;31m     \u001b[0mres\u001b[0m \u001b[0;34m=\u001b[0m \u001b[0mdot\u001b[0m\u001b[0;34m(\u001b[0m\u001b[0mat\u001b[0m\u001b[0;34m,\u001b[0m \u001b[0mbt\u001b[0m\u001b[0;34m)\u001b[0m\u001b[0;34m\u001b[0m\u001b[0;34m\u001b[0m\u001b[0m\n\u001b[0m\u001b[1;32m   1315\u001b[0m     \u001b[0;32mreturn\u001b[0m \u001b[0mres\u001b[0m\u001b[0;34m.\u001b[0m\u001b[0mreshape\u001b[0m\u001b[0;34m(\u001b[0m\u001b[0molda\u001b[0m \u001b[0;34m+\u001b[0m \u001b[0moldb\u001b[0m\u001b[0;34m)\u001b[0m\u001b[0;34m\u001b[0m\u001b[0;34m\u001b[0m\u001b[0m\n\u001b[1;32m   1316\u001b[0m \u001b[0;34m\u001b[0m\u001b[0m\n",
      "\u001b[0;31mKeyboardInterrupt\u001b[0m: "
     ]
    }
   ],
   "source": [
    "def m0_provider(x_start, x_end, Nm, prev_m):\n",
    "    ff.set_fixed_end_point(x_end)\n",
    "\n",
    "    if not prev_m is None:\n",
    "        return prev_m\n",
    "    else:\n",
    "        m0 = pyritz.funcs.CollocationFF.get_straight_line_path(x_start, x_end, Nm,\n",
    "                                        exclude_start_point=True, exclude_end_point=True)\n",
    "        return m0\n",
    "    #if np.allclose(x_end, e_xb):\n",
    "    #    m0 += (-1 + 2*np.random.random(len(m0)))*0.1 # Add some noise to initial path\n",
    "    #return m0\n",
    "\n",
    "x_start = e_xa\n",
    "\n",
    "Nm = 8\n",
    "Nq = Nm*10\n",
    "\n",
    "qp_width = 3\n",
    "qp_height = 3\n",
    "xs = np.linspace(-1.2, 1.2, qp_width)\n",
    "ys = np.linspace(-0.4,0.4, qp_height)\n",
    "\n",
    "ff = pyritz.funcs.CollocationFF(Nm, dim, derivatives=1,\n",
    "                               fixed_start_point=x_start,\n",
    "                               fixed_end_point=np.array(xs[0], ys[0]))\n",
    "quad_scheme = pyritz.quads.Q_clenshaw_curtis\n",
    "compute_gradient=True\n",
    "\n",
    "initialize_lagrangian(Nq)\n",
    "\n",
    "qp = compute_quasipotential([xs, ys], Nm, Nq, x_start, lagrangian, ff, quad_scheme,\n",
    "                      m0_provider, nlopt.LD_MMA, lagrangian_args=compute_gradient, xtol_rel=1e-12, maxeval=5000)"
   ]
  },
  {
   "cell_type": "code",
   "execution_count": 8,
   "metadata": {},
   "outputs": [
    {
     "data": {
      "text/plain": [
       "array([0, 1, 2, 3, 4, 5, 6, 7, 8, 9])"
      ]
     },
     "execution_count": 8,
     "metadata": {},
     "output_type": "execute_result"
    }
   ],
   "source": [
    "np.arange(0, 10)"
   ]
  },
  {
   "cell_type": "markdown",
   "metadata": {},
   "source": [
    "#### Plot of the quasipotential"
   ]
  },
  {
   "cell_type": "code",
   "execution_count": null,
   "metadata": {},
   "outputs": [],
   "source": [
    "X, Y = np.meshgrid(xs, ys)\n",
    "\n",
    "plt.pcolormesh(X, Y, qp, shading='gouraud', cmap=plt.cm.BuGn_r)\n",
    "plt.contour(X, Y, qp, 20, cmap='gray', linewidths=1, alpha=1);\n",
    "\n",
    "plt.xlabel('x', fontsize=18)\n",
    "plt.ylabel('y', fontsize=16)\n",
    "\n",
    "fig = mpl.pyplot.gcf()\n",
    "fig.set_size_inches(12, 10)"
   ]
  }
 ],
 "metadata": {
  "kernelspec": {
   "display_name": "Python 3",
   "language": "python",
   "name": "python3"
  },
  "language_info": {
   "codemirror_mode": {
    "name": "ipython",
    "version": 3
   },
   "file_extension": ".py",
   "mimetype": "text/x-python",
   "name": "python",
   "nbconvert_exporter": "python",
   "pygments_lexer": "ipython3",
   "version": "3.7.4"
  }
 },
 "nbformat": 4,
 "nbformat_minor": 2
}
