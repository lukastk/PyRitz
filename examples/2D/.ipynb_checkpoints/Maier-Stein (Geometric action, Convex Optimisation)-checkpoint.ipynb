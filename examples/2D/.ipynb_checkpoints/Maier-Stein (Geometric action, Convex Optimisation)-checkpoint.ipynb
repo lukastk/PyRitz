{
 "cells": [
  {
   "cell_type": "markdown",
   "metadata": {},
   "source": [
    "# Maier-Stein\n",
    "\n",
    "**Lagrangian:** Geometric Action\n",
    "<br>\n",
    "**Implementation:** Python\n",
    "\n",
    "**System:**\n",
    "\n",
    "$ \\begin{cases}\n",
    "du = (u - u^3 - \\beta u v^2)\\ dt + \\sqrt{\\epsilon}\\ dW_u \\\\\n",
    "dv = -(1 + u^2) v\\ dt + \\sqrt{\\epsilon}\\ dW_v\n",
    "\\end{cases}$"
   ]
  },
  {
   "cell_type": "code",
   "execution_count": 29,
   "metadata": {},
   "outputs": [],
   "source": [
    "sfdir = !pwd\n",
    "sfdir = \"/\".join(sfdir[0].split(\"/\")[:-3]) + \"/\"\n",
    "import sys\n",
    "sys.path.insert(0, sfdir+'pyritz/')\n",
    "\n",
    "import pyritz\n",
    "import numpy as np\n",
    "import matplotlib.pyplot as plt\n",
    "import matplotlib as mpl\n",
    "import nlopt"
   ]
  },
  {
   "cell_type": "markdown",
   "metadata": {},
   "source": [
    "## System"
   ]
  },
  {
   "cell_type": "markdown",
   "metadata": {},
   "source": [
    "### Parameters"
   ]
  },
  {
   "cell_type": "markdown",
   "metadata": {},
   "source": [
    "System parameters are defined here. All system parameter variables are prefaced with \"m_\", with the exception of `dim` which is the dimension of the system."
   ]
  },
  {
   "cell_type": "code",
   "execution_count": 30,
   "metadata": {},
   "outputs": [],
   "source": [
    "m_beta = 10\n",
    "dim = 2"
   ]
  },
  {
   "cell_type": "markdown",
   "metadata": {},
   "source": [
    "### Dynamics\n",
    "\n",
    "`system_a` is the drift term of the system. It's used for plotting stream-plots, as well as finding fixed points of the deterministic system.\n",
    "\n",
    "`lagrangian` is the Lagrangian of the system. The Lagrangian used is the Geometric Action lagrangian (Heymann and Vanden-Eijnden), defined as\n",
    "\n",
    "$$\n",
    "L(x, \\dot x) = |\\dot x| |a(x)| - \\dot x \\cdot a(x)\n",
    "$$\n",
    "\n",
    "for any general Ito diffusion of the form\n",
    "\n",
    "$$\n",
    "dX = a(X)dt + \\sqrt{\\epsilon} dW.\n",
    "$$\n",
    "\n",
    "The function also computes the partial derivatives of the Lagrangian, which are used for gradient optimisation. This can be enabled/disabled by setting the *args* argument to True/False. The partial derivatives of the geometric lagrangian are\n",
    "\n",
    "$$\\begin{aligned}\n",
    "\\frac{\\partial L}{\\partial x} & = \\nabla a( x ) \\cdot \\left( |\\dot x| \\hat{a}(x) - \\dot x \\right) \\\\\n",
    "\\frac{\\partial L}{\\partial \\dot x} & = |a(x)| \\hat{\\dot{x}} - a(x)\n",
    "\\end{aligned}$$\n",
    "\n",
    "An important property of the geometric action is that it is time-reparameterisation invariant, meaning that $x$ can be replaced by any other path that shares the same *graph*."
   ]
  },
  {
   "cell_type": "markdown",
   "metadata": {},
   "source": [
    "#### Notes on the Maier-Stein system\n",
    "\n",
    "Let $(\\nabla a)_{ij} = \\frac{\\partial a_i}{\\partial x_j}$, where $x = (u, v)$, then\n",
    "\n",
    "$$\n",
    "\\nabla a = \\begin{pmatrix}\n",
    "    1 - 3 u^2 - \\beta v^2 &  -2 u v \\\\\n",
    "    - 2 \\beta u v & - (1 + u^2)\n",
    "\\end{pmatrix}\n",
    "$$"
   ]
  },
  {
   "cell_type": "code",
   "execution_count": 31,
   "metadata": {},
   "outputs": [],
   "source": [
    "def system_a(u, v):\n",
    "    return np.array([u - np.power(u, 3) - m_beta * u * np.power(v, 2),\n",
    "           -(1 + np.power(u, 2))*v])\n",
    "\n",
    "def lagrangian(ls, dxls, dvls, fvals, ts, args):\n",
    "    compute_gradient = args\n",
    "    \n",
    "    xs, dxs = fvals\n",
    "    us, vs = xs[:, 0], xs[:, 1]\n",
    "    dus, dvs = dxs[:, 0], dxs[:, 1]\n",
    "    \n",
    "    aus = us - np.power(us, 3) - m_beta * us * np.power(vs, 2)\n",
    "    avs = -(1 + np.power(us, 2))*vs\n",
    "    aas = np.array( [aus, avs] )\n",
    "    \n",
    "    dxs_norm = np.linalg.norm(dxs, axis=1)\n",
    "    a_norm = np.sqrt(aus**2 + avs**2)\n",
    "    dxs_dot_a = aus*dxs[:,0] + avs*dxs[:, 1]\n",
    "    \n",
    "    ls[:] = dxs_norm * a_norm - dxs_dot_a\n",
    "    \n",
    "    # Compute gradient\n",
    "    \n",
    "    if compute_gradient:\n",
    "\n",
    "        ## Compute dL/dx\n",
    "\n",
    "        da = np.array([\n",
    "            [1 - 3*us**2 - m_beta*vs**2,     -2*us*vs],\n",
    "            [-2*m_beta*us*vs,                -(1+us**2)]\n",
    "        ])\n",
    "\n",
    "        a_normalized = aas/a_norm\n",
    "\n",
    "        a_normalized[:, np.where(a_norm==0)] = 0 # Set zero-norm vectors to 0\n",
    "\n",
    "        for i in range(dxls.shape[0]):\n",
    "            dxls[i, :] = da[:,:,i].dot( dxs_norm[i]*a_normalized[:,i] - dxs[i,:])\n",
    "\n",
    "        ## Compute dL/dv\n",
    "\n",
    "        dxs_2 = (dxs.T*(a_norm/dxs_norm)).T\n",
    "        dxs_2[ np.where(dxs_norm==0),:] = 0\n",
    "\n",
    "        dvls[:] = dxs_2 - aas.T"
   ]
  },
  {
   "cell_type": "markdown",
   "metadata": {},
   "source": [
    "### Find fixed points of the system"
   ]
  },
  {
   "cell_type": "code",
   "execution_count": 32,
   "metadata": {},
   "outputs": [
    {
     "name": "stdout",
     "output_type": "stream",
     "text": [
      "[-1.  0.] [1. 0.] [0. 0.]\n"
     ]
    }
   ],
   "source": [
    "from scipy.optimize import root\n",
    "\n",
    "e_xa = root(lambda x : system_a(x[0], x[1]), np.array([-1, 0])).x\n",
    "e_xb = root(lambda x : system_a(x[0], x[1]), np.array([1, 0])).x\n",
    "e_xs = root(lambda x : system_a(x[0], x[1]), np.array([0.1, 0.1])).x\n",
    "\n",
    "print(e_xa, e_xb, e_xs)"
   ]
  },
  {
   "cell_type": "markdown",
   "metadata": {},
   "source": [
    "## Optimisation"
   ]
  },
  {
   "cell_type": "code",
   "execution_count": 25,
   "metadata": {
    "collapsed": true
   },
   "outputs": [
    {
     "name": "stdout",
     "output_type": "stream",
     "text": [
      "     pcost       dcost       gap    pres   dres\n",
      " 0:  0.0000e+00  0.0000e+00  1e+00  1e+00  1e+00\n",
      " 1: -3.9600e+00 -2.7525e+00  1e-02  1e+00  5e-01\n",
      " 2: -6.7246e+00 -5.5051e+00  1e-04  1e+00  3e-01\n",
      " 3: -9.4773e+00 -8.2576e+00  1e-06  1e+00  1e-01\n",
      " 4: -1.2230e+01 -1.1010e+01  1e-08  1e+00  6e-02\n",
      " 5: -1.4982e+01 -1.3763e+01  1e-10  1e+00  3e-02\n",
      " 6: -1.7735e+01 -1.6515e+01  1e-12  1e+00  2e-02\n",
      " 7: -2.0487e+01 -1.9268e+01  1e-14  1e+00  8e-03\n",
      " 8: -2.3240e+01 -2.2020e+01  1e-16  1e+00  4e-03\n",
      " 9: -2.5993e+01 -2.4773e+01  1e-18  1e+00  2e-03\n",
      "10: -2.8745e+01 -2.7525e+01  1e-20  1e+00  1e-03\n",
      "11: -3.1498e+01 -3.0278e+01  1e-22  1e+00  5e-04\n",
      "12: -3.4250e+01 -3.3030e+01  1e-24  1e+00  3e-04\n",
      "13: -3.7003e+01 -3.5783e+01  1e-26  1e+00  1e-04\n",
      "14: -3.9755e+01 -3.8536e+01  1e-28  1e+00  7e-05\n",
      "15: -4.2508e+01 -4.1288e+01  1e-30  1e+00  3e-05\n",
      "16: -4.5260e+01 -4.4041e+01  1e-32  1e+00  2e-05\n",
      "17: -4.8013e+01 -4.6793e+01  1e-34  1e+00  8e-06\n",
      "18: -2.7369e+01 -2.6381e+01  5e-19  1e+00  1e-03\n",
      "19: -2.8875e+01 -2.8003e+01  3e-19  9e-01  9e-04\n",
      "20: -3.0439e+01 -2.9625e+01  2e-19  8e-01  6e-04\n",
      "21: -3.2032e+01 -3.1247e+01  9e-20  8e-01  4e-04\n",
      "22: -3.3640e+01 -3.2869e+01  5e-20  8e-01  3e-04\n",
      "23: -3.5254e+01 -3.4491e+01  3e-20  8e-01  2e-04\n",
      "24: -3.6063e+01 -3.5383e+01  2e-20  7e-01  1e-04\n",
      "25: -3.6893e+01 -3.6276e+01  2e-20  6e-01  1e-04\n",
      "26: -3.7739e+01 -3.7168e+01  2e-20  6e-01  9e-05\n",
      "27: -3.8596e+01 -3.8061e+01  1e-20  5e-01  7e-05\n",
      "28: -3.9462e+01 -3.8954e+01  1e-20  5e-01  6e-05\n",
      "29: -4.0335e+01 -3.9846e+01  1e-20  5e-01  5e-05\n",
      "30: -4.1213e+01 -4.0739e+01  9e-21  5e-01  4e-05\n",
      "31: -4.2094e+01 -4.1631e+01  8e-21  5e-01  3e-05\n",
      "32: -4.2979e+01 -4.2524e+01  7e-21  5e-01  2e-05\n",
      "33: -4.3865e+01 -4.3416e+01  6e-21  4e-01  2e-05\n",
      "34: -4.4753e+01 -4.4309e+01  5e-21  4e-01  2e-05\n",
      "35: -4.5642e+01 -4.5202e+01  4e-21  4e-01  1e-05\n",
      "36: -4.6532e+01 -4.6094e+01  4e-21  4e-01  1e-05\n",
      "37: -4.7422e+01 -4.6987e+01  3e-21  4e-01  8e-06\n",
      "38: -4.8313e+01 -4.7879e+01  3e-21  4e-01  6e-06\n",
      "39: -4.9205e+01 -4.8772e+01  2e-21  4e-01  5e-06\n",
      "40: -4.9651e+01 -4.9243e+01  2e-21  4e-01  5e-06\n",
      "41: -5.0100e+01 -4.9714e+01  2e-21  4e-01  4e-06\n",
      "42: -5.0552e+01 -5.0185e+01  2e-21  4e-01  4e-06\n",
      "43: -5.1006e+01 -5.0656e+01  2e-21  3e-01  3e-06\n",
      "44: -5.1462e+01 -5.1128e+01  2e-21  3e-01  3e-06\n",
      "45: -5.1920e+01 -5.1599e+01  2e-21  3e-01  2e-06\n",
      "46: -5.2380e+01 -5.2070e+01  2e-21  3e-01  2e-06\n",
      "47: -5.2841e+01 -5.2541e+01  2e-21  3e-01  2e-06\n",
      "48: -5.3304e+01 -5.3012e+01  1e-21  3e-01  2e-06\n",
      "49: -5.3767e+01 -5.3483e+01  1e-21  3e-01  2e-06\n",
      "50: -5.4232e+01 -5.3954e+01  1e-21  3e-01  1e-06\n",
      "51: -5.4697e+01 -5.4425e+01  1e-21  3e-01  1e-06\n",
      "52: -5.5163e+01 -5.4897e+01  1e-21  3e-01  1e-06\n",
      "53: -5.5630e+01 -5.5368e+01  1e-21  3e-01  1e-06\n",
      "54: -5.6097e+01 -5.5839e+01  1e-21  3e-01  9e-07\n",
      "55: -5.6565e+01 -5.6310e+01  1e-21  3e-01  8e-07\n",
      "56: -5.7033e+01 -5.6781e+01  1e-21  3e-01  7e-07\n",
      "57: -5.7501e+01 -5.7252e+01  1e-21  2e-01  6e-07\n",
      "58: -5.7970e+01 -5.7723e+01  1e-21  2e-01  5e-07\n",
      "59: -5.8439e+01 -5.8195e+01  9e-22  2e-01  5e-07\n",
      "60: -5.8909e+01 -5.8666e+01  9e-22  2e-01  4e-07\n",
      "61: -5.9378e+01 -5.9137e+01  9e-22  2e-01  4e-07\n",
      "62: -5.9848e+01 -5.9608e+01  8e-22  2e-01  3e-07\n",
      "63: -6.0318e+01 -6.0079e+01  8e-22  2e-01  3e-07\n",
      "64: -6.0788e+01 -6.0550e+01  8e-22  2e-01  3e-07\n",
      "65: -6.1259e+01 -6.1021e+01  7e-22  2e-01  2e-07\n",
      "66: -6.1729e+01 -6.1492e+01  7e-22  2e-01  2e-07\n",
      "67: -6.2199e+01 -6.1964e+01  7e-22  2e-01  2e-07\n",
      "68: -6.2670e+01 -6.2435e+01  6e-22  2e-01  2e-07\n",
      "69: -6.3140e+01 -6.2906e+01  6e-22  2e-01  1e-07\n",
      "70: -6.3611e+01 -6.3377e+01  6e-22  2e-01  1e-07\n",
      "71: -6.4082e+01 -6.3848e+01  6e-22  2e-01  1e-07\n",
      "72: -6.4553e+01 -6.4319e+01  5e-22  2e-01  1e-07\n",
      "73: -6.5023e+01 -6.4790e+01  5e-22  2e-01  9e-08\n",
      "74: -6.5259e+01 -6.5033e+01  5e-22  2e-01  9e-08\n",
      "75: -6.5495e+01 -6.5275e+01  5e-22  2e-01  8e-08\n",
      "76: -6.5731e+01 -6.5518e+01  5e-22  2e-01  8e-08\n",
      "77: -6.5968e+01 -6.5760e+01  5e-22  2e-01  7e-08\n",
      "78: -6.6205e+01 -6.6003e+01  5e-22  2e-01  7e-08\n",
      "79: -6.6442e+01 -6.6245e+01  5e-22  2e-01  6e-08\n",
      "80: -6.6680e+01 -6.6488e+01  5e-22  2e-01  6e-08\n",
      "81: -6.6918e+01 -6.6730e+01  5e-22  2e-01  6e-08\n",
      "82: -6.7156e+01 -6.6973e+01  5e-22  2e-01  5e-08\n",
      "83: -6.7395e+01 -6.7215e+01  5e-22  2e-01  5e-08\n",
      "84: -6.7633e+01 -6.7458e+01  5e-22  2e-01  5e-08\n",
      "85: -6.7872e+01 -6.7700e+01  5e-22  2e-01  4e-08\n",
      "86: -6.8112e+01 -6.7943e+01  4e-22  2e-01  4e-08\n",
      "87: -6.8351e+01 -6.8185e+01  4e-22  2e-01  4e-08\n",
      "88: -6.8591e+01 -6.8428e+01  4e-22  2e-01  4e-08\n",
      "89: -6.8831e+01 -6.8670e+01  4e-22  2e-01  4e-08\n",
      "90: -6.9071e+01 -6.8913e+01  4e-22  2e-01  3e-08\n",
      "91: -6.9311e+01 -6.9155e+01  4e-22  2e-01  3e-08\n",
      "92: -6.9551e+01 -6.9398e+01  4e-22  2e-01  3e-08\n",
      "93: -6.9791e+01 -6.9640e+01  4e-22  2e-01  3e-08\n",
      "94: -7.0032e+01 -6.9883e+01  4e-22  1e-01  3e-08\n",
      "95: -7.0273e+01 -7.0125e+01  4e-22  1e-01  2e-08\n",
      "96: -7.0513e+01 -7.0368e+01  4e-22  1e-01  2e-08\n",
      "97: -7.0754e+01 -7.0610e+01  4e-22  1e-01  2e-08\n",
      "98: -7.0995e+01 -7.0853e+01  4e-22  1e-01  2e-08\n",
      "99: -7.1236e+01 -7.1095e+01  4e-22  1e-01  2e-08\n",
      "100: -7.1478e+01 -7.1338e+01  4e-22  1e-01  2e-08\n",
      "Terminated (maximum number of iterations reached).\n"
     ]
    },
    {
     "data": {
      "text/plain": [
       "<4x1 matrix, tc='d'>"
      ]
     },
     "execution_count": 25,
     "metadata": {},
     "output_type": "execute_result"
    }
   ],
   "source": [
    "from cvxopt import solvers, matrix, spdiag, log, normal\n",
    "\n",
    "def acent(A, b):\n",
    "    m, n = A.size\n",
    "    def F(x=None, z=None):\n",
    "        if x is None: return 0, matrix(1.0, (n,1))\n",
    "        if min(x) <= 0.0: return None\n",
    "        f = -sum(log(x))\n",
    "        Df = -(x**-1).T\n",
    "        if z is None: return f, Df\n",
    "        H = spdiag(z[0] * x**-2)\n",
    "        return f, Df, H\n",
    "    return solvers.cp(F)['x']\n",
    "\n",
    "A = normal(4, 4)\n",
    "b = matrix(2.0, (4, 1))\n",
    "\n",
    "acent(A, b)"
   ]
  },
  {
   "cell_type": "code",
   "execution_count": null,
   "metadata": {},
   "outputs": [],
   "source": [
    "def F(x=None)"
   ]
  },
  {
   "cell_type": "code",
   "execution_count": 36,
   "metadata": {},
   "outputs": [
    {
     "name": "stdout",
     "output_type": "stream",
     "text": [
      "[-1.79109253e-19  2.85112420e-02  2.79973443e-19  3.37658751e-20\n",
      " -2.72802659e-19  1.49285011e-01 -9.97212062e-20  8.35373892e-20\n",
      "  2.46718649e-01  5.78224144e-01 -4.03739462e-19  1.01242860e-03\n",
      " -9.28486200e-20  2.26767464e-01 -1.58813677e-19 -8.97232308e-20\n",
      " -1.22145726e-19 -1.51509432e-19  1.12060673e-19 -3.48318630e-19]\n",
      "[ 2.50938945  0.          2.78354615  1.79425782 13.08579183  0.\n",
      "  0.73716363  3.35344995  0.          0.          8.93825054  0.\n",
      "  7.02955161  0.          4.71068649  3.18873635  2.06090107 10.08166738\n",
      "  3.0481157   8.53268239]\n"
     ]
    }
   ],
   "source": [
    "import cvxpy as cp\n",
    "import numpy as np\n",
    "\n",
    "# Problem data.\n",
    "m = 30\n",
    "n = 20\n",
    "np.random.seed(1)\n",
    "A = np.random.randn(m, n)\n",
    "b = np.random.randn(m)\n",
    "\n",
    "# Construct the problem.\n",
    "x = cp.Variable(n)\n",
    "objective = cp.Minimize(cp.sum_squares(A*x - b))\n",
    "constraints = [0 <= x, x <= 1]\n",
    "prob = cp.Problem(objective, constraints)\n",
    "\n",
    "# The optimal objective value is returned by `prob.solve()`.\n",
    "result = prob.solve()\n",
    "# The optimal value for x is stored in `x.value`.\n",
    "print(x.value)\n",
    "# The optimal Lagrange multiplier for a constraint is stored in\n",
    "# `constraint.dual_value`.\n",
    "print(constraints[0].dual_value)"
   ]
  },
  {
   "cell_type": "markdown",
   "metadata": {},
   "source": [
    "### Gradient-free optimisation"
   ]
  },
  {
   "cell_type": "code",
   "execution_count": 33,
   "metadata": {},
   "outputs": [
    {
     "name": "stdout",
     "output_type": "stream",
     "text": [
      "0.5000000000000001\n",
      "0.3402459446395252\n"
     ]
    },
    {
     "name": "stderr",
     "output_type": "stream",
     "text": [
      "/home/lukas/dev/softbridge/pyritz/pyritz/funcs/collocation_ff.py:179: RuntimeWarning: divide by zero encountered in double_scalars\n",
      "  s += omegas[k] / (ts[i] - self.chebyshev_ts[k] )\n"
     ]
    }
   ],
   "source": [
    "x_start = e_xa\n",
    "x_end = e_xs\n",
    "\n",
    "Nm = 2\n",
    "Nq = Nm*10\n",
    "\n",
    "m0 = pyritz.funcs.CollocationFF.get_straight_line_path(x_start, x_end, Nm,\n",
    "                                    exclude_start_point=True, exclude_end_point=True)\n",
    "\n",
    "ff = pyritz.funcs.CollocationFF(Nm, dim, derivatives=1,\n",
    "                               fixed_start_point=x_start,\n",
    "                               fixed_end_point=x_end)\n",
    "\n",
    "quad_scheme = pyritz.quads.Q_clenshaw_curtis\n",
    "\n",
    "compute_gradient=False\n",
    "act = pyritz.Action(dim, ff, lagrangian, Nq, quad_scheme, lagrangian_args=compute_gradient)\n",
    "\n",
    "def get_action(m, grad):\n",
    "    return act.compute(m)\n",
    "\n",
    "opt = nlopt.opt(nlopt.LN_NEWUOA, np.size(m0))\n",
    "opt.set_min_objective(get_action)\n",
    "opt.set_xtol_rel(1e-12)\n",
    "#opt.set_maxeval(5000)\n",
    "m = opt.optimize(m0)\n",
    "\n",
    "print(act.compute(m0))\n",
    "print(act.compute(m))"
   ]
  },
  {
   "cell_type": "markdown",
   "metadata": {},
   "source": [
    "#### Instanton plot"
   ]
  },
  {
   "cell_type": "code",
   "execution_count": null,
   "metadata": {
    "scrolled": false
   },
   "outputs": [],
   "source": [
    "ts = np.linspace(-1, 1, 1000)\n",
    "\n",
    "paths = [\n",
    "    (m0, \"Initial\"),\n",
    "    (m, \"Final\")\n",
    "]\n",
    "\n",
    "for p in paths:\n",
    "    _m, _mlabel = p\n",
    "    xs, vs = ff.evaluate(_m, ts)\n",
    "    plt.plot(xs[:,0], xs[:,1], label=_mlabel)\n",
    "\n",
    "X, Y = np.meshgrid(np.linspace(-1.2,1.2,64), np.linspace(-0.4,.4,64))\n",
    "vx,vy=system_a(X,Y); vx=vx/np.sqrt(vx**2+vy**2); vy=vy/np.sqrt(vx**2+vy**2)\n",
    "plt.streamplot(X,Y, vx, vy, density=1.7, linewidth=.6, color='gray');\n",
    "plt.legend()\n",
    "\n",
    "fig = mpl.pyplot.gcf()\n",
    "fig.set_size_inches(7, 6)"
   ]
  },
  {
   "cell_type": "markdown",
   "metadata": {},
   "source": [
    "### Gradient optimisation"
   ]
  },
  {
   "cell_type": "code",
   "execution_count": null,
   "metadata": {
    "scrolled": true
   },
   "outputs": [],
   "source": [
    "act.compute_action_gradient(np.array([1.0400034477986801,0]))"
   ]
  },
  {
   "cell_type": "code",
   "execution_count": null,
   "metadata": {},
   "outputs": [],
   "source": [
    "x_start = e_xa\n",
    "x_end = e_xb\n",
    "\n",
    "Nm = 18\n",
    "Nq = Nm*10\n",
    "\n",
    "m0 = pyritz.funcs.CollocationFF.get_straight_line_path(x_start, x_end, Nm,\n",
    "                                    exclude_start_point=True, exclude_end_point=True)\n",
    "m0 += (-1 + 2*np.random.random(len(m0)))*0.01 # Add some noise to initial path\n",
    "\n",
    "ff = pyritz.funcs.CollocationFF(Nm, dim, derivatives=1,\n",
    "                               fixed_start_point=x_start,\n",
    "                               fixed_end_point=x_end)\n",
    "\n",
    "quad_scheme = pyritz.quads.Q_clenshaw_curtis\n",
    "\n",
    "compute_gradient=True\n",
    "act = pyritz.Action(dim, ff, lagrangian, Nq, quad_scheme, lagrangian_args=compute_gradient)\n",
    "\n",
    "def get_action(m, grad):\n",
    "    opt.evals+=1\n",
    "    if grad.size > 0:\n",
    "        return act.compute(m, grad)\n",
    "    else:\n",
    "        return act.compute(m)\n",
    "\n",
    "opt = nlopt.opt(nlopt.LD_SLSQP, np.size(m0))\n",
    "opt.set_min_objective(get_action)\n",
    "opt.set_xtol_rel(1e-12)\n",
    "opt.evals = 0\n",
    "m = opt.optimize(m0)\n",
    "\n",
    "print(act.compute(m0))\n",
    "print(act.compute(m))\n",
    "print(\"Evals:\", opt.evals)"
   ]
  },
  {
   "cell_type": "code",
   "execution_count": null,
   "metadata": {},
   "outputs": [],
   "source": [
    "ls"
   ]
  },
  {
   "cell_type": "code",
   "execution_count": null,
   "metadata": {},
   "outputs": [],
   "source": [
    "ff.get_m_with_fixed_points(m)"
   ]
  },
  {
   "cell_type": "code",
   "execution_count": null,
   "metadata": {
    "scrolled": true
   },
   "outputs": [],
   "source": [
    "ts = np.linspace(-1, 1, 1000)\n",
    "\n",
    "paths = [\n",
    "    (m0, \"Initial\"),\n",
    "    (m, \"Final\")\n",
    "]\n",
    "\n",
    "for p in paths:\n",
    "    _m, _mlabel = p\n",
    "    xs, vs = ff.evaluate(_m, ts)\n",
    "    plt.plot(xs[:,0], xs[:,1], label=_mlabel)\n",
    "\n",
    "X, Y = np.meshgrid(np.linspace(-1.2,1.2,64), np.linspace(-0.4,.4,64))\n",
    "vx,vy=system_a(X,Y); vx=vx/np.sqrt(vx**2+vy**2); vy=vy/np.sqrt(vx**2+vy**2)\n",
    "plt.streamplot(X,Y, vx, vy, density=1.7, linewidth=.6, color='gray');\n",
    "plt.legend()\n",
    "\n",
    "fig = mpl.pyplot.gcf()\n",
    "fig.set_size_inches(7, 7)"
   ]
  },
  {
   "cell_type": "code",
   "execution_count": null,
   "metadata": {},
   "outputs": [],
   "source": [
    "fixed_points = [\n",
    "    (\"min\", e_xa),\n",
    "    (\"min\", e_xa)\n",
    "]\n",
    "\n",
    "d = xs - e_xa\n",
    "d = d[:,0]**2 + d[:,1]**2\n",
    "i = np.where(d==np.min(d))[0]"
   ]
  },
  {
   "cell_type": "code",
   "execution_count": null,
   "metadata": {},
   "outputs": [],
   "source": [
    "ls"
   ]
  },
  {
   "cell_type": "code",
   "execution_count": null,
   "metadata": {},
   "outputs": [],
   "source": [
    "ts = np.linspace(-1, 1, 1000)\n",
    "xs, vs = ff.evaluate(m, ts)\n",
    "\n",
    "ls = act.compute_lagrangian(m, ts)[0]\n",
    "\n",
    "ds = np.sqrt(1+(vs[:,1]/vs[:,0])**2 )\n",
    "s = [np.trapz(ds[:i], x=ts[:i]) for i in range(len(ds))]\n",
    "\n",
    "# Plot fixed points\n",
    "\n",
    "fixed_points = [\n",
    "    (\"min\", e_xa),\n",
    "    (\"max\", e_xs),\n",
    "    (\"min\", e_xb)\n",
    "]\n",
    "\n",
    "for i in range(len(fixed_points)):\n",
    "    t, f = fixed_points[i]\n",
    "    d = xs - f\n",
    "    d = d[:,0]**2 + d[:,1]**2\n",
    "    sf = s[np.where(d==np.min(d))[0][0]]\n",
    "    \n",
    "    plt.plot(sf, 0, \".\") \n",
    "\n",
    "plt.plot(s, ls)"
   ]
  },
  {
   "cell_type": "markdown",
   "metadata": {},
   "source": [
    "## Iterative gradient optimisation"
   ]
  },
  {
   "cell_type": "code",
   "execution_count": null,
   "metadata": {},
   "outputs": [],
   "source": [
    "x_start = e_xa\n",
    "x_end = e_xs\n",
    "\n",
    "Nms = np.array( [8, 9, 10] ).astype(int)\n",
    "Nqs = Nms*10\n",
    "\n",
    "m0 = pyritz.funcs.CollocationFF.get_straight_line_path(x_start, x_end, Nms[0],\n",
    "                                    exclude_start_point=True, exclude_end_point=True)\n",
    "m0 += (-1 + 2*np.random.random(len(m0)))*0.1 # Add some noise to initial path\n",
    "\n",
    "ff = pyritz.funcs.CollocationFF(Nms[0], dim, derivatives=1,\n",
    "                               fixed_start_point=x_start,\n",
    "                               fixed_end_point=x_end)\n",
    "quad_scheme = pyritz.quads.Q_clenshaw_curtis\n",
    "compute_gradient=True\n",
    "\n",
    "res = pyritz.utils.minimize_action_iteratively(Nms, Nqs, x_start, x_end, lagrangian, ff, quad_scheme, m0,\n",
    "                           nlopt.LD_SLSQP, lagrangian_args=compute_gradient,\n",
    "                           xtol_rel=1e-12)"
   ]
  },
  {
   "cell_type": "code",
   "execution_count": null,
   "metadata": {},
   "outputs": [],
   "source": [
    "ts = np.linspace(-1, 1, 1000)\n",
    "\n",
    "paths = [(m, \"Nm=%s\" % Nm, Nm) for m, S, Nm, Nq in res]\n",
    "\n",
    "for p in paths:\n",
    "    _m, _mlabel, _Nm = p\n",
    "    xs, vs = ff.evaluate_at_order(_m, ts, _Nm)\n",
    "    plt.plot(xs[:,0], xs[:,1], label=_mlabel)\n",
    "\n",
    "X, Y = np.meshgrid(np.linspace(-1.2,1.2,64), np.linspace(-0.4,.4,64))\n",
    "vx,vy=system_a(X,Y); vx=vx/np.sqrt(vx**2+vy**2); vy=vy/np.sqrt(vx**2+vy**2)\n",
    "plt.streamplot(X,Y, vx, vy, density=1.7, linewidth=.6, color='gray');\n",
    "plt.legend()\n",
    "\n",
    "fig = mpl.pyplot.gcf()\n",
    "fig.set_size_inches(7, 6)"
   ]
  },
  {
   "cell_type": "markdown",
   "metadata": {},
   "source": [
    "## Quasipotential"
   ]
  },
  {
   "cell_type": "code",
   "execution_count": null,
   "metadata": {},
   "outputs": [],
   "source": [
    "def m0_provider(x_start, x_end, Nm):\n",
    "    ff.set_fixed_end_point(x_end)\n",
    "\n",
    "    m0 = pyritz.funcs.CollocationFF.get_straight_line_path(x_start, x_end, Nm,\n",
    "                                        exclude_start_point=True, exclude_end_point=True)\n",
    "    if np.allclose(x_end, e_xb):\n",
    "        m0 += (-1 + 2*np.random.random(len(m0)))*0.1 # Add some noise to initial path\n",
    "    return m0\n",
    "\n",
    "x_start = e_xa\n",
    "x_end = e_xb\n",
    "\n",
    "Nmn       = 8\n",
    "Nq = Nm*10\n",
    "\n",
    "qp_width = 5\n",
    "qp_height = 5\n",
    "xs = np.linspace(-1.2, 1.2, qp_width)\n",
    "ys = np.linspace(-0.4,0.4, qp_height)\n",
    "\n",
    "ff = pyritz.funcs.CollocationFF(Nm, dim, derivatives=1,\n",
    "                               fixed_start_point=x_start,\n",
    "                               fixed_end_point=x_end)\n",
    "quad_scheme = pyritz.quads.Q_clenshaw_curtis\n",
    "compute_gradient=True\n",
    "\n",
    "qp = pyritz.utils.compute_quasipotential(xs, ys, Nm, Nq, x_start, lagrangian, ff, quad_scheme,\n",
    "                      m0_provider, nlopt.LD_MMA, lagrangian_args=compute_gradient, xtol_rel=1e-12, maxeval=5000)"
   ]
  },
  {
   "cell_type": "markdown",
   "metadata": {},
   "source": [
    "### Gradient optimisation"
   ]
  },
  {
   "cell_type": "code",
   "execution_count": null,
   "metadata": {
    "scrolled": true
   },
   "outputs": [],
   "source": [
    "import warnings; warnings.simplefilter('ignore')\n",
    "\n",
    "def lagrangian_args_generator(Nm, Nq, m, function_family):\n",
    "    m[:] += (-1 + 2*np.random.random(len(m)))*0.1 # Add some noise to initial path\n",
    "    return True\n",
    "\n",
    "x_start = e_xa\n",
    "x_end = e_xs\n",
    "\n",
    "Nms = np.arange(1, 35)\n",
    "Nqs = Nms*80\n",
    "\n",
    "m0 = pyritz.funcs.CollocationFF.get_straight_line_path(x_start, x_end, Nms[0],\n",
    "                                    exclude_start_point=True, exclude_end_point=True)\n",
    "m0 += (-1 + 2*np.random.random(len(m0)))*0.1 # Add some noise to initial path\n",
    "\n",
    "ff = pyritz.funcs.CollocationFF(Nms[0], dim, derivatives=1,\n",
    "                               fixed_start_point=x_start,\n",
    "                               fixed_end_point=x_end)\n",
    "quad_scheme = pyritz.quads.Q_clenshaw_curtis\n",
    "compute_gradient=True\n",
    "\n",
    "res = []\n",
    "pyritz.utils.minimize_action_iteratively(Nms, Nqs, x_start, x_end, lagrangian, ff, quad_scheme, m0,\n",
    "                           nlopt.LD_SLSQP, lagrangian_args=compute_gradient,\n",
    "                           xtol_rel=1e-15, results=res,\n",
    "                            lagrangian_args_generator=lagrangian_args_generator,\n",
    "                            compute_accurate_S=True, compute_accurate_S_Nq_factor=30)"
   ]
  },
  {
   "cell_type": "code",
   "execution_count": null,
   "metadata": {},
   "outputs": [],
   "source": [
    "import warnings; warnings.simplefilter('ignore')\n",
    "\n",
    "acs = []\n",
    "\n",
    "for i in range(1, 35):\n",
    "    x_start = e_xa\n",
    "    x_end = e_xs\n",
    "\n",
    "    Nm = i\n",
    "    Nq = Nm*80\n",
    "\n",
    "    m0 = pyritz.funcs.CollocationFF.get_straight_line_path(x_start, x_end, Nm,\n",
    "                                        exclude_start_point=True, exclude_end_point=True)\n",
    "    m0 += (-1 + 2*np.random.random(len(m0)))*0.1 # Add some noise to initial path\n",
    "\n",
    "    ff = pyritz.funcs.CollocationFF(Nm, dim, derivatives=1,\n",
    "                                   fixed_start_point=x_start,\n",
    "                                   fixed_end_point=x_end)\n",
    "\n",
    "    quad_scheme = pyritz.quads.Q_clenshaw_curtis\n",
    "\n",
    "    compute_gradient=True\n",
    "    act = pyritz.Action(dim, ff, lagrangian, Nq, quad_scheme,\n",
    "                        lagrangian_args=compute_gradient)\n",
    "\n",
    "    def get_action(m, grad):\n",
    "        if grad.size > 0:\n",
    "            return act.compute(m, grad)\n",
    "        else:\n",
    "            return act.compute(m)\n",
    "\n",
    "    opt = nlopt.opt(nlopt.LD_SLSQP, np.size(m0))\n",
    "    opt.set_min_objective(get_action)\n",
    "    opt.set_xtol_rel(1e-16)\n",
    "    m = opt.optimize(m0)\n",
    "    \n",
    "    s = act.compute(m)\n",
    "    \n",
    "    # Compute accurate S\n",
    "    \n",
    "    act = pyritz.Action(dim, ff, lagrangian, Nq*40, quad_scheme,\n",
    "                            lagrangian_args=compute_gradient)\n",
    "\n",
    "    acc_s = act.compute(m)\n",
    "    \n",
    "    print(\"Nm:\", Nm, \"Nq:\", Nq, \"S:\", s, \"acc_S:\", acc_s, \"err_S:\", np.abs(acc_s - s))\n",
    "    \n",
    "    acs.append( (Nm, Nq, s, m) )"
   ]
  }
 ],
 "metadata": {
  "kernelspec": {
   "display_name": "Python 3",
   "language": "python",
   "name": "python3"
  },
  "language_info": {
   "codemirror_mode": {
    "name": "ipython",
    "version": 3
   },
   "file_extension": ".py",
   "mimetype": "text/x-python",
   "name": "python",
   "nbconvert_exporter": "python",
   "pygments_lexer": "ipython3",
   "version": "3.7.3"
  }
 },
 "nbformat": 4,
 "nbformat_minor": 2
}
