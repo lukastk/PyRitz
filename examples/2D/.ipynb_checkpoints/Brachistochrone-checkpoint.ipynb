{
 "cells": [
  {
   "cell_type": "markdown",
   "metadata": {},
   "source": [
    "# Computing the instanton of the Catenary"
   ]
  },
  {
   "cell_type": "markdown",
   "metadata": {},
   "source": [
    "## Import statements"
   ]
  },
  {
   "cell_type": "code",
   "execution_count": 1,
   "metadata": {},
   "outputs": [],
   "source": [
    "# Modify path environment variables to search for the local Pyritz and NLopt installations in the repository.\n",
    "\n",
    "import os, sys\n",
    "\n",
    "pyritz_dir = \"/\".join(os.getcwd().split(\"/\")[:-2])\n",
    "nlopt_lib_dir = \":%s/nlopt/lib\" % pyritz_dir\n",
    "nlopt_py_dir = \"%s/nlopt/nlopt_py\" % pyritz_dir\n",
    "\n",
    "os.environ['LD_LIBRARY_PATH'] = nlopt_lib_dir + os.environ['LD_LIBRARY_PATH']\n",
    "sys.path.insert(0, nlopt_py_dir)\n",
    "sys.path.insert(0, pyritz_dir)\n",
    "\n",
    "# Import statements\n",
    "\n",
    "import pyritz\n",
    "\n",
    "import numpy as np\n",
    "import matplotlib.pyplot as plt\n",
    "import matplotlib as mpl\n",
    "import nlopt"
   ]
  },
  {
   "cell_type": "markdown",
   "metadata": {},
   "source": [
    "## Define system"
   ]
  },
  {
   "cell_type": "markdown",
   "metadata": {},
   "source": [
    "#### Lagrangian:\n",
    "\n",
    "Consider the surface of revolution of a curve $y(x)$ with $y(x_1)=y_1$ and $y(x_2)=y_2$ around the $x$-axis,\n",
    "\n",
    "$$\n",
    "A[y(x)] = 2 \\pi \\int_{x_1}^{x_2} |y| \\sqrt{1 + (y')^2}.\n",
    "$$\n",
    "\n",
    "We want to find the curve $y(x)$ that minimises the surface. The analytic solution is\n",
    "\n",
    "$$\n",
    "y(x) = A \\cosh \\left(B + \\frac{x}{A} \\right)\n",
    "$$\n",
    "\n",
    "where $A$ and $B$ must be chosen to satisfy the boundary conditions.\n",
    "\n",
    "#### Derivatives of the Lagrangian:\n",
    "\n",
    "$$\\begin{aligned}\n",
    "\\frac{\\partial L}{\\partial x} & = \\nabla a( x ) \\cdot \\left( |\\dot x| \\hat{a}(x) - \\dot x \\right) \\\\\n",
    "\\frac{\\partial L}{\\partial \\dot x} & = |a(x)| \\hat{\\dot{x}} - a(x)\n",
    "\\end{aligned}$$"
   ]
  },
  {
   "cell_type": "code",
   "execution_count": 115,
   "metadata": {},
   "outputs": [],
   "source": [
    "# System Lagrangian\n",
    "\n",
    "def lagrangian(ls, dxls, dvls, path, xs, args):\n",
    "    ys, dys = path\n",
    "    ls[:] = 2*np.pi*np.abs(ys)*np.sqrt(1 + dys*dys)"
   ]
  },
  {
   "cell_type": "markdown",
   "metadata": {},
   "source": [
    "## Computing the instanton"
   ]
  },
  {
   "cell_type": "markdown",
   "metadata": {},
   "source": [
    "### Gradient-based optimisation"
   ]
  },
  {
   "cell_type": "code",
   "execution_count": 168,
   "metadata": {},
   "outputs": [
    {
     "name": "stdout",
     "output_type": "stream",
     "text": [
      "S[alpha0] = 51.01386317532773\n",
      "S[alpha]  = 49.13582669537193\n"
     ]
    }
   ],
   "source": [
    "y1 = np.cosh(0)\n",
    "y2 = np.cosh(2)\n",
    "\n",
    "n = 8\n",
    "nq = n*10\n",
    "\n",
    "alpha0 = pyritz.interpolation.utils.linear_path(y1, y2, n)\n",
    "\n",
    "path = pyritz.interpolation.Path(lagrangian, n, nq, y1, y2)\n",
    "\n",
    "opt = nlopt.opt(nlopt.LN_AUGLAG, np.size(alpha0))\n",
    "opt.set_lower_bounds(np.full(np.size(alpha0), 0))\n",
    "opt.set_min_objective(path.action)\n",
    "opt.set_xtol_rel(1e-10)\n",
    "alpha = opt.optimize(alpha0)\n",
    "\n",
    "print(\"S[alpha0] = %s\" % path.action(alpha0))\n",
    "print(\"S[alpha]  = %s\" % path.action(alpha))"
   ]
  },
  {
   "cell_type": "markdown",
   "metadata": {},
   "source": [
    "#### Instanton plot"
   ]
  },
  {
   "cell_type": "code",
   "execution_count": 169,
   "metadata": {},
   "outputs": [
    {
     "data": {
      "image/png": "[encoded data removed]",
      "text/plain": [
       "<Figure size 504x504 with 1 Axes>"
      ]
     },
     "metadata": {
      "needs_background": "light"
     },
     "output_type": "display_data"
    }
   ],
   "source": [
    "def analytic_sol(xs):\n",
    "    return np.cosh(1 + xs)\n",
    "\n",
    "xs = np.linspace(-1, 1, 1000)\n",
    "\n",
    "paths = [\n",
    "    (path.get_alpha_with_endpoints(alpha0), \"Initial\"),\n",
    "    (path.get_alpha_with_endpoints(alpha), \"Final\")\n",
    "]\n",
    "\n",
    "for _alpha, _label in paths:\n",
    "    ys = pyritz.interpolation.utils.interpolate(_alpha, n, ts)\n",
    "    plt.plot(ts, ys[0,:], label=_label)\n",
    "\n",
    "plt.plot(xs, analytic_sol(xs), \"--\", dashes=(8, 8), label=\"Analytic\")\n",
    "plt.legend()\n",
    "mpl.pyplot.gcf().set_size_inches(7, 7)"
   ]
  },
  {
   "cell_type": "markdown",
   "metadata": {},
   "source": [
    "### Gradient-free optimisation"
   ]
  },
  {
   "cell_type": "code",
   "execution_count": null,
   "metadata": {},
   "outputs": [],
   "source": [
    "x1 = e_xa\n",
    "x2 = e_xb\n",
    "\n",
    "n = 8\n",
    "nq = n*10\n",
    "\n",
    "path = pyritz.interpolation.Path(lagrangian, n, nq, x1, x2)\n",
    "alpha0 = pyritz.interpolation.utils.linear_path(x1, x2, n)\n",
    "\n",
    "def get_action(alpha, grad):\n",
    "    return path.action(alpha)\n",
    "\n",
    "opt = nlopt.opt(nlopt.LN_NEWUOA, np.size(alpha0))\n",
    "opt.set_min_objective(get_action)\n",
    "opt.set_xtol_rel(1e-16)\n",
    "alpha = opt.optimize(alpha0)\n",
    "\n",
    "print(\"S[alpha0] = %s\" % path.action(alpha0))\n",
    "print(\"S[alpha]  = %s\" % path.action(alpha))"
   ]
  },
  {
   "cell_type": "markdown",
   "metadata": {},
   "source": [
    "#### Instanton plot"
   ]
  },
  {
   "cell_type": "code",
   "execution_count": null,
   "metadata": {},
   "outputs": [],
   "source": [
    "ts = np.linspace(-1, 1, 1000)\n",
    "\n",
    "paths = [\n",
    "    (path.get_alpha_with_endpoints(alpha0), \"Initial\"),\n",
    "    (path.get_alpha_with_endpoints(alpha), \"Final\")\n",
    "]\n",
    "\n",
    "for _alpha, _label in paths:\n",
    "    xs = pyritz.interpolation.utils.interpolate(_alpha, n, ts)\n",
    "    plt.plot(xs[0,:], xs[1,:], label=_label)\n",
    "\n",
    "X, Y = np.meshgrid(np.linspace(-1.2,1.2,64), np.linspace(-0.4,.4,64))\n",
    "sax,say=system_a(X,Y); sax=sax/np.sqrt(sax**2+say**2); say=say/np.sqrt(sax**2+say**2)\n",
    "plt.streamplot(X,Y, sax, say, density=1.7, linewidth=.6, color='gray');\n",
    "plt.legend()\n",
    "\n",
    "fig = mpl.pyplot.gcf()\n",
    "fig.set_size_inches(7, 7)"
   ]
  }
 ],
 "metadata": {
  "kernelspec": {
   "display_name": "Python 3",
   "language": "python",
   "name": "python3"
  },
  "language_info": {
   "codemirror_mode": {
    "name": "ipython",
    "version": 3
   },
   "file_extension": ".py",
   "mimetype": "text/x-python",
   "name": "python",
   "nbconvert_exporter": "python",
   "pygments_lexer": "ipython3",
   "version": "3.7.3"
  }
 },
 "nbformat": 4,
 "nbformat_minor": 2
}
