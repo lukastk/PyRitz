{
 "cells": [
  {
   "cell_type": "markdown",
   "metadata": {},
   "source": [
    "# Muller-Brown\n",
    "\n",
    "**Lagrangian:** Geometric Action\n",
    "<br>\n",
    "**Implementation:** Python\n",
    "\n",
    "**System:**\n",
    "\n",
    "$$\n",
    "\\begin{aligned}\n",
    "U(\\mathbf{x}) & = \\sum_{i=1}^4 u^{(i)} \\\\\n",
    "u^{(i)} & = A^{(i)} \\exp \\left\\{ (\\mathbf{x} - \\mathbf{r}^{(i)})^T M^{(i)} (\\mathbf{x} - \\mathbf{r}^{(i)}) \\right\\} \\\\\n",
    "\\mathbf{F}(\\mathbf{x}) & = - \\nabla U \\\\\n",
    "d\\mathbf{X} & = \\frac{1}{\\gamma} \\mathbf{F}dt + \\frac{1}{\\gamma} \\sigma d\\mathbf{W}\n",
    "\\end{aligned}\n",
    "$$\n",
    "\n",
    "Usually, we set $\\gamma$ and $\\sigma$ such that\n",
    "\n",
    "$$\n",
    "\\begin{aligned}\n",
    "\\gamma & = 1 \\\\\n",
    "\\frac{1}{\\gamma} \\sigma & = I\n",
    "\\end{aligned}\n",
    "$$\n",
    "\n",
    "So we have the system\n",
    "\n",
    "$$\n",
    "d\\mathbf{X} = - \\nabla U dt + d\\mathbf{W}\n",
    "$$\n"
   ]
  },
  {
   "cell_type": "code",
   "execution_count": 24,
   "metadata": {},
   "outputs": [],
   "source": [
    "sfdir = !pwd\n",
    "sfdir = \"/\".join(sfdir[0].split(\"/\")[:-3]) + \"/\"\n",
    "import sys\n",
    "sys.path.insert(0, sfdir+'pyritz/')\n",
    "\n",
    "import pyritz\n",
    "import numpy as np\n",
    "import matplotlib.pyplot as plt\n",
    "import matplotlib as mpl\n",
    "import nlopt"
   ]
  },
  {
   "cell_type": "markdown",
   "metadata": {},
   "source": [
    "## System"
   ]
  },
  {
   "cell_type": "markdown",
   "metadata": {},
   "source": [
    "### Parameters\n",
    "\n",
    "System parameters are defined here. All system parameter variables are prefaced with \"m_\", with the exception of `dim` which is the dimension of the system."
   ]
  },
  {
   "cell_type": "code",
   "execution_count": 25,
   "metadata": {},
   "outputs": [],
   "source": [
    "dim = 2\n",
    "\n",
    "m_kT = 0.5\n",
    "\n",
    "m_gamma = 1\n",
    "m_rgamma = 1/m_gamma\n",
    "m_sigma = np.sqrt(2 * m_kT / m_gamma)\n",
    "m_rsigma = (1/m_sigma)\n",
    "m_rsigma_sqrd = m_rsigma**2\n",
    "m_nu_s = 1\n",
    "\n",
    "m_As = np.array([-200, -100, -170, 15])\n",
    "m_a = np.array([-1, -1, -6.5, .7])\n",
    "m_b = np.array([0, 0, 11, .6])\n",
    "m_c = np.array([-10, -10, -6.5, .7])\n",
    "m_Ms = np.array([[[-1, 0], [0, -10]],\n",
    "    [[-1, 0], [0, -10]],\n",
    "    [[-6.5, 11./2], [11./2, -6.5]],\n",
    "    [[0.7, 0.6/2], [0.6/2, 0.7]]])\n",
    "m_ss = np.array([[1, 0], [0, 0.5], [-0.5, 1.5], [-1, 1]])"
   ]
  },
  {
   "cell_type": "markdown",
   "metadata": {},
   "source": [
    "### Dynamics\n",
    "\n",
    "`system_a` is the drift term of the system. It's used for plotting stream-plots, as well as finding fixed points of the deterministic system.\n",
    "\n",
    "`lagrangian` is the Lagrangian of the system. The Lagrangian used is the Geometric Action lagrangian (Heymann and Vanden-Eijnden), defined as\n",
    "\n",
    "$$\n",
    "L(x, \\dot x) = |\\dot x|_D |a(x)|_D - \\langle \\dot x , a(x) \\rangle_D\n",
    "$$\n",
    "\n",
    "for any general Ito diffusion of the form\n",
    "\n",
    "$$\n",
    "dX = a(X)dt + \\sqrt{\\epsilon} dW.\n",
    "$$\n",
    "\n",
    "where $D=\\sigma \\sigma^T$ and the inner product is defined as $\\langle a, b \\rangle_D = \\langle a, D^{-1} b \\rangle$.The function also computes the partial derivatives of the Lagrangian, which are used for gradient optimisation. This can be enabled/disabled by setting the *args* argument to True/False. The partial derivatives of the geometric lagrangian are\n",
    "\n",
    "$$\\begin{aligned}\n",
    "\\frac{\\partial L}{\\partial x} & =  \\nabla a( x ) \\cdot \\left( |\\dot x|_D \\hat{a}(x) - \\dot x \\right) \\\\\n",
    "\\frac{\\partial L}{\\partial \\dot x} & = |a(x)|_D \\hat{\\dot{x}} - a(x)\n",
    "\\end{aligned}$$\n",
    "\n",
    "An important property of the geometric action is that it is time-reparameterisation invariant, meaning that $x$ can be replaced by any other path that shares the same *graph*."
   ]
  },
  {
   "cell_type": "markdown",
   "metadata": {},
   "source": [
    "#### Notes on the Muller-Brown system\n",
    "\n",
    "In this section some useful derivatives are computed, used for the gradient of the geometric action. Some relevant derivatives are\n",
    "\n",
    "$$\n",
    "\\begin{aligned}\n",
    "\\frac{\\partial u^{(k)}}{\\partial x_i} & = 2 u^{(k)}(\\mathbf{x}) \\left[ M^{(k)}_{ij}(\\mathbf{x}_j - \\mathbf{r}_j^{(k)})\\right] \\\\\n",
    "\\frac{ \\partial^2 u^{(k)} }{\\partial x_i \\partial x_j} & = 2 u^{(k)}(\\mathbf{x}) \\left[ 2 M_{il}^{(k)} (x_l - r_l^{(k)}) M_{jn}^{(k)} (x_n - r_n^{(k)}) + M_{ji}^{(k)} \\right] \\\\\n",
    "\\frac{ \\partial^2 U}{\\partial x_i \\partial x_j} & = \\sum_{k=1}^4 2 u^{(k)}(\\mathbf{x}) \\left[ 2 M_{il}^{(k)} (x_l - r_l^{(k)}) M_{jn}^{(k)} (x_n - r_n^{(k)}) + M_{ji}^{(k)} \\right]\n",
    "\\end{aligned}\n",
    "$$\n",
    "\n",
    "We have $U(\\mathbf{x}) = \\sum_{i=1}^4 u^{(i)}$ and $a = - \\nabla U$, so\n",
    "\n",
    "$$\\begin{aligned}\n",
    "    \\nabla a & = -\\sum_{k=1}^4 2 u^{(k)}(\\mathbf{x}) \\left[ 2 (M^{(k)} (x - r^{(k)}))\\ (M^{(n)} (x - r^{(k)}))^T + M^{(k)} \\right].\n",
    "\\end{aligned}$$"
   ]
  },
  {
   "cell_type": "code",
   "execution_count": 26,
   "metadata": {},
   "outputs": [],
   "source": [
    "def system_a(x, y):\n",
    "    xs = np.array([x,y])\n",
    "    rs = np.zeros((2, 4))\n",
    "    us = np.zeros(4)\n",
    "    a_s = np.zeros(2)\n",
    "    \n",
    "    for i in range(4):\n",
    "        rs[:, i] = m_Ms[i, :, :].dot( xs[:] - m_ss[i, :] )\n",
    "        us[i] = m_As[i]*np.exp( (xs[:] - m_ss[i, :]).dot(rs[:, i]) )\n",
    "\n",
    "        a_s[:] += -2*us[i]*rs[:, i]\n",
    "        \n",
    "    return a_s\n",
    "\n",
    "def system_pot(x,y):\n",
    "    pot=np.zeros(x.shape)\n",
    "    _a = m_Ms[:, 0, 0]\n",
    "    _b = m_Ms[:, 0, 1]*2\n",
    "    _c = m_Ms[:, 1, 1]\n",
    "    \n",
    "    for i in range(4):\n",
    "        dd = _a[i]*(x-m_ss[i][0])**2 + _b[i]*(x-m_ss[i][0])*(y-m_ss[i][1]) + _c[i]*(y-m_ss[i][1])**2\n",
    "        pot += m_As[i]*np.exp(dd) \n",
    "        \n",
    "    return pot\n",
    "\n",
    "def lagrangian(ls, dxls, dvls, fvals, ts, args):\n",
    "    compute_gradient = args\n",
    "    \n",
    "    xs, dxs = fvals\n",
    "    \n",
    "    rs = np.zeros((dim, 4, len(ts)))\n",
    "    us = np.zeros((4, len(ts)))\n",
    "    a_s = np.zeros((dim, len(ts)))\n",
    "    \n",
    "    _a = m_Ms[:, 0, 0]\n",
    "    _b = m_Ms[:, 0, 1]*2\n",
    "    _c = m_Ms[:, 1, 1]\n",
    "\n",
    "    for i in range(4):\n",
    "        us[i, :] = m_As[i]*np.exp(\n",
    "            _a[i]*(xs[:, 0]-m_ss[i][0])**2 + _b[i]*(xs[:, 0]-m_ss[i][0])*(xs[:, 1]-m_ss[i][1]) +\n",
    "            _c[i]*(xs[:, 1]-m_ss[i][1])**2)\n",
    "        rs[0, i, :] = _a[i]*(xs[:, 0]-m_ss[i][0])+0.5*_b[i]*(xs[:, 1]-m_ss[i][1])\n",
    "        rs[1, i, :] = _c[i]*(xs[:, 1]-m_ss[i][1])+0.5*_b[i]*(xs[:, 0]-m_ss[i][0])\n",
    "        a_s[0, :] += -2*us[i, :]*rs[0, i, :]\n",
    "        a_s[1, :] += -2*us[i, :]*rs[1, i, :]\n",
    "        \n",
    "    a_s[:, :] *= m_rgamma\n",
    "    \n",
    "    dxs_norm = m_rsigma*np.linalg.norm(dxs, axis=1)\n",
    "    a_norm = m_rsigma*np.linalg.norm(a_s, axis=0)\n",
    "    dxs_dot_a = m_rsigma_sqrd*(a_s[0,:].T*dxs[:,0] + a_s[1,:].T*dxs[:, 1])\n",
    "    \n",
    "    ls[:] = dxs_norm * a_norm - dxs_dot_a\n",
    "    \n",
    "    # Compute gradient\n",
    "    \n",
    "    if compute_gradient:\n",
    "\n",
    "        ## Compute dL/dx\n",
    "\n",
    "        da = np.zeros( (dim, dim, len(ts)) )\n",
    "\n",
    "        for j in range(len(ts)):\n",
    "            for i in range(4):\n",
    "                da[:, :, j] += - 2 * us[i, j] * (2*np.outer(rs[:, i, j], rs[:, i, j]) + m_Ms[i]) \n",
    "                \n",
    "        da[:2, :2, :] *= m_rgamma\n",
    "\n",
    "        a_normalized = a_s/a_norm\n",
    "\n",
    "        a_normalized[:, np.where(a_norm==0)] = 0 # Set zero-norm vectors to 0\n",
    "\n",
    "        for i in range(dxls.shape[0]):\n",
    "            dxls[i, :] = da[:,:,i].dot( dxs_norm[i]*a_normalized[:,i] - dxs[i,:])\n",
    "\n",
    "        ## Compute dL/dv\n",
    "\n",
    "        dxs_2 = (dxs.T*(a_norm/dxs_norm)).T\n",
    "        dxs_2[ np.where(dxs_norm==0),:] = 0\n",
    "\n",
    "        dvls[:] = dxs_2 - a_s.T"
   ]
  },
  {
   "cell_type": "markdown",
   "metadata": {},
   "source": [
    "### Find fixed points of the system"
   ]
  },
  {
   "cell_type": "code",
   "execution_count": 27,
   "metadata": {},
   "outputs": [
    {
     "name": "stdout",
     "output_type": "stream",
     "text": [
      "[-0.55822363  1.44172584] [-0.05001082  0.4666941 ] [0.6234994  0.02803776] [-0.82200156  0.6243128 ] [0.21248658 0.29298833]\n"
     ]
    }
   ],
   "source": [
    "from scipy.optimize import root\n",
    "\n",
    "e_xa  = root(lambda x : system_a(x[0], x[1]), np.array([-0.5, 1.5])).x\n",
    "e_xb  = root(lambda x : system_a(x[0], x[1]), np.array([0, 0.4])).x\n",
    "e_xc  = root(lambda x : system_a(x[0], x[1]), np.array([0.5, 0])).x\n",
    "e_xs1  = root(lambda x : system_a(x[0], x[1]), np.array([-0.7, 0.5])).x\n",
    "e_xs2 = root(lambda x : system_a(x[0], x[1]), np.array([0.2, 0.4])).x\n",
    "\n",
    "print(e_xa, e_xb, e_xc, e_xs1, e_xs2)"
   ]
  },
  {
   "cell_type": "markdown",
   "metadata": {},
   "source": [
    "## Optimisation"
   ]
  },
  {
   "cell_type": "markdown",
   "metadata": {},
   "source": [
    "### Gradient-free optimisation"
   ]
  },
  {
   "cell_type": "code",
   "execution_count": 18,
   "metadata": {},
   "outputs": [
    {
     "ename": "TypeError",
     "evalue": "__init__() got an unexpected keyword argument 'derivatives'",
     "output_type": "error",
     "traceback": [
      "\u001b[0;31m---------------------------------------------------------------------------\u001b[0m",
      "\u001b[0;31mTypeError\u001b[0m                                 Traceback (most recent call last)",
      "\u001b[0;32m<ipython-input-18-7683bfe2d72a>\u001b[0m in \u001b[0;36m<module>\u001b[0;34m\u001b[0m\n\u001b[1;32m     10\u001b[0m ff = pyritz.funcs.CollocationFF(Nm, dim, derivatives=1,\n\u001b[1;32m     11\u001b[0m                                \u001b[0mfixed_start_point\u001b[0m\u001b[0;34m=\u001b[0m\u001b[0mx_start\u001b[0m\u001b[0;34m,\u001b[0m\u001b[0;34m\u001b[0m\u001b[0;34m\u001b[0m\u001b[0m\n\u001b[0;32m---> 12\u001b[0;31m                                fixed_end_point=x_end)\n\u001b[0m\u001b[1;32m     13\u001b[0m \u001b[0;34m\u001b[0m\u001b[0m\n\u001b[1;32m     14\u001b[0m \u001b[0mquad_scheme\u001b[0m \u001b[0;34m=\u001b[0m \u001b[0mpyritz\u001b[0m\u001b[0;34m.\u001b[0m\u001b[0mquads\u001b[0m\u001b[0;34m.\u001b[0m\u001b[0mQ_clenshaw_curtis\u001b[0m\u001b[0;34m\u001b[0m\u001b[0;34m\u001b[0m\u001b[0m\n",
      "\u001b[0;31mTypeError\u001b[0m: __init__() got an unexpected keyword argument 'derivatives'"
     ]
    }
   ],
   "source": [
    "x_start = e_xa\n",
    "x_end = e_xc\n",
    "\n",
    "Nm = 12\n",
    "Nq = Nm*10\n",
    "\n",
    "m0 = pyritz.funcs.CollocationFF.get_straight_line_path(x_start, x_end, Nm,\n",
    "                                    exclude_start_point=True, exclude_end_point=True)\n",
    "\n",
    "ff = pyritz.funcs.CollocationFF(Nm, dim, derivatives=1,\n",
    "                               fixed_start_point=x_start,\n",
    "                               fixed_end_point=x_end)\n",
    "\n",
    "quad_scheme = pyritz.quads.Q_clenshaw_curtis\n",
    "\n",
    "compute_gradient=False\n",
    "act = pyritz.Action(dim, ff, lagrangian, Nq, quad_scheme,\n",
    "                    lagrangian_args=compute_gradient)\n",
    "\n",
    "def get_action(m, grad):\n",
    "    return act.compute(m)\n",
    "\n",
    "opt = nlopt.opt(nlopt.LN_NEWUOA, np.size(m0))\n",
    "opt.set_min_objective(get_action)\n",
    "opt.set_xtol_rel(1e-12)\n",
    "m = opt.optimize(m0)\n",
    "\n",
    "print(act.compute(m0))\n",
    "print(act.compute(m))"
   ]
  },
  {
   "cell_type": "code",
   "execution_count": null,
   "metadata": {},
   "outputs": [],
   "source": [
    "m"
   ]
  },
  {
   "cell_type": "markdown",
   "metadata": {},
   "source": [
    "#### Instanton plot"
   ]
  },
  {
   "cell_type": "code",
   "execution_count": null,
   "metadata": {},
   "outputs": [],
   "source": [
    "# Plot path\n",
    "\n",
    "ts = np.linspace(-1, 1, 1000)\n",
    "\n",
    "paths = [\n",
    "    (m0, \"Initial\"),\n",
    "    (m, \"Final\")\n",
    "]\n",
    "\n",
    "for p in paths:\n",
    "    _m, _mlabel = p\n",
    "    xs, vs = ff.evaluate(_m, ts)\n",
    "    plt.plot(xs[:,0], xs[:,1], label=_mlabel)\n",
    "\n",
    "# Plot contour of potential\n",
    "\n",
    "Nq=128\n",
    "t=np.linspace(-1,1, Nq)\n",
    "X, Y = np.meshgrid(np.linspace(-1.5, 1.2, 128), np.linspace(-.5, 2, 128))\n",
    "plt.contour(X, Y, system_pot(X, Y), 256, cmap='gray', linewidths=1, alpha=0.4);\n",
    "\n",
    "# Plot fixed points\n",
    "\n",
    "plt.plot(e_xa[0], e_xa[1], 'o', mfc='#AA0000', mec='#AA0000', ms=4)\n",
    "plt.plot(e_xb[0], e_xb[1], 'o', mfc='#AA0000', mec='#AA0000', ms=4)\n",
    "plt.plot(e_xc[0], e_xc[1], 'o', mfc='#AA0000', mec='#AA0000', ms=4)\n",
    "plt.plot(e_xs1[0], e_xs1[1], 'o', mfc='#00AA22', mec='#00AA22', ms=4)\n",
    "plt.plot(e_xs2[0], e_xs2[1], 'o', mfc='#00AA22', mec='#00AA22', ms=4)\n",
    "\n",
    "# Plot limits and setup\n",
    "\n",
    "plt.xlim(-1.3, 1.2);plt.ylim(-.5, 2);\n",
    "plt.xlabel(\"$x$\", fontsize=22); plt.ylabel(\"$y$\", fontsize=22)\n",
    "plt.xticks(np.linspace(-1, 1, 5), fontsize=14);\n",
    "plt.yticks(np.linspace(-0.5, 2, 6), fontsize=14);\n",
    "plt.gcf().subplots_adjust(bottom=0.15); plt.tight_layout();\n",
    "plt.legend()\n",
    "\n",
    "fig = mpl.pyplot.gcf()\n",
    "fig.set_size_inches(7, 7)"
   ]
  },
  {
   "cell_type": "markdown",
   "metadata": {},
   "source": [
    "### Gradient optimisation"
   ]
  },
  {
   "cell_type": "code",
   "execution_count": 130,
   "metadata": {},
   "outputs": [],
   "source": [
    "new_Nm = 26\n",
    "\n",
    "ts = pyritz.funcs.CollocationFF.get_chebyshev_nodes(new_Nm)\n",
    "\n",
    "ff = pyritz.funcs.CollocationFF(dim, fixed_start_point=x_start, fixed_end_point=x_end)\n",
    "ff.initialise(Nm, ts)\n",
    "\n",
    "m0 = ff.evaluate(m00)[0].T.flatten()"
   ]
  },
  {
   "cell_type": "code",
   "execution_count": 137,
   "metadata": {
    "scrolled": true
   },
   "outputs": [
    {
     "name": "stdout",
     "output_type": "stream",
     "text": [
      "Evals: 739\n",
      "Grad evals: 400\n",
      "S[m]: 229.06258974577048\n"
     ]
    }
   ],
   "source": [
    "evals_to_save = -1\n",
    "cms = []\n",
    "\n",
    "import warnings; warnings.simplefilter('ignore')\n",
    "\n",
    "x_start = e_xa\n",
    "x_end = e_xc\n",
    "\n",
    "Nm = 26\n",
    "Nq = Nm*20\n",
    "\n",
    "#m0 = pyritz.funcs.CollocationFF.get_straight_line_path(x_start, x_end, Nm,\n",
    "#                                    exclude_start_point=True, exclude_end_point=True)\n",
    "#m0 += np.random.random(len(m0))\n",
    "\n",
    "quad_scheme = pyritz.quads.Q_clenshaw_curtis\n",
    "qts, qws = quad_scheme(Nq)\n",
    "\n",
    "ff = pyritz.funcs.CollocationFF(dim, fixed_start_point=x_start, fixed_end_point=x_end)\n",
    "ff.initialise(Nm, qts)\n",
    "\n",
    "compute_gradient=True\n",
    "act = pyritz.Action(dim, ff, lagrangian, Nm, Nq, quadrature_scheme=quad_scheme,\n",
    "                    lagrangian_args=compute_gradient)\n",
    "\n",
    "def get_action(m, grad):\n",
    "    if opt.evals % evals_to_save == 0:\n",
    "        cms.append((opt.evals, np.array(m)))\n",
    "    \n",
    "    opt.evals += 1\n",
    "    if grad.size > 0:\n",
    "        opt.gevals += 1\n",
    "        return act.compute(m, grad)\n",
    "    else:\n",
    "        return act.compute(m)\n",
    "\n",
    "opt = nlopt.opt(nlopt.LD_SLSQP, np.size(m0))\n",
    "opt.set_min_objective(get_action)\n",
    "opt.set_xtol_rel(1e-14)\n",
    "opt.evals = 0\n",
    "opt.gevals = 0\n",
    "m = opt.optimize(m0)\n",
    "\n",
    "cms.append( (opt.evals, m) )\n",
    "\n",
    "print(\"Evals:\", opt.evals)\n",
    "print(\"Grad evals:\", opt.gevals)\n",
    "print(\"S[m]:\", act.compute(m))"
   ]
  },
  {
   "cell_type": "code",
   "execution_count": 138,
   "metadata": {},
   "outputs": [
    {
     "data": {
      "text/plain": [
       "[<matplotlib.lines.Line2D at 0x7fd5ec2d9ef0>]"
      ]
     },
     "execution_count": 138,
     "metadata": {},
     "output_type": "execute_result"
    },
    {
     "data": {
      "image/png": "[encoded data removed]",
      "text/plain": [
       "<Figure size 800x400 with 1 Axes>"
      ]
     },
     "metadata": {},
     "output_type": "display_data"
    }
   ],
   "source": [
    "m = ff.get_m_with_fixed_points(m)\n",
    "fig = plt.figure(num=None, figsize=(10, 5), dpi=80, facecolor='w', edgecolor='k')\n",
    "\n",
    "def system_a2(Xs, Ys):\n",
    "    vx = np.zeros(Xs.shape)\n",
    "    vy = np.zeros(Xs.shape)\n",
    "    \n",
    "    for i in range(Xs.shape[0]):\n",
    "        xs = np.array([Xs[i], Ys[i]])\n",
    "        rs = np.zeros((2, 4))\n",
    "        us = np.zeros(4)\n",
    "        a_s = np.zeros(2)\n",
    "\n",
    "        for k in range(4):\n",
    "            rs[:, k] = m_Ms[k, :, :].dot( xs[:] - m_ss[k, :] )\n",
    "            us[k] = m_As[k]*np.exp( (xs[:] - m_ss[k, :]).dot(rs[:, k]) )\n",
    "\n",
    "            a_s[:] += -2*us[k]*rs[:, k]\n",
    "\n",
    "        vx[i] = a_s[0]\n",
    "        vy[i] = a_s[1]\n",
    "            \n",
    "    return vx, vy\n",
    "\n",
    "Nm = int(len(m)/2)\n",
    "dim = 2\n",
    "\n",
    "ts = np.linspace(-1, 1, 1000)\n",
    "ff = pyritz.funcs.CollocationFF(dim)\n",
    "ff.initialise(Nm, ts)\n",
    "xs, vs = ff.evaluate_at(m, ts)\n",
    "\n",
    "vx, vy = vs[:,0], vs[:,1]\n",
    "vnorm = np.sqrt(vx**2 + vy**2 )\n",
    "\n",
    "_ax, _ay = system_a2(xs[:,0], xs[:, 1])\n",
    "anorm = np.sqrt(_ax**2 + _ay**2 )\n",
    "\n",
    "ds = np.sqrt(vs[:,0]**2 + vs[:,1]**2 )\n",
    "s = [np.trapz(ds[:i], x=ts[:i]) for i in range(len(ds))]\n",
    "\n",
    "#ta = np.abs(axn*vx + ayn*vy) - np.pi/2\n",
    "ta = (_ax*vx + _ay*vy)/(anorm*vnorm)\n",
    "ta[-1]=0\n",
    "ta[-2]=0\n",
    "# Plot fixed points and lagrangian\n",
    "\n",
    "plt.plot(s, np.arccos(ta), linewidth=2, color = \"black\")"
   ]
  },
  {
   "cell_type": "code",
   "execution_count": 98,
   "metadata": {},
   "outputs": [
    {
     "data": {
      "text/plain": [
       "array([-0.55822363, -0.5707101 , -0.44551948, -0.24466299, -0.08376646,\n",
       "        0.00982038,  0.20966888,  0.36560171,  0.5029698 ,  0.6234994 ,\n",
       "        1.44172584,  1.40283783,  1.25280938,  1.07015902,  0.88897764,\n",
       "        0.52630537,  0.30287252,  0.10409942,  0.04376874,  0.02803776])"
      ]
     },
     "execution_count": 98,
     "metadata": {},
     "output_type": "execute_result"
    }
   ],
   "source": [
    "ff.get_m_with_fixed_points(m)"
   ]
  },
  {
   "cell_type": "code",
   "execution_count": 141,
   "metadata": {},
   "outputs": [
    {
     "name": "stdout",
     "output_type": "stream",
     "text": [
      "739\n"
     ]
    },
    {
     "ename": "ValueError",
     "evalue": "shapes (520,28) and (26,2) not aligned: 28 (dim 1) != 26 (dim 0)",
     "output_type": "error",
     "traceback": [
      "\u001b[0;31m---------------------------------------------------------------------------\u001b[0m",
      "\u001b[0;31mValueError\u001b[0m                                Traceback (most recent call last)",
      "\u001b[0;32m<ipython-input-141-4f4370e3d9cc>\u001b[0m in \u001b[0;36m<module>\u001b[0;34m\u001b[0m\n\u001b[1;32m     17\u001b[0m \u001b[0;32mfor\u001b[0m \u001b[0mp\u001b[0m \u001b[0;32min\u001b[0m \u001b[0mpaths\u001b[0m\u001b[0;34m:\u001b[0m\u001b[0;34m\u001b[0m\u001b[0;34m\u001b[0m\u001b[0m\n\u001b[1;32m     18\u001b[0m     \u001b[0m_m\u001b[0m\u001b[0;34m,\u001b[0m \u001b[0m_mlabel\u001b[0m \u001b[0;34m=\u001b[0m \u001b[0mp\u001b[0m\u001b[0;34m\u001b[0m\u001b[0;34m\u001b[0m\u001b[0m\n\u001b[0;32m---> 19\u001b[0;31m     \u001b[0mxs\u001b[0m\u001b[0;34m,\u001b[0m \u001b[0mvs\u001b[0m \u001b[0;34m=\u001b[0m \u001b[0mff\u001b[0m\u001b[0;34m.\u001b[0m\u001b[0mevaluate\u001b[0m\u001b[0;34m(\u001b[0m\u001b[0m_m\u001b[0m\u001b[0;34m)\u001b[0m\u001b[0;34m\u001b[0m\u001b[0;34m\u001b[0m\u001b[0m\n\u001b[0m\u001b[1;32m     20\u001b[0m     \u001b[0mplt\u001b[0m\u001b[0;34m.\u001b[0m\u001b[0mplot\u001b[0m\u001b[0;34m(\u001b[0m\u001b[0mxs\u001b[0m\u001b[0;34m[\u001b[0m\u001b[0;34m:\u001b[0m\u001b[0;34m,\u001b[0m\u001b[0;36m0\u001b[0m\u001b[0;34m]\u001b[0m\u001b[0;34m,\u001b[0m \u001b[0mxs\u001b[0m\u001b[0;34m[\u001b[0m\u001b[0;34m:\u001b[0m\u001b[0;34m,\u001b[0m\u001b[0;36m1\u001b[0m\u001b[0;34m]\u001b[0m\u001b[0;34m,\u001b[0m \u001b[0mlabel\u001b[0m\u001b[0;34m=\u001b[0m\u001b[0m_mlabel\u001b[0m\u001b[0;34m)\u001b[0m\u001b[0;34m\u001b[0m\u001b[0;34m\u001b[0m\u001b[0m\n\u001b[1;32m     21\u001b[0m \u001b[0;34m\u001b[0m\u001b[0m\n",
      "\u001b[0;32m/store/SOFT/ltk26/dev/softbridge/pyritz/pyritz/funcs/collocation_ff.py\u001b[0m in \u001b[0;36mevaluate\u001b[0;34m(self, m)\u001b[0m\n\u001b[1;32m    264\u001b[0m \u001b[0;34m\u001b[0m\u001b[0m\n\u001b[1;32m    265\u001b[0m         \u001b[0;32mfor\u001b[0m \u001b[0mc\u001b[0m\u001b[0;34m,\u001b[0m \u001b[0mB\u001b[0m \u001b[0;32min\u001b[0m \u001b[0mzip\u001b[0m\u001b[0;34m(\u001b[0m\u001b[0mself\u001b[0m\u001b[0;34m.\u001b[0m\u001b[0mcs\u001b[0m\u001b[0;34m,\u001b[0m \u001b[0mself\u001b[0m\u001b[0;34m.\u001b[0m\u001b[0mBs\u001b[0m\u001b[0;34m)\u001b[0m\u001b[0;34m:\u001b[0m\u001b[0;34m\u001b[0m\u001b[0;34m\u001b[0m\u001b[0m\n\u001b[0;32m--> 266\u001b[0;31m             \u001b[0mvals\u001b[0m\u001b[0;34m.\u001b[0m\u001b[0mappend\u001b[0m\u001b[0;34m(\u001b[0m\u001b[0mc\u001b[0m \u001b[0;34m+\u001b[0m \u001b[0mB\u001b[0m\u001b[0;34m.\u001b[0m\u001b[0mdot\u001b[0m\u001b[0;34m(\u001b[0m\u001b[0mm_reshaped\u001b[0m\u001b[0;34m)\u001b[0m\u001b[0;34m)\u001b[0m\u001b[0;34m\u001b[0m\u001b[0;34m\u001b[0m\u001b[0m\n\u001b[0m\u001b[1;32m    267\u001b[0m \u001b[0;34m\u001b[0m\u001b[0m\n\u001b[1;32m    268\u001b[0m         \u001b[0;32mif\u001b[0m \u001b[0mlen\u001b[0m\u001b[0;34m(\u001b[0m\u001b[0mvals\u001b[0m\u001b[0;34m)\u001b[0m \u001b[0;34m==\u001b[0m \u001b[0;36m1\u001b[0m\u001b[0;34m:\u001b[0m\u001b[0;34m\u001b[0m\u001b[0;34m\u001b[0m\u001b[0m\n",
      "\u001b[0;31mValueError\u001b[0m: shapes (520,28) and (26,2) not aligned: 28 (dim 1) != 26 (dim 0)"
     ]
    }
   ],
   "source": [
    "i = -1\n",
    "m = cms[i][1]\n",
    "print(cms[i][0])\n",
    "\n",
    "# Plot path\n",
    "\n",
    "ts = np.linspace(-1, 1, 1000)\n",
    "\n",
    "paths = [\n",
    "    (m0, \"Initial\"),\n",
    "    (m, \"Final\")\n",
    "]\n",
    "\n",
    "ff = pyritz.funcs.CollocationFF(dim, fixed_start_point=x_start, fixed_end_point=x_end)\n",
    "ff.initialise(Nm, qts)\n",
    "\n",
    "for p in paths:\n",
    "    _m, _mlabel = p\n",
    "    xs, vs = ff.evaluate(_m)\n",
    "    plt.plot(xs[:,0], xs[:,1], label=_mlabel)\n",
    "\n",
    "# Plot contour of potential\n",
    "\n",
    "Nq=128\n",
    "t=np.linspace(-1,1, Nq)\n",
    "X, Y = np.meshgrid(np.linspace(-1.5, 1.2, 128), np.linspace(-.5, 2, 128))\n",
    "plt.contour(X, Y, system_pot(X, Y), 256, cmap='gray', linewidths=1, alpha=0.4);\n",
    "\n",
    "# Plot fixed points\n",
    "\n",
    "plt.plot(e_xa[0], e_xa[1], 'o', mfc='#AA0000', mec='#AA0000', ms=4)\n",
    "plt.plot(e_xb[0], e_xb[1], 'o', mfc='#AA0000', mec='#AA0000', ms=4)\n",
    "plt.plot(e_xc[0], e_xc[1], 'o', mfc='#AA0000', mec='#AA0000', ms=4)\n",
    "plt.plot(e_xs1[0], e_xs1[1], 'o', mfc='#00AA22', mec='#00AA22', ms=4)\n",
    "plt.plot(e_xs2[0], e_xs2[1], 'o', mfc='#00AA22', mec='#00AA22', ms=4)\n",
    "\n",
    "# Plot limits and setup\n",
    "\n",
    "plt.xlim(-1.3, 1.2);plt.ylim(-.5, 2);\n",
    "plt.xlabel(\"$x$\", fontsize=22); plt.ylabel(\"$y$\", fontsize=22)\n",
    "plt.xticks(np.linspace(-1, 1, 5), fontsize=14);\n",
    "plt.yticks(np.linspace(-0.5, 2, 6), fontsize=14);\n",
    "plt.gcf().subplots_adjust(bottom=0.15); plt.tight_layout();\n",
    "plt.legend()\n",
    "\n",
    "fig = mpl.pyplot.gcf()\n",
    "fig.set_size_inches(7, 7)"
   ]
  },
  {
   "cell_type": "code",
   "execution_count": null,
   "metadata": {},
   "outputs": [],
   "source": [
    "ts = np.linspace(-1, 1, 1000)\n",
    "xs, vs = ff.evaluate(m, ts)\n",
    "\n",
    "ls = act.compute_lagrangian(m, ts)[0]\n",
    "\n",
    "ds = np.sqrt(1+(vs[:,1]/vs[:,0])**2 )\n",
    "s = [np.trapz(ds[:i], x=ts[:i]) for i in range(len(ds))]\n",
    "\n",
    "# Plot fixed points\n",
    "\n",
    "fixed_points = [\n",
    "    (\"min\", e_xa),\n",
    "    (\"max\", e_xs1),\n",
    "    (\"min\", e_xb),\n",
    "    (\"max\", e_xs2),\n",
    "    (\"min\", e_xc)\n",
    "]\n",
    "\n",
    "for i in range(len(fixed_points)):\n",
    "    t, f = fixed_points[i]\n",
    "    d = xs - f\n",
    "    d = d[:,0]**2 + d[:,1]**2\n",
    "    sf = s[np.where(d==np.min(d))[0][0]]\n",
    "    \n",
    "    plt.plot(sf, 0, \".\") \n",
    "\n",
    "plt.plot(s, ls)"
   ]
  },
  {
   "cell_type": "markdown",
   "metadata": {},
   "source": [
    "### Spectral convergence"
   ]
  },
  {
   "cell_type": "markdown",
   "metadata": {},
   "source": [
    "Analytical value for action:"
   ]
  },
  {
   "cell_type": "code",
   "execution_count": null,
   "metadata": {},
   "outputs": [],
   "source": [
    "2*( (system_pot(e_xs1[0], e_xs1[1]) - system_pot(e_xa[0], e_xa[1])) + \\\n",
    "(system_pot(e_xs2[0], e_xs2[1]) - system_pot(e_xb[0], e_xb[1])) )"
   ]
  },
  {
   "cell_type": "markdown",
   "metadata": {},
   "source": [
    "Instantons:"
   ]
  },
  {
   "cell_type": "code",
   "execution_count": null,
   "metadata": {},
   "outputs": [],
   "source": [
    "for Nm, Nq, s, m in acs:\n",
    "    Nq = Nm*500\n",
    "    ff = pyritz.funcs.CollocationFF(Nm, dim, derivatives=1,\n",
    "                                   fixed_start_point=x_start,\n",
    "                                   fixed_end_point=x_end)\n",
    "\n",
    "    quad_scheme = pyritz.quads.Q_clenshaw_curtis\n",
    "\n",
    "    compute_gradient=True\n",
    "    act = pyritz.Action(dim, ff, lagrangian, Nq, quad_scheme,\n",
    "                        lagrangian_args=compute_gradient)\n",
    "    \n",
    "    print(\"Nm:\", Nm, \"S:\", act.compute(m))"
   ]
  },
  {
   "cell_type": "code",
   "execution_count": null,
   "metadata": {},
   "outputs": [],
   "source": [
    "Nm, Nq, s, m = acs[11]\n",
    "\n",
    "Nq = Nm*500\n",
    "\n",
    "ff = pyritz.funcs.CollocationFF(Nm, dim, derivatives=1,\n",
    "                               fixed_start_point=x_start,\n",
    "                               fixed_end_point=x_end)\n",
    "\n",
    "quad_scheme = pyritz.quads.Q_clenshaw_curtis\n",
    "\n",
    "compute_gradient=True\n",
    "act = pyritz.Action(dim, ff, lagrangian, Nq, quad_scheme,\n",
    "                    lagrangian_args=compute_gradient)\n",
    "\n",
    "act.compute(m)"
   ]
  },
  {
   "cell_type": "code",
   "execution_count": null,
   "metadata": {
    "scrolled": true
   },
   "outputs": [],
   "source": [
    "import warnings; warnings.simplefilter('ignore')\n",
    "\n",
    "acs = []\n",
    "\n",
    "for i in range(1, 45):\n",
    "    x_start = e_xa\n",
    "    x_end = e_xs1\n",
    "\n",
    "    Nm = i\n",
    "    Nq = Nm*80\n",
    "\n",
    "    m0 = pyritz.funcs.CollocationFF.get_straight_line_path(x_start, x_end, Nm,\n",
    "                                        exclude_start_point=True, exclude_end_point=True)\n",
    "\n",
    "    ff = pyritz.funcs.CollocationFF(Nm, dim, derivatives=1,\n",
    "                                   fixed_start_point=x_start,\n",
    "                                   fixed_end_point=x_end)\n",
    "\n",
    "    quad_scheme = pyritz.quads.Q_clenshaw_curtis\n",
    "\n",
    "    compute_gradient=True\n",
    "    act = pyritz.Action(dim, ff, lagrangian, Nq, quad_scheme,\n",
    "                        lagrangian_args=compute_gradient)\n",
    "\n",
    "    def get_action(m, grad):\n",
    "        if grad.size > 0:\n",
    "            return act.compute(m, grad)\n",
    "        else:\n",
    "            return act.compute(m)\n",
    "\n",
    "    opt = nlopt.opt(nlopt.LD_SLSQP, np.size(m0))\n",
    "    opt.set_min_objective(get_action)\n",
    "    opt.set_xtol_rel(1e-16)\n",
    "    m = opt.optimize(m0)\n",
    "\n",
    "    s = act.compute(m)\n",
    "    \n",
    "    # Compute accurate S\n",
    "    \n",
    "    act = pyritz.Action(dim, ff, lagrangian, Nq*40, quad_scheme,\n",
    "                            lagrangian_args=compute_gradient)\n",
    "\n",
    "    acc_s = act.compute(m)\n",
    "    \n",
    "    print(\"Nm:\", Nm, \"Nq:\", Nq, \"S:\", s, \"acc_S:\", acc_s, \"err_S:\", np.abs(acc_s - s))\n",
    "    \n",
    "    acs.append( (Nm, Nq, s, m) )"
   ]
  },
  {
   "cell_type": "code",
   "execution_count": null,
   "metadata": {},
   "outputs": [],
   "source": [
    "import warnings; warnings.simplefilter('ignore')\n",
    "\n",
    "def lagrangian_args_generator(Nm, Nq, m, function_family):\n",
    "    m[:] += (-1 + 2*np.random.random(len(m)))*0.05 # Add some noise to initial path\n",
    "    return True\n",
    "\n",
    "x_start = e_xa\n",
    "x_end = e_xs1\n",
    "\n",
    "Nms = np.arange(1, 45)\n",
    "Nqs = Nms*80 \n",
    "\n",
    "m0 = pyritz.funcs.CollocationFF.get_straight_line_path(x_start, x_end, Nms[0],\n",
    "                                    exclude_start_point=True, exclude_end_point=True)\n",
    "\n",
    "ff = pyritz.funcs.CollocationFF(Nms[0], dim, derivatives=1,\n",
    "                               fixed_start_point=x_start,\n",
    "                               fixed_end_point=x_end)\n",
    "quad_scheme = pyritz.quads.Q_clenshaw_curtis\n",
    "compute_gradient=True\n",
    "\n",
    "res = []\n",
    "pyritz.utils.minimize_action_iteratively(Nms, Nqs, x_start, x_end, lagrangian, ff, quad_scheme, m0,\n",
    "                           nlopt.LD_SLSQP, lagrangian_args=compute_gradient,\n",
    "                           xtol_rel=1e-16, results=res,\n",
    "                            lagrangian_args_generator=lagrangian_args_generator,\n",
    "                            compute_accurate_S=True, compute_accurate_S_Nq_factor=40)"
   ]
  }
 ],
 "metadata": {
  "kernelspec": {
   "display_name": "Python 3",
   "language": "python",
   "name": "python3"
  },
  "language_info": {
   "codemirror_mode": {
    "name": "ipython",
    "version": 3
   },
   "file_extension": ".py",
   "mimetype": "text/x-python",
   "name": "python",
   "nbconvert_exporter": "python",
   "pygments_lexer": "ipython3",
   "version": "3.7.3"
  }
 },
 "nbformat": 4,
 "nbformat_minor": 2
}
