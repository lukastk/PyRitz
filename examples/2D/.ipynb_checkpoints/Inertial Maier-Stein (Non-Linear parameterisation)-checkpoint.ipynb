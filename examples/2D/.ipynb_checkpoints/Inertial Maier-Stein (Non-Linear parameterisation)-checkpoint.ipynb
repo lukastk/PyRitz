{
 "cells": [
  {
   "cell_type": "markdown",
   "metadata": {},
   "source": [
    "# Inertial Maier-Stein\n",
    "\n",
    "**Lagrangian:** Freidlin-Wenztell action with a non-linear time-reparameterisation\n",
    "<br>\n",
    "**Implementation:** Python\n",
    "\n",
    "**System:**\n",
    "\n",
    "$$\n",
    "\\begin{cases}\n",
    "m \\dot{v} = (a(r) - \\gamma v ) dt + \\sqrt{\\epsilon} \\dot{W} \\\\\n",
    "\\dot{r} = v\n",
    "\\end{cases}\n",
    "$$\n",
    "\n",
    "where $\\mathbf{r} = (u, v)$ and\n",
    "\n",
    "$$\n",
    "a(u, v) = \\big(u - u^3 - \\beta u v^2, -(1 + u^2) v \\big)\n",
    "$$"
   ]
  },
  {
   "cell_type": "code",
   "execution_count": 1,
   "metadata": {},
   "outputs": [],
   "source": [
    "sfdir = !pwd\n",
    "sfdir = \"/\".join(sfdir[0].split(\"/\")[:-3]) + \"/\"\n",
    "import sys\n",
    "sys.path.insert(0, sfdir+'pyritz/')\n",
    "\n",
    "import pyritz\n",
    "import pyddx\n",
    "from pyddx.sc import dmsuite\n",
    "import numpy as np\n",
    "import matplotlib.pyplot as plt\n",
    "import matplotlib as mpl\n",
    "import nlopt"
   ]
  },
  {
   "cell_type": "markdown",
   "metadata": {},
   "source": [
    "## Generate time-reparameterisations"
   ]
  },
  {
   "cell_type": "markdown",
   "metadata": {},
   "source": [
    "Let $\\chi = (u, v)$, $a = (u - u^3 - \\beta u v^2, -(1 + u^2) v$  and $W = (W_u, W_v)$. Let $s$ denote the real time-parameterisation of the path, such that we have path-realisations $\\chi = \\chi(s)$, and $s \\in I$ where $I$ is some finite or infinite time-interval. Then the Freidlin-Wentzell action is\n",
    "\n",
    "$$\n",
    "S[\\phi(s)] = \\int_I \\frac{1}{2} | \\dot{\\chi} - a|^2 ds.\n",
    "$$\n",
    "\n",
    "We define a time-reparameterisation $s = s(t)$ such that $s([-1, 1]) = I$, where we have taken the image of the $[-1,1]$ under the reparameterisation mapping. For a corresponding path $\\chi=\\chi(s)$, we have the reparameterisation $x(t) = \\chi(s(t))$. The action can then be rewritten as\n",
    "\n",
    "$$\n",
    "S[x(t)] = \\int_{-1}^1 \\frac{1}{2} \\frac{ds}{dt} \\left| \\frac{dt}{ds} \\frac{d x}{dt} - a \\right|^2 dt\n",
    "$$\n",
    "\n",
    "The functions below pre-computes $\\frac{ds}{dt}$ and $\\frac{dt}{ds}$ at the specified quadrature nodes, to expediate the action calculation. The variable `tp_infinites` is a list of indices, keeping track of points where $\\frac{ds}{dt}$ diverges. At the divergent points, we expect the value of the Lagrangian to be zero (if we have chosen the time-reparameterisation correctly, according to the starting and end points of the path). Therefore we set the Lagrangian to zero at the divergent points."
   ]
  },
  {
   "cell_type": "code",
   "execution_count": 2,
   "metadata": {},
   "outputs": [],
   "source": [
    "def get_time_parameterisation_tan(ts):\n",
    "    tp_dsdt = 0.5*np.pi * (np.cos(0.5*np.pi*ts)**(-2))\n",
    "    tp_dtds = (2/np.pi)*(np.cos(0.5*np.pi*ts)**2)\n",
    "    \n",
    "    tp_infinites = []\n",
    "    for i in range(len(tp_dsdt)):\n",
    "        if tp_dsdt[i] == np.inf:\n",
    "            tp_infinites.append(i)\n",
    "    \n",
    "    return (tp_dsdt, tp_dtds, tp_infinites)\n",
    "    \n",
    "def get_time_parameterisation_log(ts):\n",
    "    tp_dsdt = 1/( (1+ ts)*np.log(2))\n",
    "    tp_dtds = 1/ tp_dsdt\n",
    "    \n",
    "    tp_infinites = []\n",
    "    for i in range(len(tp_dsdt)):\n",
    "        if tp_dsdt[i] == np.inf:\n",
    "            tp_infinites.append(i)\n",
    "            \n",
    "    return (tp_dsdt, tp_dtds, tp_infinites)\n",
    "    \n",
    "def get_time_parameterisation_arctanh(ts):\n",
    "    tp_dsdt = 1/(1-ts**2)\n",
    "    tp_dtds = (1-ts**2)\n",
    "    tp_d2sdt2 = 2 * ts / (( 1 - ts**2)**2)\n",
    "    tp_dtds2 = tp_dtds**2\n",
    "    tp_dtds3 = -tp_d2sdt2*tp_dtds*tp_dtds2\n",
    "    \n",
    "    tp_infinites = []\n",
    "    for i in range(len(tp_dsdt)):\n",
    "        if tp_dsdt[i] == np.inf:\n",
    "            tp_infinites.append(i)\n",
    "            \n",
    "    return (tp_dsdt, tp_dtds, tp_dtds2, tp_dtds3, tp_infinites)\n",
    "\n",
    "def get_time_parameterisation_arctanh2(ts):\n",
    "    def dsdt(t):\n",
    "        if t < 0:\n",
    "            return np.exp(t) * np.arctanh(t) + np.exp(t)/(1-t**2)\n",
    "        else:\n",
    "            return -np.exp(-t) * np.arctanh(t) + np.exp(-t)/(1-t**2)\n",
    "        \n",
    "    tp_dsdt = np.array(list( map(dsdt, ts) ))\n",
    "    tp_dtds = 1 / tp_dsdt\n",
    "    tp_d2sdt2 = 2 * ts / (( 1 - ts**2)**2)\n",
    "    tp_dtds2 = tp_dtds**2\n",
    "    tp_dtds3 = -tp_d2sdt2*tp_dtds*tp_dtds2\n",
    "    \n",
    "    tp_infinites = []\n",
    "    for i in range(len(tp_dsdt)):\n",
    "        if np.isnan(tp_dsdt[i]):\n",
    "            tp_infinites.append(i)\n",
    "            \n",
    "    return (tp_dsdt, tp_dtds, tp_dtds2, tp_dtds3, tp_infinites)\n",
    "\n",
    "def get_time_parameterisation_arctanh4(ts):\n",
    "    def dsdt(t):\n",
    "        if t < 0:\n",
    "            return (3.0/2) * (np.exp(-np.sqrt(-t))**3) * np.arctanh(t) / (2*np.sqrt(-t)) + np.exp(-np.sqrt(-t))**3/(1-t**2)\n",
    "        else:\n",
    "            return -(3.0/2) * (np.exp(-np.sqrt(t))**3) * np.arctanh(t) / (2*np.sqrt(t)) + np.exp(-np.sqrt(t))**3/(1-t**2)\n",
    "        \n",
    "    tp_dsdt = np.array(list( map(dsdt, ts) ))\n",
    "    tp_dtds = 1 / tp_dsdt\n",
    "    tp_d2sdt2 = 2 * ts / (( 1 - ts**2)**2)\n",
    "    tp_dtds2 = tp_dtds**2\n",
    "    tp_dtds3 = -tp_d2sdt2*tp_dtds*tp_dtds2\n",
    "    \n",
    "    tp_infinites = []\n",
    "    for i in range(len(tp_dsdt)):\n",
    "        if np.isnan(tp_dsdt[i]):\n",
    "            tp_infinites.append(i)\n",
    "            \n",
    "    return (tp_dsdt, tp_dtds, tp_dtds2, tp_dtds3, tp_infinites)\n",
    "\n",
    "def get_time_parameterisation_fpol(ts):\n",
    "    tp_dsdt = 2*(1 + ts**2) / ( ts**2 - 1 )**2\n",
    "    tp_dtds = 1/ tp_dsdt\n",
    "    tp_d2sdt2 = 2 * ts / (( 1 - ts**2)**2)\n",
    "    tp_dtds2 = tp_dtds**2\n",
    "    tp_dtds3 = -tp_d2sdt2*tp_dtds*tp_dtds2\n",
    "    \n",
    "    tp_infinites = []\n",
    "    for i in range(len(tp_dsdt)):\n",
    "        if np.isnan(tp_dsdt[i]):\n",
    "            tp_infinites.append(i)\n",
    "            \n",
    "    return (tp_dsdt, tp_dtds, tp_dtds2, tp_dtds3, tp_infinites)"
   ]
  },
  {
   "cell_type": "markdown",
   "metadata": {},
   "source": [
    "## System"
   ]
  },
  {
   "cell_type": "markdown",
   "metadata": {},
   "source": [
    "### Parameters"
   ]
  },
  {
   "cell_type": "markdown",
   "metadata": {},
   "source": [
    "System parameters are defined here. All system parameter variables are prefaced with \"m_\", with the exception of `dim` which is the dimension of the system."
   ]
  },
  {
   "cell_type": "code",
   "execution_count": 3,
   "metadata": {},
   "outputs": [],
   "source": [
    "dim = 2\n",
    "\n",
    "m_beta = 10\n",
    "m_gamma = 1\n",
    "m_m = 1"
   ]
  },
  {
   "cell_type": "markdown",
   "metadata": {},
   "source": [
    "### Dynamics\n",
    "\n",
    "`system_a` is the drift term of the system. It's used for plotting stream-plots, as well as finding fixed points of the deterministic system.\n",
    "\n",
    "`lagrangian` is the Lagrangian of the system. The Lagrangian used is the time-reparameterised Freidlin-Wentzell action, described above."
   ]
  },
  {
   "cell_type": "markdown",
   "metadata": {},
   "source": [
    "#### Notes on the Maier-Stein system\n",
    "\n",
    "Let $(\\nabla a)_{ij} = \\frac{\\partial a_i}{\\partial x_j}$, where $x = (u, v)$, then\n",
    "\n",
    "$$\n",
    "\\nabla a = \\begin{pmatrix}\n",
    "    1 - 3 u^2 - \\beta v^2 & - 2 \\beta u v \\\\\n",
    "    -2 u v & - (1 + u^2)\n",
    "\\end{pmatrix}\n",
    "$$"
   ]
  },
  {
   "cell_type": "code",
   "execution_count": 4,
   "metadata": {},
   "outputs": [],
   "source": [
    "def system_a(u, v):\n",
    "    return np.array([u - np.power(u, 3) - m_beta * u * np.power(v, 2),\n",
    "           -(1 + np.power(u, 2))*v])\n",
    "\n",
    "def lagrangian(ls, dxls, dvls, fvals, ts, args):\n",
    "    compute_gradient, tp_dsdt, tp_dtds, tp_dtds2, tp_dtds3, tp_infinites = args\n",
    "    \n",
    "    xs, dxs, ddxs = fvals\n",
    "    us, vs = xs[:, 0], xs[:, 1]\n",
    "    dus, dvs = tp_dtds*dxs[:, 0], tp_dtds*dxs[:, 1]\n",
    "    ddus = tp_dtds3 * dxs[:, 0] + tp_dtds2 * ddxs[:, 0]\n",
    "    ddvs = tp_dtds3 * dxs[:, 1] + tp_dtds2 * ddxs[:, 1]\n",
    "    \n",
    "    aus = us - np.power(us, 3) - m_beta * us * np.power(vs, 2) - m_gamma * dus\n",
    "    avs = -(1 + np.power(us, 2))*vs - m_gamma * dvs\n",
    "    \n",
    "    ls[:] = 0.5*tp_dsdt * (  ( m_m*ddus - aus )**2 + ( m_m*ddvs - avs )**2  )\n",
    "    \n",
    "    for i in tp_infinites:\n",
    "        ls[i] = 0\n",
    "    \n",
    "    # Compute gradient\n",
    "    \n",
    "    if compute_gradient:\n",
    "        a_s = np.array([aus, avs])\n",
    "        \n",
    "        ## Compute dL/dx\n",
    "\n",
    "        da = np.array([\n",
    "            [1 - 3*us**2 - m_beta*vs**2,     -2*us*vs, - m_gamma, 0],\n",
    "            [-2*m_beta*us*vs,                -(1+us**2), 0, - m_gamma],\n",
    "            [0, 0, 1, 0],\n",
    "            [0, 0, 0, 1]\n",
    "        ])\n",
    "\n",
    "        for i in range(len(ts)):\n",
    "            dxls[i, :] = -da[:, :, i].dot(-tp_dsdt[i]*a_s[:, i] + dxs[i, :])\n",
    "            \n",
    "        for i in tp_infinites:\n",
    "            dxls[i, :] = 0\n",
    "\n",
    "        ## Compute dL/dv\n",
    "        \n",
    "        dvls[:] = -a_s[:, :].T + (tp_dtds*dxs.T).T"
   ]
  },
  {
   "cell_type": "markdown",
   "metadata": {},
   "source": [
    "### Find fixed points of the system"
   ]
  },
  {
   "cell_type": "code",
   "execution_count": 5,
   "metadata": {},
   "outputs": [
    {
     "name": "stdout",
     "output_type": "stream",
     "text": [
      "[-1.  0.] [1. 0.] [0. 0.]\n"
     ]
    }
   ],
   "source": [
    "from scipy.optimize import root\n",
    "\n",
    "e_xa = root(lambda x : system_a(x[0], x[1]), np.array([-1, 0])).x\n",
    "e_xb = root(lambda x : system_a(x[0], x[1]), np.array([1, 0])).x\n",
    "e_xs = root(lambda x : system_a(x[0], x[1]), np.array([0.1, 0.1])).x\n",
    "\n",
    "print(e_xa, e_xb, e_xs)"
   ]
  },
  {
   "cell_type": "markdown",
   "metadata": {},
   "source": [
    "## Optimisation"
   ]
  },
  {
   "cell_type": "markdown",
   "metadata": {},
   "source": [
    "### Zero-velocity boundary conditions"
   ]
  },
  {
   "cell_type": "code",
   "execution_count": null,
   "metadata": {},
   "outputs": [],
   "source": [
    "from scipy.linalg import null_space\n",
    "\n",
    "Nm = 12\n",
    "N_bcs = 4\n",
    "\n",
    "# Construct the matrix encoding the zero-velocity boundary conditions\n",
    "\n",
    "_, D = dmsuite.chebdif(Nm, 1)\n",
    "D = D[0, :, :]\n",
    "C_zero_velocity = np.vstack(\n",
    "    [\n",
    "        np.concatenate( [D[0, :], np.zeros(Nm)] ),\n",
    "        np.concatenate( [np.zeros(Nm), D[0, :]] ),\n",
    "        np.concatenate( [D[-1, :], np.zeros(Nm)] ),\n",
    "        np.concatenate( [np.zeros(Nm), D[-1, :]] ),\n",
    "    ]\n",
    ")\n",
    "\n",
    "# Construct the matrix encoding the starting-points boundary conditions\n",
    "\n",
    "C_sp = np.zeros( (4, dim*Nm) )\n",
    "\n",
    "for i in range(dim):\n",
    "    C_sp[2*i, i*Nm] = 1\n",
    "    C_sp[2*i+1, (i+1)*Nm-1] = 1\n",
    "\n",
    "# Find the null-space of the full boundary condition matrix\n",
    "\n",
    "C = np.vstack( [C_zero_velocity, C_sp] )\n",
    "Z = null_space(C, rcond=1e-16)\n",
    "\n",
    "# Construct the transformation\n",
    "\n",
    "Cb = np.zeros(8) # The boundary condition vector\n",
    "\n",
    "for i in range(dim):\n",
    "    Cb[4+2*i] = x_start[i]\n",
    "    Cb[4+2*i+1] = x_end[i]\n",
    "\n",
    "# Find m0\n",
    "\n",
    "#Cb0 = np.linalg.lstsq(C, Cb)[0]\n",
    "\n",
    "#C.dot(Cb0)"
   ]
  },
  {
   "cell_type": "code",
   "execution_count": null,
   "metadata": {},
   "outputs": [],
   "source": [
    "def get_straight_path(t):\n",
    "    x1 = x_start[0]\n",
    "    x2 = x_end[0]\n",
    "    return 0.25*((2 - 3*t + t**3)*x1 + (2 + 3*t - t**3)*x2)\n",
    "\n",
    "base_m = np.concatenate([\n",
    "    get_straight_path(pyritz.funcs.CollocationFF.get_chebyshev_nodes(Nm)),\n",
    "    np.zeros(Nm)\n",
    "    ]\n",
    ")\n",
    "\n",
    "C.dot(base_m)"
   ]
  },
  {
   "cell_type": "markdown",
   "metadata": {},
   "source": [
    "### Gradient-free optimisation"
   ]
  },
  {
   "cell_type": "code",
   "execution_count": 6,
   "metadata": {},
   "outputs": [
    {
     "name": "stderr",
     "output_type": "stream",
     "text": [
      "/store/SOFT/ltk26/anaconda3/lib/python3.7/site-packages/ipykernel_launcher.py:24: RuntimeWarning: divide by zero encountered in true_divide\n",
      "/store/SOFT/ltk26/anaconda3/lib/python3.7/site-packages/ipykernel_launcher.py:26: RuntimeWarning: divide by zero encountered in true_divide\n",
      "/store/SOFT/ltk26/anaconda3/lib/python3.7/site-packages/ipykernel_launcher.py:28: RuntimeWarning: invalid value encountered in multiply\n",
      "/store/SOFT/ltk26/dev/softbridge/pyritz/pyritz/funcs/collocation_ff.py:179: RuntimeWarning: divide by zero encountered in double_scalars\n",
      "  s += omegas[k] / (ts[i] - self.chebyshev_ts[k] )\n"
     ]
    },
    {
     "name": "stdout",
     "output_type": "stream",
     "text": [
      "1.3717806078903503\n",
      "0.318343155893184\n"
     ]
    }
   ],
   "source": [
    "x_start = e_xa\n",
    "x_end = e_xs\n",
    "\n",
    "Nm = 12\n",
    "Nq = Nm*10\n",
    "\n",
    "m_gamma = 1\n",
    "m_m = 2\n",
    "\n",
    "m0 = pyritz.funcs.CollocationFF.get_straight_line_path(x_start, x_end, Nm,\n",
    "                                    exclude_start_point=True, exclude_end_point=True)\n",
    "m0 += np.random.random(len(m0))*0.01\n",
    "\n",
    "ff = pyritz.funcs.CollocationFF(Nm, dim, derivatives=2,\n",
    "                               fixed_start_point=x_start,\n",
    "                               fixed_end_point=x_end)\n",
    "\n",
    "quad_scheme = pyritz.quads.Q_clenshaw_curtis\n",
    "qts, _ = quad_scheme(Nq)\n",
    "tp_dsdt, tp_dtds, tp_dtds2, tp_dtds3, tp_infinites = get_time_parameterisation_arctanh(qts)\n",
    "\n",
    "compute_gradient = False\n",
    "act = pyritz.Action(dim, ff, lagrangian, Nq, quad_scheme,\n",
    "                    lagrangian_args=(compute_gradient, tp_dsdt, tp_dtds, tp_dtds2, tp_dtds3, tp_infinites))\n",
    "\n",
    "def get_action(m, grad):\n",
    "    return act.compute(m)\n",
    "\n",
    "opt = nlopt.opt(nlopt.LN_NEWUOA, np.size(m0))\n",
    "opt.set_min_objective(get_action)\n",
    "opt.set_maxeval(10000)\n",
    "opt.set_xtol_rel(1e-12)\n",
    "m = opt.optimize(m0)\n",
    "\n",
    "print(act.compute(m0))\n",
    "print(act.compute(m))"
   ]
  },
  {
   "cell_type": "markdown",
   "metadata": {},
   "source": [
    "#### Instanton plot"
   ]
  },
  {
   "cell_type": "code",
   "execution_count": null,
   "metadata": {},
   "outputs": [],
   "source": [
    "ts = np.linspace(-1, 1, 1000)\n",
    "\n",
    "paths = [\n",
    "    (m0, \"Initial\"),\n",
    "    (m, \"Final\")\n",
    "]\n",
    "\n",
    "\n",
    "for p in paths:\n",
    "    _m, _mlabel = p\n",
    "    xs, vs, dvs = ff.evaluate(_m, ts)\n",
    "    plt.plot(xs[:,0], xs[:,1], label=_mlabel)\n",
    "\n",
    "X, Y = np.meshgrid(np.linspace(-1.2,1.2,64), np.linspace(-0.4,.4,64))\n",
    "vx,vy=system_a(X,Y); vx=vx/np.sqrt(vx**2+vy**2); vy=vy/np.sqrt(vx**2+vy**2)\n",
    "plt.streamplot(X,Y, vx, vy, density=1.7, linewidth=.6, color='gray');\n",
    "plt.legend()\n",
    "\n",
    "fig = mpl.pyplot.gcf()\n",
    "fig.set_size_inches(7, 6)"
   ]
  },
  {
   "cell_type": "markdown",
   "metadata": {},
   "source": [
    "### Iterative gradient-free optimisation"
   ]
  },
  {
   "cell_type": "code",
   "execution_count": null,
   "metadata": {
    "scrolled": true
   },
   "outputs": [],
   "source": [
    "m_gamma = 1\n",
    "m_m = 1\n",
    "\n",
    "def lagrangian_args_generator(Nm, Nq, m, ff):\n",
    "    compute_gradient = False\n",
    "    qts, _ = quad_scheme(Nq)\n",
    "    tp_dsdt, tp_dtds, tp_dtds2, tp_dtds3, tp_infinites = get_time_parameterisation_arctanh(qts)\n",
    "    return (compute_gradient, tp_dsdt, tp_dtds, tp_dtds2, tp_dtds3, tp_infinites)\n",
    "\n",
    "x_start = e_xa\n",
    "x_end = e_xs\n",
    "\n",
    "Nms = np.arange(8, 14, 2)\n",
    "#Nms = np.array( [8, 10, 12, 14, 16, 18, 20, 22, 24, 26, 28, 30, 32, 34, 36, 38, 40, 42, 44, 46, 48, 50, 52, 54, 56, 58, 60] ).astype(int)\n",
    "Nqs = Nms*8\n",
    "\n",
    "m0 = pyritz.funcs.CollocationFF.get_straight_line_path(x_start, x_end, Nms[0],\n",
    "                                    exclude_start_point=True, exclude_end_point=True)\n",
    "\n",
    "quad_scheme = pyritz.quads.Q_clenshaw_curtis\n",
    "ff = pyritz.funcs.CollocationFF(Nms[0], dim, derivatives=2,\n",
    "                               fixed_start_point=x_start,\n",
    "                               fixed_end_point=x_end)\n",
    "\n",
    "res = pyritz.utils.minimize_action_iteratively(Nms, Nqs, x_start, x_end, lagrangian, ff, quad_scheme, m0,\n",
    "                           nlopt.LN_NEWUOA,\n",
    "                            lagrangian_args_generator=lagrangian_args_generator,\n",
    "                           xtol_rel=1e-12)"
   ]
  },
  {
   "cell_type": "code",
   "execution_count": null,
   "metadata": {},
   "outputs": [],
   "source": [
    "res = res[-2:]"
   ]
  },
  {
   "cell_type": "code",
   "execution_count": null,
   "metadata": {
    "scrolled": true
   },
   "outputs": [],
   "source": [
    "m_gamma = 1\n",
    "m_m = 1\n",
    "\n",
    "def lagrangian_args_generator(Nm, Nq, m, ff):\n",
    "    compute_gradient = False\n",
    "    qts, _ = quad_scheme(Nq)\n",
    "    tp_dsdt, tp_dtds, tp_dtds2, tp_dtds3, tp_infinites = get_time_parameterisation_arctanh(qts)\n",
    "    return (compute_gradient, tp_dsdt, tp_dtds, tp_dtds2, tp_dtds3, tp_infinites)\n",
    "\n",
    "x_start = e_xs\n",
    "x_end = e_xb\n",
    "\n",
    "Nms = np.arange(8, 56, 4)\n",
    "#Nms = np.array( [8, 10, 12, 14, 16, 18, 20, 22, 24, 26, 28, 30, 32, 34, 36, 38, 40, 42, 44, 46, 48, 50, 52, 54, 56, 58, 60] ).astype(int)\n",
    "Nqs = Nms*8\n",
    "\n",
    "m0 = pyritz.funcs.CollocationFF.get_straight_line_path(x_start, x_end, Nms[0],\n",
    "                                    exclude_start_point=True, exclude_end_point=True)\n",
    "\n",
    "quad_scheme = pyritz.quads.Q_clenshaw_curtis\n",
    "ff = pyritz.funcs.CollocationFF(Nms[0], dim, derivatives=2,\n",
    "                               fixed_start_point=x_start,\n",
    "                               fixed_end_point=x_end)\n",
    "\n",
    "res2 = pyritz.utils.minimize_action_iteratively(Nms, Nqs, x_start, x_end, lagrangian, ff, quad_scheme, m0,\n",
    "                           nlopt.LN_NEWUOA,\n",
    "                            lagrangian_args_generator=lagrangian_args_generator,\n",
    "                           xtol_rel=1e-12)"
   ]
  },
  {
   "cell_type": "code",
   "execution_count": null,
   "metadata": {
    "scrolled": true
   },
   "outputs": [],
   "source": [
    "m_gamma = 1\n",
    "m_m = 0.5\n",
    "\n",
    "def lagrangian_args_generator(Nm, Nq, m, ff):\n",
    "    compute_gradient = False\n",
    "    qts, _ = quad_scheme(Nq)\n",
    "    tp_dsdt, tp_dtds, tp_dtds2, tp_dtds3, tp_infinites = get_time_parameterisation_arctanh(qts)\n",
    "    return (compute_gradient, tp_dsdt, tp_dtds, tp_dtds2, tp_dtds3, tp_infinites)\n",
    "\n",
    "x_start = e_xa\n",
    "x_end = e_xs\n",
    "\n",
    "Nms = np.arange(8, 10, 2)\n",
    "Nms = np.array( [8, 10, 12, 13, 14, 15, 16] ).astype(int)\n",
    "#Nms = np.array( [8, 10, 12, 14, 16, 18, 20, 22, 24, 26, 28, 30, 32, 34, 36, 38, 40, 42, 44, 46, 48, 50, 52, 54, 56, 58, 60] ).astype(int)\n",
    "Nqs = Nms*8\n",
    "\n",
    "m0 = pyritz.funcs.CollocationFF.get_straight_line_path(x_start, x_end, Nms[0],\n",
    "                                    exclude_start_point=True, exclude_end_point=True)\n",
    "\n",
    "quad_scheme = pyritz.quads.Q_clenshaw_curtis\n",
    "ff = pyritz.funcs.CollocationFF(Nms[0], dim, derivatives=2,\n",
    "                               fixed_start_point=x_start,\n",
    "                               fixed_end_point=x_end)\n",
    "\n",
    "res = []\n",
    "res = pyritz.utils.minimize_action_iteratively(Nms, Nqs, x_start, x_end, lagrangian, ff, quad_scheme, m0,\n",
    "                           nlopt.LN_NEWUOA,\n",
    "                            lagrangian_args_generator=lagrangian_args_generator,\n",
    "                           xtol_rel=1e-12, results=res)"
   ]
  },
  {
   "cell_type": "code",
   "execution_count": null,
   "metadata": {},
   "outputs": [
    {
     "name": "stderr",
     "output_type": "stream",
     "text": [
      "/store/SOFT/ltk26/anaconda3/lib/python3.7/site-packages/ipykernel_launcher.py:24: RuntimeWarning: divide by zero encountered in true_divide\n",
      "/store/SOFT/ltk26/anaconda3/lib/python3.7/site-packages/ipykernel_launcher.py:26: RuntimeWarning: divide by zero encountered in true_divide\n",
      "/store/SOFT/ltk26/anaconda3/lib/python3.7/site-packages/ipykernel_launcher.py:28: RuntimeWarning: invalid value encountered in multiply\n"
     ]
    },
    {
     "name": "stdout",
     "output_type": "stream",
     "text": [
      "Nm: 8  Nq: 64  S: 0.09419996879509906\n",
      "Nm: 10  Nq: 80  S: 0.09019518479482341\n",
      "Nm: 14  Nq: 112  S: 0.08456985836603549\n"
     ]
    }
   ],
   "source": [
    "m_gamma = 1\n",
    "m_m = 1\n",
    "\n",
    "def lagrangian_args_generator(Nm, Nq, m, ff):\n",
    "    compute_gradient = False\n",
    "    qts, _ = quad_scheme(Nq)\n",
    "    tp_dsdt, tp_dtds, tp_dtds2, tp_dtds3, tp_infinites = get_time_parameterisation_arctanh(qts)\n",
    "    return (compute_gradient, tp_dsdt, tp_dtds, tp_dtds2, tp_dtds3, tp_infinites)\n",
    "\n",
    "x_start = e_xa\n",
    "x_end = e_xs\n",
    "\n",
    "Nms = np.arange(8, 50, 4)\n",
    "Nms = np.array( [8, 10, 14, 16, 18] ).astype(int)\n",
    "#Nms = np.array( [8, 10, 12, 14, 16, 18, 20, 22, 24, 26, 28, 30, 32, 34, 36, 38, 40, 42, 44, 46, 48, 50, 52, 54, 56, 58, 60] ).astype(int)\n",
    "Nqs = Nms*8\n",
    "\n",
    "m0 = pyritz.funcs.CollocationFF.get_straight_line_path(x_start, x_end, Nms[0],\n",
    "                                    exclude_start_point=True, exclude_end_point=True)\n",
    "\n",
    "quad_scheme = pyritz.quads.Q_clenshaw_curtis\n",
    "ff = pyritz.funcs.CollocationFF(Nms[0], dim, derivatives=2,\n",
    "                               fixed_start_point=x_start,\n",
    "                               fixed_end_point=x_end)\n",
    "\n",
    "res = []\n",
    "res = pyritz.utils.minimize_action_iteratively(Nms, Nqs, x_start, x_end, lagrangian, ff, quad_scheme, m0,\n",
    "                           nlopt.LN_NEWUOA,\n",
    "                            lagrangian_args_generator=lagrangian_args_generator,\n",
    "                           xtol_rel=1e-12, results=res)"
   ]
  },
  {
   "cell_type": "code",
   "execution_count": null,
   "metadata": {},
   "outputs": [],
   "source": [
    "ff = pyritz.funcs.CollocationFF(Nms[-1], dim, derivatives=2,\n",
    "                               fixed_start_point=x_start,\n",
    "                               fixed_end_point=x_end)\n",
    "\n",
    "ff.get_m_with_fixed_points(res[-1][0])\n",
    "#for n in ff.get_m_with_fixed_points(res[-1][0]):\n",
    "#    print(n, \",\")"
   ]
  },
  {
   "cell_type": "code",
   "execution_count": null,
   "metadata": {},
   "outputs": [],
   "source": [
    "ts = np.linspace(-1, 1, 1000)\n",
    "\n",
    "paths = [(m, \"Nm=%s\" % Nm, Nm) for m, S, Nm, Nq in res]\n",
    "\n",
    "for p in paths:\n",
    "    _m, _mlabel, _Nm = p\n",
    "    xs, vs, dvs = ff.evaluate_at_order(_m, ts, _Nm)\n",
    "    plt.plot(xs[:,0], xs[:,1], label=_mlabel)\n",
    "\n",
    "X, Y = np.meshgrid(np.linspace(-1.2,1.2,64), np.linspace(-0.4,.4,64))\n",
    "vx,vy=system_a(X,Y); vx=vx/np.sqrt(vx**2+vy**2); vy=vy/np.sqrt(vx**2+vy**2)\n",
    "plt.streamplot(X,Y, vx, vy, density=1.7, linewidth=.6, color='gray');\n",
    "plt.legend()\n",
    "\n",
    "fig = mpl.pyplot.gcf()\n",
    "fig.set_size_inches(7, 6)"
   ]
  },
  {
   "cell_type": "code",
   "execution_count": 7,
   "metadata": {},
   "outputs": [
    {
     "ename": "NameError",
     "evalue": "name 'res' is not defined",
     "output_type": "error",
     "traceback": [
      "\u001b[0;31m---------------------------------------------------------------------------\u001b[0m",
      "\u001b[0;31mNameError\u001b[0m                                 Traceback (most recent call last)",
      "\u001b[0;32m<ipython-input-7-90d8b681f6bb>\u001b[0m in \u001b[0;36m<module>\u001b[0;34m\u001b[0m\n\u001b[0;32m----> 1\u001b[0;31m \u001b[0mm1\u001b[0m \u001b[0;34m=\u001b[0m \u001b[0mres\u001b[0m\u001b[0;34m[\u001b[0m\u001b[0;34m-\u001b[0m\u001b[0;36m1\u001b[0m\u001b[0;34m]\u001b[0m\u001b[0;34m[\u001b[0m\u001b[0;36m0\u001b[0m\u001b[0;34m]\u001b[0m\u001b[0;34m\u001b[0m\u001b[0;34m\u001b[0m\u001b[0m\n\u001b[0m\u001b[1;32m      2\u001b[0m \u001b[0mm2\u001b[0m \u001b[0;34m=\u001b[0m \u001b[0mres2\u001b[0m\u001b[0;34m[\u001b[0m\u001b[0;34m-\u001b[0m\u001b[0;36m1\u001b[0m\u001b[0;34m]\u001b[0m\u001b[0;34m[\u001b[0m\u001b[0;36m0\u001b[0m\u001b[0;34m]\u001b[0m\u001b[0;34m\u001b[0m\u001b[0;34m\u001b[0m\u001b[0m\n\u001b[1;32m      3\u001b[0m \u001b[0;34m\u001b[0m\u001b[0m\n\u001b[1;32m      4\u001b[0m \u001b[0mts\u001b[0m \u001b[0;34m=\u001b[0m \u001b[0mnp\u001b[0m\u001b[0;34m.\u001b[0m\u001b[0mlinspace\u001b[0m\u001b[0;34m(\u001b[0m\u001b[0;34m-\u001b[0m\u001b[0;36m1\u001b[0m\u001b[0;34m,\u001b[0m \u001b[0;36m1\u001b[0m\u001b[0;34m,\u001b[0m \u001b[0;36m1000\u001b[0m\u001b[0;34m)\u001b[0m\u001b[0;34m\u001b[0m\u001b[0;34m\u001b[0m\u001b[0m\n\u001b[1;32m      5\u001b[0m \u001b[0;34m\u001b[0m\u001b[0m\n",
      "\u001b[0;31mNameError\u001b[0m: name 'res' is not defined"
     ]
    }
   ],
   "source": [
    "m1 = res[-1][0]\n",
    "m2 = res2[-1][0]\n",
    "\n",
    "ts = np.linspace(-1, 1, 1000)\n",
    "\n",
    "ff.set_fixed_start_point(e_xa)\n",
    "ff.set_fixed_end_point(e_xs)\n",
    "xs1, _, _ = ff.evaluate(m1, ts)\n",
    "ff.set_fixed_start_point(e_xs)\n",
    "ff.set_fixed_end_point(e_xb)\n",
    "xs2, _, _ = ff.evaluate(m2, ts)\n",
    "\n",
    "xs = np.concatenate([xs1, xs2])\n",
    "\n",
    "plt.plot(xs[:,0], xs[:,1])\n",
    "\n",
    "X, Y = np.meshgrid(np.linspace(-1.2,1.2,64), np.linspace(-0.4,.4,64))\n",
    "vx,vy=system_a(X,Y); vx=vx/np.sqrt(vx**2+vy**2); vy=vy/np.sqrt(vx**2+vy**2)\n",
    "plt.streamplot(X,Y, vx, vy, density=1.7, linewidth=.6, color='gray');\n",
    "plt.legend()\n",
    "\n",
    "plt.xlabel(\"x\")\n",
    "plt.ylabel(\"y\")\n",
    "\n",
    "fig = mpl.pyplot.gcf()\n",
    "fig.set_size_inches(8, 7)"
   ]
  },
  {
   "cell_type": "markdown",
   "metadata": {},
   "source": [
    "### Gradient-free optimisation with caustics"
   ]
  },
  {
   "cell_type": "markdown",
   "metadata": {},
   "source": [
    "The non-linear parameterisation method requires the usage of caustics if we are to allow paths to cross fixed points. Each fixed point requires an additional caustic to be added."
   ]
  },
  {
   "cell_type": "markdown",
   "metadata": {},
   "source": [
    "The below cell sets up the usage of caustics in Pyritz. This is accomplished by creating a new `Action` object for each segment of the path (split up by the caustic points)."
   ]
  },
  {
   "cell_type": "code",
   "execution_count": null,
   "metadata": {},
   "outputs": [],
   "source": [
    "caustics = 1\n",
    "total_paths = caustics+1\n",
    "paths = [] # Stores path segments\n",
    "paths_Nm = np.array([16, 16])\n",
    "paths_Nq = paths_Nm*8\n",
    "\n",
    "x_start = e_xa\n",
    "x_end = e_xb\n",
    "\n",
    "def ensure_path_continuity(m):\n",
    "    for i in range(total_paths):\n",
    "        if i == 0:\n",
    "            paths[i][2].get_function_family().set_fixed_start_point(x_start)\n",
    "        else:\n",
    "            paths[i][2].get_function_family().set_fixed_start_point(last_path_end)\n",
    "            \n",
    "        if i == total_paths-1:\n",
    "            paths[i][2].get_function_family().set_fixed_end_point(x_end)\n",
    "            \n",
    "        Nm = paths_Nm[i]\n",
    "        p = m[paths[i][0]:paths[i][1]]\n",
    "        p_size = int(p.size/dim)\n",
    "        last_path_end = p[ [p_size-1,2*p_size-1] ]\n",
    "        \n",
    "m0 = np.array([])\n",
    "        \n",
    "# Create an `Action` for each path segment.\n",
    "pindex = 0\n",
    "for i in range(total_paths):\n",
    "    Nm = paths_Nm[i]\n",
    "    m_size = Nm\n",
    "    Nq = paths_Nq[i]\n",
    "    \n",
    "    path_start = x_start + i*(x_end - x_start)/(total_paths)\n",
    "    path_end = x_start + (i+1)*(x_end - x_start)/(total_paths)\n",
    "\n",
    "    exclude_start_point = True\n",
    "    exclude_end_point = False\n",
    "    \n",
    "    if i == total_paths-1:\n",
    "        exclude_end_point = True\n",
    "        \n",
    "    if exclude_start_point:\n",
    "        m_size -= 1\n",
    "    if exclude_end_point:\n",
    "        m_size -= 1\n",
    "        \n",
    "    path_m0 = pyritz.funcs.CollocationFF.get_straight_line_path(path_start, path_end, Nm, exclude_start_point=exclude_start_point, exclude_end_point=exclude_end_point)\n",
    "    m0 = np.concatenate( (m0, path_m0) )\n",
    "        \n",
    "    quad_scheme = pyritz.quads.Q_clenshaw_curtis\n",
    "    ff = pyritz.funcs.CollocationFF(Nm, dim, derivatives=2)\n",
    "    qts, _ = quad_scheme(Nq)\n",
    "    tp_dsdt, tp_dtds, tp_dtds2, tp_dtds3, tp_infinites = get_time_parameterisation_arctanh(qts)\n",
    "    \n",
    "    compute_gradient = False\n",
    "    act = pyritz.Action(dim, ff, lagrangian, Nq, quad_scheme, lagrangian_args=(compute_gradient, tp_dsdt, tp_dtds, tp_dtds2, tp_dtds3, tp_infinites))\n",
    "\n",
    "    paths.append( (pindex, pindex+dim*m_size, act) )\n",
    "    pindex += dim*m_size"
   ]
  },
  {
   "cell_type": "code",
   "execution_count": null,
   "metadata": {},
   "outputs": [],
   "source": [
    "m_gamma = 1\n",
    "m_m = 2\n",
    "\n",
    "def compute_action(m, grad):\n",
    "    S = 0\n",
    "    \n",
    "    ensure_path_continuity(m)\n",
    "    \n",
    "    for i in range(caustics+1):\n",
    "        m_start, m_end, act = paths[i]\n",
    "        m_path = m[m_start:m_end]\n",
    "        S += act.compute(m_path)\n",
    "    \n",
    "    return S\n",
    "\n",
    "opt = nlopt.opt(nlopt.LN_NEWUOA, np.size(m0))\n",
    "opt.set_min_objective(compute_action)\n",
    "opt.set_xtol_rel(1e-12)\n",
    "m = opt.optimize(m0)\n",
    "\n",
    "print(compute_action(m0, None))\n",
    "print(compute_action(m, None))"
   ]
  },
  {
   "cell_type": "code",
   "execution_count": null,
   "metadata": {},
   "outputs": [],
   "source": [
    "dd = 1e-10\n",
    "gr = np.zeros(m.size)\n",
    "\n",
    "for i in range(gr.size):\n",
    "    dm = np.zeros(m.size)\n",
    "    dm[i] = dd\n",
    "    gr[i] = (compute_action(m + dm, None) - compute_action(m - dm, None))/(2*dd)\n",
    "    \n",
    "np.sqrt(np.sum(gr*gr))"
   ]
  },
  {
   "cell_type": "markdown",
   "metadata": {},
   "source": [
    "#### Instanton plot"
   ]
  },
  {
   "cell_type": "code",
   "execution_count": null,
   "metadata": {},
   "outputs": [],
   "source": [
    "# Splice together the individual paths\n",
    "\n",
    "ts = np.linspace(-1, 1, 1000)\n",
    "\n",
    "for i in range(total_paths):\n",
    "    m_start, m_end, act = paths[i]\n",
    "    m_path = m[m_start:m_end]\n",
    "    ff = act.get_function_family()\n",
    "    xs, _, _ = ff.evaluate(m_path, ts)\n",
    "    plt.plot(xs[:, 0], xs[:, 1])\n",
    "    \n",
    "X, Y = np.meshgrid(np.linspace(-1.2,1.2,64), np.linspace(-0.4,.4,64))\n",
    "vx,vy=system_a(X,Y); vx=vx/np.sqrt(vx**2+vy**2); vy=vy/np.sqrt(vx**2+vy**2)\n",
    "plt.streamplot(X,Y, vx, vy, density=1.7, linewidth=.6, color='gray');\n",
    "\n",
    "plt.plot([0,0], \".\")\n",
    "\n",
    "fig = mpl.pyplot.gcf()\n",
    "fig.set_size_inches(7, 6)"
   ]
  },
  {
   "cell_type": "code",
   "execution_count": null,
   "metadata": {},
   "outputs": [],
   "source": []
  },
  {
   "cell_type": "code",
   "execution_count": null,
   "metadata": {},
   "outputs": [],
   "source": []
  }
 ],
 "metadata": {
  "kernelspec": {
   "display_name": "Python 3",
   "language": "python",
   "name": "python3"
  },
  "language_info": {
   "codemirror_mode": {
    "name": "ipython",
    "version": 3
   },
   "file_extension": ".py",
   "mimetype": "text/x-python",
   "name": "python",
   "nbconvert_exporter": "python",
   "pygments_lexer": "ipython3",
   "version": "3.7.3"
  }
 },
 "nbformat": 4,
 "nbformat_minor": 2
}
