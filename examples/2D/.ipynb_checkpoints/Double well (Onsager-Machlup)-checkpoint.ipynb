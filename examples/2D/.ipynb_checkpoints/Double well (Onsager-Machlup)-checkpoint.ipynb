{
 "cells": [
  {
   "cell_type": "markdown",
   "metadata": {},
   "source": [
    "# Maier-Stein\n",
    "\n",
    "**Lagrangian:** Geometric Action\n",
    "<br>\n",
    "**Implementation:** Python\n",
    "\n",
    "**System:**\n",
    "\n",
    "$ \\begin{cases}\n",
    "du = (u - u^3 - \\beta u v^2)\\ dt + \\sqrt{\\epsilon}\\ dW_u \\\\\n",
    "dv = -(1 + u^2) v\\ dt + \\sqrt{\\epsilon}\\ dW_v\n",
    "\\end{cases}$"
   ]
  },
  {
   "cell_type": "code",
   "execution_count": 4,
   "metadata": {},
   "outputs": [],
   "source": [
    "sfdir = !pwd\n",
    "sfdir = \"/\".join(sfdir[0].split(\"/\")[:-3]) + \"/\"\n",
    "import sys\n",
    "sys.path.insert(0, sfdir+'pyritz/')\n",
    "\n",
    "import pyritz\n",
    "import numpy as np\n",
    "import matplotlib.pyplot as plt\n",
    "import matplotlib as mpl\n",
    "import nlopt"
   ]
  },
  {
   "cell_type": "markdown",
   "metadata": {},
   "source": [
    "## System"
   ]
  },
  {
   "cell_type": "markdown",
   "metadata": {},
   "source": [
    "### Parameters"
   ]
  },
  {
   "cell_type": "markdown",
   "metadata": {},
   "source": [
    "System parameters are defined here. All system parameter variables are prefaced with \"m_\", with the exception of `dim` which is the dimension of the system."
   ]
  },
  {
   "cell_type": "code",
   "execution_count": 5,
   "metadata": {},
   "outputs": [],
   "source": [
    "dim = 1\n",
    "\n",
    "m_r1 = -1\n",
    "m_r2 = 1\n",
    "m_c = 1"
   ]
  },
  {
   "cell_type": "markdown",
   "metadata": {},
   "source": [
    "### Dynamics\n",
    "\n",
    "`system_a` is the drift term of the system. It's used for plotting stream-plots, as well as finding fixed points of the deterministic system.\n",
    "\n",
    "`lagrangian` is the Lagrangian of the system. The Lagrangian used is the Geometric Action lagrangian (Heymann and Vanden-Eijnden), defined as\n",
    "\n",
    "$$\n",
    "L(x, \\dot x) = |\\dot x| |a(x)| - \\dot x \\cdot a(x)\n",
    "$$\n",
    "\n",
    "for any general Ito diffusion of the form\n",
    "\n",
    "$$\n",
    "dX = a(X)dt + \\sqrt{\\epsilon} dW.\n",
    "$$\n",
    "\n",
    "The function also computes the partial derivatives of the Lagrangian, which are used for gradient optimisation. This can be enabled/disabled by setting the *args* argument to True/False. The partial derivatives of the geometric lagrangian are\n",
    "\n",
    "$$\\begin{aligned}\n",
    "\\frac{\\partial L}{\\partial x} & = \\nabla a( x ) \\cdot \\left( |\\dot x| \\hat{a}(x) - \\dot x \\right) \\\\\n",
    "\\frac{\\partial L}{\\partial \\dot x} & = |a(x)| \\hat{\\dot{x}} - a(x)\n",
    "\\end{aligned}$$\n",
    "\n",
    "An important property of the geometric action is that it is time-reparameterisation invariant, meaning that $x$ can be replaced by any other path that shares the same *graph*."
   ]
  },
  {
   "cell_type": "markdown",
   "metadata": {},
   "source": [
    "#### Notes on the Maier-Stein system\n",
    "\n",
    "Let $(\\nabla a)_{ij} = \\frac{\\partial a_i}{\\partial x_j}$, where $x = (u, v)$, then\n",
    "\n",
    "$$\n",
    "\\nabla a = \\begin{pmatrix}\n",
    "    1 - 3 u^2 - \\beta v^2 &  -2 u v \\\\\n",
    "    - 2 \\beta u v & - (1 + u^2)\n",
    "\\end{pmatrix}\n",
    "$$"
   ]
  },
  {
   "cell_type": "code",
   "execution_count": 6,
   "metadata": {},
   "outputs": [],
   "source": [
    "def system_pot(x):\n",
    "    return c*(x - r1)**2 * (x - r2) ** 2\n",
    "\n",
    "def system_a(x):\n",
    "    return -( m_c*(-m_r1 + x)**2 * (-m_r2 + x) + m_c*(-m_r1 + x)*(-m_r2 + x)**2 )\n",
    "\n",
    "\n",
    "def lagrangian(ls, dxls, dvls, fvals, ts, args):\n",
    "    compute_gradient = args\n",
    "    \n",
    "    xs, dxs = fvals\n",
    "    \n",
    "    a = -2*m_c*(-m_r1 + xs)**2*(-m_r2 + xs) - 2*m_c*(-m_r1 + xs)*(-m_r2 + xs)**2\n",
    "    da = -2*m_c*(-m_r1 + xs)**2 - 8*m_c*(-m_r1 + xs)*(-m_r2 + xs) - 2*m_c*(-m_r2 + xs)**2\n",
    "    \n",
    "    ls[:] = (np.sqrt(2*H + a*a + da)*np.abs(dxs)-a*dxs)[:,0]\n",
    "    \n",
    "def lagrangian2(ls, dxls, dvls, fvals, ts, args):\n",
    "    compute_gradient = args\n",
    "    \n",
    "    xs, dxs = fvals\n",
    "    \n",
    "    a = -2*m_c*(-m_r1 + xs)**2*(-m_r2 + xs) - 2*m_c*(-m_r1 + xs)*(-m_r2 + xs)**2\n",
    "    da = -2*m_c*(-m_r1 + xs)**2 - 8*m_c*(-m_r1 + xs)*(-m_r2 + xs) - 2*m_c*(-m_r2 + xs)**2\n",
    "    \n",
    "    cv = np.sqrt(2*H + a*a + da)\n",
    "    fw = (a - np.sign(dxs)*cv)**2\n",
    "    ls[:] = ( ( (fw+da)*np.abs(dxs) ) / (2*cv) )[:,0]"
   ]
  },
  {
   "cell_type": "markdown",
   "metadata": {},
   "source": [
    "## Optimisation"
   ]
  },
  {
   "cell_type": "markdown",
   "metadata": {},
   "source": [
    "### Gradient-free optimisation"
   ]
  },
  {
   "cell_type": "code",
   "execution_count": 47,
   "metadata": {},
   "outputs": [
    {
     "data": {
      "text/plain": [
       "array([-15.65783947,  -3.95048438,   1.40262024,  -0.8053469 ,\n",
       "         0.57691629,  -0.48025584,   0.45489834,  -0.49201532,\n",
       "         0.62624572,  -1.0211032 ,   3.01185743,   6.40571152])"
      ]
     },
     "execution_count": 47,
     "metadata": {},
     "output_type": "execute_result"
    }
   ],
   "source": [
    "d = 1e-10\n",
    "grad = np.zeros(len(m0))\n",
    "\n",
    "testm = m0\n",
    "\n",
    "for i in range(len(grad)):\n",
    "    dm = np.zeros(len(grad))\n",
    "    dm[i] = d\n",
    "    grad[i] = ( act.compute_at_order(testm+dm,10*Nq) - act.compute_at_order(testm-dm,10*Nq) ) / (2*d)\n",
    "grad"
   ]
  },
  {
   "cell_type": "code",
   "execution_count": 39,
   "metadata": {},
   "outputs": [
    {
     "name": "stdout",
     "output_type": "stream",
     "text": [
      "12.562164289264404\n",
      "6.496996671051362\n"
     ]
    }
   ],
   "source": [
    "H=4.87942\n",
    "\n",
    "x_start = -1\n",
    "x_end = 1\n",
    "\n",
    "Nm = 12\n",
    "Nq = Nm*20\n",
    "\n",
    "m0 = pyritz.funcs.CollocationFF.get_straight_line_path(x_start, x_end, Nm,\n",
    "                                    exclude_start_point=True, exclude_end_point=True)\n",
    "#m0+=np.random.random(len(m0))*0.1\n",
    "\n",
    "ff = pyritz.funcs.CollocationFF(Nm, dim, derivatives=1,\n",
    "                               fixed_start_point=x_start,\n",
    "                               fixed_end_point=x_end)\n",
    "m0[0]=-1.5\n",
    "m0[-1]=1.5\n",
    "\n",
    "quad_scheme = pyritz.quads.Q_clenshaw_curtis\n",
    "\n",
    "ub = np.full(len(m0), 1.125873829185135)\n",
    "lb = np.full(len(m0), -1.125873829185135)\n",
    "\n",
    "#ub = np.full(len(m0), 1.11)\n",
    "#lb = np.full(len(m0), -1.11)\n",
    "\n",
    "compute_gradient=False\n",
    "act = pyritz.Action(dim, ff, lagrangian, Nq, quad_scheme, lagrangian_args=compute_gradient)\n",
    "\n",
    "def get_action(m, grad):\n",
    "    return act.compute(m)\n",
    "\n",
    "opt = nlopt.opt(nlopt.LN_NEWUOA, np.size(m0))\n",
    "opt.set_min_objective(get_action)\n",
    "#opt.set_lower_bounds(lb)\n",
    "#opt.set_upper_bounds(ub)\n",
    "opt.set_xtol_rel(1e-12)\n",
    "#opt.set_maxeval(20000)\n",
    "m = opt.optimize(m0)\n",
    "\n",
    "print(act.compute(m0))\n",
    "print(act.compute(m))"
   ]
  },
  {
   "cell_type": "markdown",
   "metadata": {},
   "source": [
    "#### Instanton plot"
   ]
  },
  {
   "cell_type": "code",
   "execution_count": 46,
   "metadata": {
    "scrolled": false
   },
   "outputs": [
    {
     "data": {
      "image/png": "[encoded data removed]",
      "text/plain": [
       "<Figure size 504x504 with 1 Axes>"
      ]
     },
     "metadata": {
      "needs_background": "light"
     },
     "output_type": "display_data"
    }
   ],
   "source": [
    "m0[0]=-1.5\n",
    "m0[1]=-1.2\n",
    "m0[-1]=1.3\n",
    "m0[-2]=1.2\n",
    "\n",
    "ts = np.linspace(-1, 1, 1000)\n",
    "nts, _ = quad_scheme(Nm)\n",
    "\n",
    "paths = [\n",
    "    (m0, \"Initial\"),\n",
    "    (m, \"Final\"),\n",
    "]\n",
    "\n",
    "for p in paths:\n",
    "    _m, _mlabel = p\n",
    "    xs, vs = ff.evaluate(_m, ts)\n",
    "    plt.plot(ts, xs, label=_mlabel)\n",
    "    \n",
    "    xs, vs = ff.evaluate(_m, nts)\n",
    "    plt.plot(nts, xs, \".\")\n",
    "\n",
    "fig = mpl.pyplot.gcf()\n",
    "fig.set_size_inches(7, 7)"
   ]
  },
  {
   "cell_type": "markdown",
   "metadata": {},
   "source": [
    "### Gradient optimisation"
   ]
  },
  {
   "cell_type": "code",
   "execution_count": 13,
   "metadata": {},
   "outputs": [
    {
     "name": "stderr",
     "output_type": "stream",
     "text": [
      "/home/lukas/anaconda3/lib/python3.7/site-packages/ipykernel_launcher.py:33: RuntimeWarning: invalid value encountered in true_divide\n"
     ]
    },
    {
     "name": "stdout",
     "output_type": "stream",
     "text": [
      "0.5005611221487292\n",
      "0.3400414033359227\n"
     ]
    }
   ],
   "source": [
    "x_start = e_xa\n",
    "x_end = e_xs\n",
    "\n",
    "Nm = 8\n",
    "Nq = Nm*10\n",
    "\n",
    "m0 = pyritz.funcs.CollocationFF.get_straight_line_path(x_start, x_end, Nm,\n",
    "                                    exclude_start_point=True, exclude_end_point=True)\n",
    "m0 += (-1 + 2*np.random.random(len(m0)))*0.01 # Add some noise to initial path\n",
    "\n",
    "ff = pyritz.funcs.CollocationFF(Nm, dim, derivatives=1,\n",
    "                               fixed_start_point=x_start,\n",
    "                               fixed_end_point=x_end)\n",
    "\n",
    "quad_scheme = pyritz.quads.Q_clenshaw_curtis\n",
    "\n",
    "compute_gradient=True\n",
    "act = pyritz.Action(dim, ff, lagrangian, Nq, quad_scheme, lagrangian_args=compute_gradient)\n",
    "\n",
    "def get_action(m, grad):\n",
    "    if grad.size > 0:\n",
    "        return act.compute(m, grad)\n",
    "    else:\n",
    "        return act.compute(m)\n",
    "\n",
    "opt = nlopt.opt(nlopt.LD_SLSQP, np.size(m0))\n",
    "opt.set_min_objective(get_action)\n",
    "opt.set_xtol_rel(1e-12)\n",
    "opt.set_maxeval(5000)\n",
    "m = opt.optimize(m0)\n",
    "\n",
    "print(act.compute(m0))\n",
    "print(act.compute(m))"
   ]
  },
  {
   "cell_type": "code",
   "execution_count": null,
   "metadata": {
    "scrolled": true
   },
   "outputs": [],
   "source": [
    "ts = np.linspace(-1, 1, 1000)\n",
    "\n",
    "paths = [\n",
    "    (m0, \"Initial\"),\n",
    "    (m, \"Final\")\n",
    "]\n",
    "\n",
    "for p in paths:\n",
    "    _m, _mlabel = p\n",
    "    xs, vs = ff.evaluate(_m, ts)\n",
    "    plt.plot(xs[:,0], xs[:,1], label=_mlabel)\n",
    "\n",
    "X, Y = np.meshgrid(np.linspace(-1.2,1.2,64), np.linspace(-0.4,.4,64))\n",
    "vx,vy=system_a(X,Y); vx=vx/np.sqrt(vx**2+vy**2); vy=vy/np.sqrt(vx**2+vy**2)\n",
    "plt.streamplot(X,Y, vx, vy, density=1.7, linewidth=.6, color='gray');\n",
    "plt.legend()\n",
    "\n",
    "fig = mpl.pyplot.gcf()\n",
    "fig.set_size_inches(7, 7)"
   ]
  },
  {
   "cell_type": "markdown",
   "metadata": {},
   "source": [
    "## Iterative gradient optimisation"
   ]
  },
  {
   "cell_type": "code",
   "execution_count": null,
   "metadata": {},
   "outputs": [],
   "source": [
    "x_start = e_xa\n",
    "x_end = e_xb\n",
    "\n",
    "Nms = np.array( [8, 9, 10] ).astype(int)\n",
    "Nqs = Nms*10\n",
    "\n",
    "m0 = pyritz.funcs.CollocationFF.get_straight_line_path(x_start, x_end, Nms[0],\n",
    "                                    exclude_start_point=True, exclude_end_point=True)\n",
    "m0 += (-1 + 2*np.random.random(len(m0)))*0.1 # Add some noise to initial path\n",
    "\n",
    "ff = pyritz.funcs.CollocationFF(Nms[0], dim, derivatives=1,\n",
    "                               fixed_start_point=x_start,\n",
    "                               fixed_end_point=x_end)\n",
    "quad_scheme = pyritz.quads.Q_clenshaw_curtis\n",
    "compute_gradient=True\n",
    "\n",
    "res = pyritz.utils.minimize_action_iteratively(Nms, Nqs, x_start, x_end, lagrangian, ff, quad_scheme, m0,\n",
    "                           nlopt.LD_SLSQP, lagrangian_args=compute_gradient,\n",
    "                           xtol_rel=1e-12)"
   ]
  },
  {
   "cell_type": "code",
   "execution_count": null,
   "metadata": {},
   "outputs": [],
   "source": [
    "ts = np.linspace(-1, 1, 1000)\n",
    "\n",
    "paths = [(m, \"Nm=%s\" % Nm, Nm) for m, S, Nm, Nq in res]\n",
    "\n",
    "for p in paths:\n",
    "    _m, _mlabel, _Nm = p\n",
    "    xs, vs = ff.evaluate_at_order(_m, ts, _Nm)\n",
    "    plt.plot(xs[:,0], xs[:,1], label=_mlabel)\n",
    "\n",
    "X, Y = np.meshgrid(np.linspace(-1.2,1.2,64), np.linspace(-0.4,.4,64))\n",
    "vx,vy=system_a(X,Y); vx=vx/np.sqrt(vx**2+vy**2); vy=vy/np.sqrt(vx**2+vy**2)\n",
    "plt.streamplot(X,Y, vx, vy, density=1.7, linewidth=.6, color='gray');\n",
    "plt.legend()\n",
    "\n",
    "fig = mpl.pyplot.gcf()\n",
    "fig.set_size_inches(7, 6)"
   ]
  },
  {
   "cell_type": "markdown",
   "metadata": {},
   "source": [
    "## Quasipotential"
   ]
  },
  {
   "cell_type": "code",
   "execution_count": null,
   "metadata": {},
   "outputs": [],
   "source": [
    "def m0_provider(x_start, x_end, Nm):\n",
    "    ff.set_fixed_end_point(x_end)\n",
    "\n",
    "    m0 = pyritz.funcs.CollocationFF.get_straight_line_path(x_start, x_end, Nm,\n",
    "                                        exclude_start_point=True, exclude_end_point=True)\n",
    "    if np.allclose(x_end, e_xb):\n",
    "        m0 += (-1 + 2*np.random.random(len(m0)))*0.1 # Add some noise to initial path\n",
    "    return m0\n",
    "\n",
    "x_start = e_xa\n",
    "x_end = e_xb\n",
    "\n",
    "Nmn       = 8\n",
    "Nq = Nm*10\n",
    "\n",
    "qp_width = 5\n",
    "qp_height = 5\n",
    "xs = np.linspace(-1.2, 1.2, qp_width)\n",
    "ys = np.linspace(-0.4,0.4, qp_height)\n",
    "\n",
    "ff = pyritz.funcs.CollocationFF(Nm, dim, derivatives=1,\n",
    "                               fixed_start_point=x_start,\n",
    "                               fixed_end_point=x_end)\n",
    "quad_scheme = pyritz.quads.Q_clenshaw_curtis\n",
    "compute_gradient=True\n",
    "\n",
    "qp = pyritz.utils.compute_quasipotential(xs, ys, Nm, Nq, x_start, lagrangian, ff, quad_scheme,\n",
    "                      m0_provider, nlopt.LD_MMA, lagrangian_args=compute_gradient, xtol_rel=1e-12, maxeval=5000)"
   ]
  },
  {
   "cell_type": "markdown",
   "metadata": {},
   "source": [
    "### Gradient optimisation"
   ]
  },
  {
   "cell_type": "code",
   "execution_count": null,
   "metadata": {
    "scrolled": true
   },
   "outputs": [
    {
     "name": "stdout",
     "output_type": "stream",
     "text": [
      "Nm: 1  Nq: 80  S: 0.34281236656470704 acc_S: 0.34281236656470715 err_S: 1.1102230246251565e-16\n",
      "Nm: 2  Nq: 160  S: 0.3402459448780077 acc_S: 0.3402459448780078 err_S: 1.1102230246251565e-16\n",
      "Nm: 3  Nq: 240  S: 0.34004171651756343 acc_S: 0.3400417165175635 err_S: 5.551115123125783e-17\n",
      "Nm: 4  Nq: 320  S: 0.34004140340296346 acc_S: 0.34004140340296346 err_S: 0.0\n",
      "Nm: 5  Nq: 400  S: 0.34004140338229666 acc_S: 0.3400414033822967 err_S: 5.551115123125783e-17\n",
      "Nm: 6  Nq: 480  S: 0.34004140333168176 acc_S: 0.34004140333168187 err_S: 1.1102230246251565e-16\n",
      "Nm: 7  Nq: 560  S: 0.3400414033633454 acc_S: 0.3400414033633454 err_S: 0.0\n",
      "Nm: 8  Nq: 640  S: 0.34004140333325983 acc_S: 0.34004140333325994 err_S: 1.1102230246251565e-16\n",
      "Nm: 9  Nq: 720  S: 0.34004140333024996 acc_S: 0.34004140333025 err_S: 5.551115123125783e-17\n",
      "Nm: 10  Nq: 800  S: 0.34004140333080657 acc_S: 0.34004140333080657 err_S: 0.0\n",
      "Nm: 11  Nq: 880  S: 0.3400414033462203 acc_S: 0.3400414037010236 err_S: 3.5480329785286813e-10\n",
      "Nm: 12  Nq: 960  S: 0.3400414033355934 acc_S: 0.34004140342661454 err_S: 9.102113507353238e-11\n",
      "Nm: 13  Nq: 1040  S: 0.34004140333908955 acc_S: 0.3400414033390896 err_S: 5.551115123125783e-17\n",
      "Nm: 14  Nq: 1120  S: 0.34004140333872246 acc_S: 0.3400414034890583 err_S: 1.5033585487600476e-10\n",
      "Nm: 15  Nq: 1200  S: 0.34004140333554705 acc_S: 0.3400414033354348 err_S: 1.1224354778960333e-13\n",
      "Nm: 16  Nq: 1280  S: 0.3400414033302599 acc_S: 0.3400414033302599 err_S: 0.0\n",
      "Nm: 17  Nq: 1360  S: 0.3400414033302621 acc_S: 0.3400414033302621 err_S: 0.0\n",
      "Nm: 18  Nq: 1440  S: 0.340041403330799 acc_S: 0.3400414033307999 err_S: 8.881784197001252e-16\n",
      "Nm: 19  Nq: 1520  S: 0.3400414033320965 acc_S: 0.340041403434784 err_S: 1.0268752514974722e-10\n",
      "Nm: 20  Nq: 1600  S: 0.34004140333390726 acc_S: 0.34004140333439864 err_S: 4.913847106990943e-13\n",
      "Nm: 21  Nq: 1680  S: 0.34004140333421273 acc_S: 0.3400414033514367 err_S: 1.7223944492883447e-11\n",
      "Nm: 22  Nq: 1760  S: 0.3400414034064296 acc_S: 0.340041403455489 err_S: 4.905942319055612e-11\n",
      "Nm: 23  Nq: 1840  S: 0.3400414033379388 acc_S: 0.34004140347255124 err_S: 1.3461243231205344e-10\n",
      "Nm: 24  Nq: 1920  S: 0.34004140334328625 acc_S: 0.34004140339411315 err_S: 5.0826898245759367e-11\n",
      "Nm: 25  Nq: 2000  S: 0.3400414033687722 acc_S: 0.3400414036529463 err_S: 2.8417407316183585e-10\n"
     ]
    }
   ],
   "source": [
    "import warnings; warnings.simplefilter('ignore')\n",
    "\n",
    "def lagrangian_args_generator(Nm, Nq, m, function_family):\n",
    "    m[:] += (-1 + 2*np.random.random(len(m)))*0.1 # Add some noise to initial path\n",
    "    return True\n",
    "\n",
    "x_start = e_xa\n",
    "x_end = e_xs\n",
    "\n",
    "Nms = np.arange(1, 35)\n",
    "Nqs = Nms*80\n",
    "\n",
    "m0 = pyritz.funcs.CollocationFF.get_straight_line_path(x_start, x_end, Nms[0],\n",
    "                                    exclude_start_point=True, exclude_end_point=True)\n",
    "m0 += (-1 + 2*np.random.random(len(m0)))*0.1 # Add some noise to initial path\n",
    "\n",
    "ff = pyritz.funcs.CollocationFF(Nms[0], dim, derivatives=1,\n",
    "                               fixed_start_point=x_start,\n",
    "                               fixed_end_point=x_end)\n",
    "quad_scheme = pyritz.quads.Q_clenshaw_curtis\n",
    "compute_gradient=True\n",
    "\n",
    "res = []\n",
    "pyritz.utils.minimize_action_iteratively(Nms, Nqs, x_start, x_end, lagrangian, ff, quad_scheme, m0,\n",
    "                           nlopt.LD_SLSQP, lagrangian_args=compute_gradient,\n",
    "                           xtol_rel=1e-15, results=res,\n",
    "                            lagrangian_args_generator=lagrangian_args_generator,\n",
    "                            compute_accurate_S=True, compute_accurate_S_Nq_factor=30)"
   ]
  },
  {
   "cell_type": "code",
   "execution_count": null,
   "metadata": {},
   "outputs": [],
   "source": [
    "import warnings; warnings.simplefilter('ignore')\n",
    "\n",
    "acs = []\n",
    "\n",
    "for i in range(1, 35):\n",
    "    x_start = e_xa\n",
    "    x_end = e_xs\n",
    "\n",
    "    Nm = i\n",
    "    Nq = Nm*80\n",
    "\n",
    "    m0 = pyritz.funcs.CollocationFF.get_straight_line_path(x_start, x_end, Nm,\n",
    "                                        exclude_start_point=True, exclude_end_point=True)\n",
    "    m0 += (-1 + 2*np.random.random(len(m0)))*0.1 # Add some noise to initial path\n",
    "\n",
    "    ff = pyritz.funcs.CollocationFF(Nm, dim, derivatives=1,\n",
    "                                   fixed_start_point=x_start,\n",
    "                                   fixed_end_point=x_end)\n",
    "\n",
    "    quad_scheme = pyritz.quads.Q_clenshaw_curtis\n",
    "\n",
    "    compute_gradient=True\n",
    "    act = pyritz.Action(dim, ff, lagrangian, Nq, quad_scheme,\n",
    "                        lagrangian_args=compute_gradient)\n",
    "\n",
    "    def get_action(m, grad):\n",
    "        if grad.size > 0:\n",
    "            return act.compute(m, grad)\n",
    "        else:\n",
    "            return act.compute(m)\n",
    "\n",
    "    opt = nlopt.opt(nlopt.LD_SLSQP, np.size(m0))\n",
    "    opt.set_min_objective(get_action)\n",
    "    opt.set_xtol_rel(1e-16)\n",
    "    m = opt.optimize(m0)\n",
    "    \n",
    "    s = act.compute(m)\n",
    "    \n",
    "    # Compute accurate S\n",
    "    \n",
    "    act = pyritz.Action(dim, ff, lagrangian, Nq*40, quad_scheme,\n",
    "                            lagrangian_args=compute_gradient)\n",
    "\n",
    "    acc_s = act.compute(m)\n",
    "    \n",
    "    print(\"Nm:\", Nm, \"Nq:\", Nq, \"S:\", s, \"acc_S:\", acc_s, \"err_S:\", np.abs(acc_s - s))\n",
    "    \n",
    "    acs.append( (Nm, Nq, s, m) )"
   ]
  }
 ],
 "metadata": {
  "kernelspec": {
   "display_name": "Python 3",
   "language": "python",
   "name": "python3"
  },
  "language_info": {
   "codemirror_mode": {
    "name": "ipython",
    "version": 3
   },
   "file_extension": ".py",
   "mimetype": "text/x-python",
   "name": "python",
   "nbconvert_exporter": "python",
   "pygments_lexer": "ipython3",
   "version": "3.7.3"
  }
 },
 "nbformat": 4,
 "nbformat_minor": 2
}
