{
 "cells": [
  {
   "cell_type": "markdown",
   "metadata": {},
   "source": [
    "# Genetic Switch\n",
    "\n",
    "**Lagrangian:** Freidlin-Wenztell action with a non-linear time-reparameterisation\n",
    "<br>\n",
    "**Implementation:** Python\n",
    "\n",
    "**System:**\n",
    "\n",
    "$ \\begin{cases}\n",
    "dx & = \\left( \\frac{a_1}{1 + \\left(\\frac{y}{K_2}\\right)^{n} } - \\frac{x}{\\tau} \\right) + \\sqrt{\\epsilon} dW_x \\\\\n",
    "dy & = \\left( \\frac{a_2}{1 + \\left(\\frac{x}{K_1}\\right)^{m} } - \\frac{y}{\\tau} \\right) + \\sqrt{\\epsilon} dW_x\n",
    "\\end{cases}$"
   ]
  },
  {
   "cell_type": "code",
   "execution_count": null,
   "metadata": {},
   "outputs": [],
   "source": [
    "sfdir = !pwd\n",
    "sfdir = \"/\".join(sfdir[0].split(\"/\")[:-3]) + \"/\"\n",
    "import sys\n",
    "sys.path.insert(0, sfdir+'pyritz/')\n",
    "\n",
    "import pyritz\n",
    "import numpy as np\n",
    "import matplotlib.pyplot as plt\n",
    "import matplotlib as mpl\n",
    "import nlopt"
   ]
  },
  {
   "cell_type": "markdown",
   "metadata": {},
   "source": [
    "## Generate time-reparameterisations"
   ]
  },
  {
   "cell_type": "markdown",
   "metadata": {},
   "source": [
    "Let $\\chi = (u, v)$, $a = (u - u^3 - \\beta u v^2, -(1 + u^2) v$  and $W = (W_u, W_v)$. Let $s$ denote the real time-parameterisation of the path, such that we have path-realisations $\\chi = \\chi(s)$, and $s \\in I$ where $I$ is some finite or infinite time-interval. Then the Freidlin-Wentzell action is\n",
    "\n",
    "$$\n",
    "S[\\phi(s)] = \\int_I \\frac{1}{2} | \\dot{\\chi} - a|^2 ds.\n",
    "$$\n",
    "\n",
    "We define a time-reparameterisation $s = s(t)$ such that $s([-1, 1]) = I$, where we have taken the image of the $[-1,1]$ under the reparameterisation mapping. For a corresponding path $\\chi=\\chi(s)$, we have the reparameterisation $x(t) = \\chi(s(t))$. The action can then be rewritten as\n",
    "\n",
    "$$\n",
    "S[x(t)] = \\int_{-1}^1 \\frac{1}{2} \\frac{ds}{dt} \\left| \\frac{dt}{ds} \\frac{d x}{dt} - a \\right|^2 dt\n",
    "$$\n",
    "\n",
    "The functions below pre-computes $\\frac{ds}{dt}$ and $\\frac{dt}{ds}$ at the specified quadrature nodes, to expediate the action calculation. The variable `tp_infinites` is a list of indices, keeping track of points where $\\frac{ds}{dt}$ diverges. At the divergent points, we expect the value of the Lagrangian to be zero (if we have chosen the time-reparameterisation correctly, according to the starting and end points of the path). Therefore we set the Lagrangian to zero at the divergent points."
   ]
  },
  {
   "cell_type": "code",
   "execution_count": null,
   "metadata": {},
   "outputs": [],
   "source": [
    "def f_dsdt(t):\n",
    "    d = 0\n",
    "    if np.log(1-t)<0:\n",
    "        d += 1/(1-t)\n",
    "    if np.log(1+t)<0:\n",
    "        d += 1/(1+t)\n",
    "    return d\n",
    "\n",
    "np.array(list(map(f_dsdt, np.array([1,2,3]))))"
   ]
  },
  {
   "cell_type": "code",
   "execution_count": 2,
   "metadata": {},
   "outputs": [
    {
     "ename": "IndentationError",
     "evalue": "unexpected indent (<ipython-input-2-1ebe5131d8d5>, line 31)",
     "output_type": "error",
     "traceback": [
      "\u001b[0;36m  File \u001b[0;32m\"<ipython-input-2-1ebe5131d8d5>\"\u001b[0;36m, line \u001b[0;32m31\u001b[0m\n\u001b[0;31m    def f_dsdt(t):\u001b[0m\n\u001b[0m    ^\u001b[0m\n\u001b[0;31mIndentationError\u001b[0m\u001b[0;31m:\u001b[0m unexpected indent\n"
     ]
    }
   ],
   "source": [
    "def get_time_parameterisation_tan(ts):\n",
    "    tp_dsdt = 0.5*np.pi * (np.cos(0.5*np.pi*ts)**(-2))\n",
    "    tp_dtds = (2/np.pi)*(np.cos(0.5*np.pi*ts)**2)\n",
    "    \n",
    "    tp_infinites = []\n",
    "    for i in range(len(tp_dsdt)):\n",
    "        if tp_dsdt[i] == np.inf:\n",
    "            tp_infinites.append(i)\n",
    "    \n",
    "    return (tp_dsdt, tp_dtds, tp_infinites)\n",
    "    \n",
    "def get_time_parameterisation_log(ts):\n",
    "    tp_dsdt = 1/( (1+ ts)*np.log(2))\n",
    "    tp_dtds = 1/ tp_dsdt\n",
    "    \n",
    "    tp_infinites = []\n",
    "    for i in range(len(tp_dsdt)):\n",
    "        if tp_dsdt[i] == np.inf:\n",
    "            tp_infinites.append(i)\n",
    "            \n",
    "    return (tp_dsdt, tp_dtds, tp_infinites)\n",
    "\n",
    "def get_time_parameterisation_log2(ts):\n",
    "    tp_dsdt = 2 / (1 - ts**2)\n",
    "    tp_dtds = 1 / tp_dsdt\n",
    "    \n",
    "    tp_infinites = []\n",
    "    for i in range(len(tp_dsdt)):\n",
    "        if tp_dsdt[i] == np.inf:\n",
    "            tp_infinites.append(i)\n",
    "\n",
    "    return (tp_dsdt, tp_dtds, tp_infinites)\n",
    "    \n",
    "def get_time_parameterisation_log3(ts):\n",
    "    def f_dsdt(t):\n",
    "        d = 0\n",
    "        if np.log(1-t)<0:\n",
    "            d += 1/(1-t)\n",
    "        if np.log(1+t)<0:\n",
    "            d += 1/(1+t)\n",
    "        return d\n",
    "\n",
    "    tp_dsdt = np.array(list(map(f_dsdt, ts)))\n",
    "    tp_dtds = 1 / tp_dsdt\n",
    "    \n",
    "    tp_infinites = []\n",
    "    for i in range(len(tp_dsdt)):\n",
    "        if tp_dsdt[i] == np.inf:\n",
    "            tp_infinites.append(i)\n",
    "            \n",
    "    return (tp_dsdt, tp_dtds, tp_infinites)\n",
    "    \n",
    "def get_time_parameterisation_arctanh(ts):\n",
    "    tp_dsdt = 1/(1-ts**2)\n",
    "    tp_dtds = (1-ts**2)\n",
    "    \n",
    "    tp_infinites = []\n",
    "    for i in range(len(tp_dsdt)):\n",
    "        if tp_dsdt[i] == np.inf:\n",
    "            tp_infinites.append(i)\n",
    "            \n",
    "    return (tp_dsdt, tp_dtds, tp_infinites)\n",
    "\n",
    "def get_time_parameterisation_fpol(ts):\n",
    "    tp_dsdt = 2*(1 + ts**2) / ( ts**2 - 1 )**2\n",
    "    tp_dtds = 1/ tp_dsdt\n",
    "    \n",
    "    tp_infinites = []\n",
    "    for i in range(len(tp_dsdt)):\n",
    "        if tp_dsdt[i] == np.inf:\n",
    "            tp_infinites.append(i)\n",
    "    \n",
    "    return (tp_dsdt, tp_dtds, tp_infinites)"
   ]
  },
  {
   "cell_type": "markdown",
   "metadata": {},
   "source": [
    "## System"
   ]
  },
  {
   "cell_type": "markdown",
   "metadata": {},
   "source": [
    "### Parameters"
   ]
  },
  {
   "cell_type": "markdown",
   "metadata": {},
   "source": [
    "System parameters are defined here. All system parameter variables are prefaced with \"m_\", with the exception of `dim` which is the dimension of the system."
   ]
  },
  {
   "cell_type": "code",
   "execution_count": null,
   "metadata": {},
   "outputs": [],
   "source": [
    "dim = 2\n",
    "\n",
    "m_a1 = 156\n",
    "m_a2 = 30\n",
    "m_tau = 1\n",
    "m_rtau = 1/m_tau\n",
    "m_K1 = 1\n",
    "m_K2 = 1\n",
    "m_rK1 = 1/m_K1\n",
    "m_rK2 = 1/m_K2\n",
    "m_n = 3\n",
    "m_m = 1"
   ]
  },
  {
   "cell_type": "markdown",
   "metadata": {},
   "source": [
    "### Dynamics\n",
    "\n",
    "`system_a` is the drift term of the system. It's used for plotting stream-plots, as well as finding fixed points of the deterministic system.\n",
    "\n",
    "`lagrangian` is the Lagrangian of the system. The Lagrangian used is the time-reparameterised Freidlin-Wentzell action, described above."
   ]
  },
  {
   "cell_type": "markdown",
   "metadata": {},
   "source": [
    "#### Notes on the Genetic Switch system\n",
    "\n",
    "Let $(\\nabla a)_{ij} = \\frac{\\partial a_i}{\\partial x_j}$, where $x = (u, v)$, then\n",
    "\n",
    "$$\n",
    "\\nabla a = \\begin{pmatrix}\n",
    "    -\\frac{1}{\\tau} & - \\frac{ m a_2 \\left(\\frac{x}{K_1}\\right)^m }{x \\left(1 + \\left(\\frac{x}{K_1}\\right)^m \\right)^2} \\\\\n",
    "    - \\frac{ n a_1 \\left(\\frac{y}{K_2}\\right)^n }{y \\left(1 + \\left(\\frac{y}{K_2}\\right)^n \\right)^2} & -\\frac{1}{\\tau}\n",
    "\\end{pmatrix}\n",
    "$$"
   ]
  },
  {
   "cell_type": "code",
   "execution_count": null,
   "metadata": {},
   "outputs": [],
   "source": [
    "def system_a(x, y):\n",
    "    return np.array([m_a1/(1 + np.power(( y * m_rK2 ), m_n)) - x * m_rtau,\n",
    "                     m_a2/(1 + np.power(( x * m_rK1 ), m_m)) - y * m_rtau])\n",
    "\n",
    "def lagrangian(ls, dxls, dvls, fvals, ts, args):\n",
    "    compute_gradient, tp_dsdt, tp_dtds, tp_infinites = args\n",
    "    \n",
    "    xs, dxs = fvals\n",
    "\n",
    "    a_s = np.array( [m_a1/(1 + np.power(( xs[:, 1] * m_rK2 ), m_n)) - xs[:, 0] * m_rtau,\n",
    "                 m_a2/(1 + np.power(( xs[:, 0] * m_rK1 ), m_m)) - xs[:, 1] * m_rtau] )\n",
    "    \n",
    "    ls[:] = 0.5*tp_dsdt * (  ( tp_dtds*dxs[:, 0] - a_s[0,:] )**2 + ( tp_dtds*dxs[:, 1] - a_s[1,:] )**2  )\n",
    "    \n",
    "    for i in tp_infinites:\n",
    "        ls[i] = 0\n",
    "    \n",
    "    # Compute gradient\n",
    "    \n",
    "    if compute_gradient:\n",
    "        ## Compute dL/dx\n",
    "\n",
    "        da = np.zeros( (dim, dim, dxls.shape[0]) )\n",
    "        da[0,0, :] = da[1,1, :] = -m_rtau\n",
    "        da[0,1, :] = - (m_m*m_a2*np.power( xs[:,0] * m_rK1, m_m ))/( xs[:,0]*(( 1 + np.power(xs[:,0]*m_rK1,m_m) )**2))\n",
    "        da[1,0, :] = - (m_n*m_a1*np.power( xs[:,1] * m_rK2, m_n ))/( xs[:,1]*(( 1 + np.power(xs[:,1]*m_rK2,m_n) )**2))\n",
    "\n",
    "        for i in range(len(ts)):\n",
    "            dxls[i, :] = -da[:, :, i].dot(-tp_dsdt[i]*a_s[:, i] + dxs[i, :])\n",
    "            \n",
    "        for i in tp_infinites:\n",
    "            dxls[i, :] = 0\n",
    "\n",
    "        ## Compute dL/dv\n",
    "        \n",
    "        dvls[:] = -a_s[:, :].T + (tp_dtds*dxs.T).T"
   ]
  },
  {
   "cell_type": "markdown",
   "metadata": {},
   "source": [
    "### Find fixed points of the system"
   ]
  },
  {
   "cell_type": "code",
   "execution_count": null,
   "metadata": {},
   "outputs": [],
   "source": [
    "from scipy.optimize import root\n",
    "\n",
    "e_xa = root(lambda x : system_a(x[0], x[1]), np.array([20, 2])).x\n",
    "e_xb = root(lambda x : system_a(x[0], x[1]), np.array([160, 0.2])).x\n",
    "e_xs = root(lambda x : system_a(x[0], x[1]), np.array([10, 10])).x\n",
    "e_xu = root(lambda x : system_a(x[0], x[1]), np.array([20, 50])).x\n",
    "\n",
    "print(e_xa, e_xb, e_xs, e_xu)"
   ]
  },
  {
   "cell_type": "markdown",
   "metadata": {},
   "source": [
    "## Optimisation"
   ]
  },
  {
   "cell_type": "markdown",
   "metadata": {},
   "source": [
    "### Gradient-free optimisation"
   ]
  },
  {
   "cell_type": "code",
   "execution_count": null,
   "metadata": {},
   "outputs": [],
   "source": [
    "x_start = e_xb\n",
    "x_end = e_xa#np.array([40, 2])#np.array([80, 1.5])\n",
    "\n",
    "Nm = 10\n",
    "Nq = Nm*10\n",
    "\n",
    "m0 = pyritz.funcs.CollocationFF.get_straight_line_path(x_start, x_end, Nm,\n",
    "                                    exclude_start_point=True, exclude_end_point=True)\n",
    "\n",
    "ff = pyritz.funcs.CollocationFF(Nm, dim, derivatives=1,\n",
    "                               fixed_start_point=x_start,\n",
    "                               fixed_end_point=x_end)\n",
    "\n",
    "quad_scheme = pyritz.quads.Q_clenshaw_curtis\n",
    "qts, _ = quad_scheme(Nq)\n",
    "tp_dsdt, tp_dtds, tp_infinites = get_time_parameterisation_log2(qts)\n",
    "\n",
    "compute_gradient = False\n",
    "act = pyritz.Action(dim, ff, lagrangian, Nq, quad_scheme,\n",
    "                    lagrangian_args=(compute_gradient, tp_dsdt, tp_dtds, tp_infinites))\n",
    "\n",
    "def get_action(m, grad):\n",
    "    return act.compute(m)\n",
    "\n",
    "opt = nlopt.opt(nlopt.LN_NEWUOA, np.size(m0))\n",
    "opt.set_min_objective(get_action)\n",
    "opt.set_maxeval(2000)\n",
    "m = opt.optimize(m0)\n",
    "\n",
    "print(act.compute(m0))\n",
    "print(act.compute(m))"
   ]
  },
  {
   "cell_type": "markdown",
   "metadata": {},
   "source": [
    "#### Instanton plot"
   ]
  },
  {
   "cell_type": "code",
   "execution_count": null,
   "metadata": {},
   "outputs": [],
   "source": [
    "ts = np.linspace(-1, 1, 1000)\n",
    "\n",
    "paths = [\n",
    "    (m0, \"Initial\"),\n",
    "    (m, \"Final\")\n",
    "]\n",
    "\n",
    "for p in paths:\n",
    "    _m, _mlabel = p\n",
    "    xs, vs = ff.evaluate(_m, ts)\n",
    "    plt.plot(xs[:,0], xs[:,1], label=_mlabel)\n",
    "\n",
    "X, Y = np.meshgrid(np.linspace(0, 160, 100), np.linspace(0, 3, 100))\n",
    "vx,vy=system_a(X,Y); vx=vx; vy=vy\n",
    "plt.streamplot(X,Y, vx, vy, density=1.2, linewidth=.6, color='gray');\n",
    "plt.xlim(0, 160)\n",
    "plt.ylim(0, 3)\n",
    "plt.legend()\n",
    "\n",
    "fig = mpl.pyplot.gcf()\n",
    "fig.set_size_inches(7, 6)"
   ]
  },
  {
   "cell_type": "markdown",
   "metadata": {},
   "source": [
    "### Gradient optimisation"
   ]
  },
  {
   "cell_type": "code",
   "execution_count": null,
   "metadata": {},
   "outputs": [],
   "source": [
    "x_start = e_xb\n",
    "x_end = e_xa\n",
    "\n",
    "Nm = 10\n",
    "Nq = Nm*10\n",
    "\n",
    "m0 = pyritz.funcs.CollocationFF.get_straight_line_path(x_start, x_end, Nm,\n",
    "                                    exclude_start_point=True, exclude_end_point=True)\n",
    "\n",
    "ff = pyritz.funcs.CollocationFF(Nm, dim, derivatives=1,\n",
    "                               fixed_start_point=x_start,\n",
    "                               fixed_end_point=x_end)\n",
    "\n",
    "quad_scheme = pyritz.quads.Q_clenshaw_curtis\n",
    "qts, _ = quad_scheme(Nq)\n",
    "tp_dsdt, tp_dtds, tp_infinites = get_time_parameterisation_log2(qts)\n",
    "\n",
    "compute_gradient = True\n",
    "act = pyritz.Action(dim, ff, lagrangian, Nq, quad_scheme,\n",
    "                    lagrangian_args=(compute_gradient, tp_dsdt, tp_dtds, tp_infinites))\n",
    "\n",
    "def get_action(m, grad):\n",
    "    return act.compute(m, grad)\n",
    "\n",
    "opt = nlopt.opt(nlopt.LD_MMA, np.size(m0))\n",
    "opt.set_min_objective(get_action)\n",
    "opt.set_maxeval(2000)\n",
    "m = opt.optimize(m0)\n",
    "\n",
    "print(act.compute(m0))\n",
    "print(act.compute(m))"
   ]
  },
  {
   "cell_type": "markdown",
   "metadata": {},
   "source": [
    "#### Instanton plot"
   ]
  },
  {
   "cell_type": "code",
   "execution_count": null,
   "metadata": {},
   "outputs": [],
   "source": [
    "ts = np.linspace(-1, 1, 1000)\n",
    "\n",
    "paths = [\n",
    "    (m0, \"Initial\"),\n",
    "    (m, \"Final\")\n",
    "]\n",
    "\n",
    "for p in paths:\n",
    "    _m, _mlabel = p\n",
    "    xs, vs = ff.evaluate(_m, ts)\n",
    "    plt.plot(xs[:,0], xs[:,1], label=_mlabel)\n",
    "\n",
    "X, Y = np.meshgrid(np.linspace(0, 160, 100), np.linspace(0, 3, 100))\n",
    "vx,vy=system_a(X,Y); vx=vx; vy=vy\n",
    "plt.streamplot(X,Y, vx, vy, density=1.2, linewidth=.6, color='gray');\n",
    "plt.xlim(0, 160)\n",
    "plt.ylim(0, 3)\n",
    "plt.legend()\n",
    "\n",
    "fig = mpl.pyplot.gcf()\n",
    "fig.set_size_inches(7, 6)"
   ]
  },
  {
   "cell_type": "markdown",
   "metadata": {},
   "source": [
    "### Gradient-free optimisation with caustics"
   ]
  },
  {
   "cell_type": "markdown",
   "metadata": {},
   "source": [
    "The non-linear parameterisation method requires the usage of caustics if we are to allow paths to cross fixed points. Each fixed point requires an additional caustic to be added."
   ]
  },
  {
   "cell_type": "markdown",
   "metadata": {},
   "source": [
    "The below cell sets up the usage of caustics in Pyritz. This is accomplished by creating a new `Action` object for each segment of the path (split up by the caustic points)."
   ]
  },
  {
   "cell_type": "code",
   "execution_count": null,
   "metadata": {},
   "outputs": [],
   "source": [
    "caustics = 1\n",
    "total_paths = caustics+1\n",
    "paths = [] # Stores path segments\n",
    "paths_Nm = np.array([16, 16])\n",
    "paths_Nq = paths_Nm*8\n",
    "\n",
    "x_start = e_xa\n",
    "x_end = e_xb\n",
    "\n",
    "def ensure_path_continuity(m):\n",
    "    for i in range(total_paths):\n",
    "        if i == 0:\n",
    "            paths[i][2].get_function_family().set_fixed_start_point(x_start)\n",
    "        else:\n",
    "            paths[i][2].get_function_family().set_fixed_start_point(last_path_end)\n",
    "            \n",
    "        if i == total_paths-1:\n",
    "            paths[i][2].get_function_family().set_fixed_end_point(x_end)\n",
    "            \n",
    "        Nm = paths_Nm[i]\n",
    "        p = m[paths[i][0]:paths[i][1]]\n",
    "        p_size = int(p.size/dim)\n",
    "        last_path_end = p[ [p_size-1,2*p_size-1] ]\n",
    "        \n",
    "m0 = np.array([])\n",
    "        \n",
    "# Create an `Action` for each path segment.\n",
    "pindex = 0\n",
    "for i in range(total_paths):\n",
    "    Nm = paths_Nm[i]\n",
    "    m_size = Nm\n",
    "    Nq = paths_Nq[i]\n",
    "    \n",
    "    path_start = x_start + i*(x_end - x_start)/(total_paths)\n",
    "    path_end = x_start + (i+1)*(x_end - x_start)/(total_paths)\n",
    "\n",
    "    exclude_start_point = True\n",
    "    exclude_end_point = False\n",
    "    \n",
    "    if i == total_paths-1:\n",
    "        exclude_end_point = True\n",
    "        \n",
    "    if exclude_start_point:\n",
    "        m_size -= 1\n",
    "    if exclude_end_point:\n",
    "        m_size -= 1\n",
    "        \n",
    "    path_m0 = pyritz.funcs.CollocationFF.get_straight_line_path(path_start, path_end, Nm, exclude_start_point=exclude_start_point, exclude_end_point=exclude_end_point)\n",
    "    m0 = np.concatenate( (m0, path_m0) )\n",
    "        \n",
    "    quad_scheme = pyritz.quads.Q_clenshaw_curtis\n",
    "    ff = pyritz.funcs.CollocationFF(Nm, dim)\n",
    "    qts, _ = quad_scheme(Nq)\n",
    "    tp_dsdt, tp_dtds, tp_infinites = get_time_parameterisation_arctanh(qts)\n",
    "    \n",
    "    compute_gradient = False\n",
    "    act = pyritz.Action(dim, ff, lagrangian, Nq, quad_scheme, lagrangian_args=(compute_gradient, tp_dsdt, tp_dtds, tp_infinites))\n",
    "\n",
    "    paths.append( (pindex, pindex+dim*m_size, act) )\n",
    "    pindex += dim*m_size"
   ]
  },
  {
   "cell_type": "code",
   "execution_count": null,
   "metadata": {},
   "outputs": [],
   "source": [
    "def compute_action(m, grad):\n",
    "    S = 0\n",
    "    \n",
    "    ensure_path_continuity(m)\n",
    "    \n",
    "    for i in range(caustics+1):\n",
    "        m_start, m_end, act = paths[i]\n",
    "        m_path = m[m_start:m_end]\n",
    "        S += act.compute(m_path)\n",
    "    \n",
    "    return S\n",
    "\n",
    "opt = nlopt.opt(nlopt.LN_NEWUOA, np.size(m0))\n",
    "opt.set_min_objective(compute_action)\n",
    "opt.set_xtol_rel(1e-12)\n",
    "m = opt.optimize(m0)\n",
    "\n",
    "print(compute_action(m0, None))\n",
    "print(compute_action(m, None))"
   ]
  },
  {
   "cell_type": "markdown",
   "metadata": {},
   "source": [
    "#### Instanton plot"
   ]
  },
  {
   "cell_type": "code",
   "execution_count": null,
   "metadata": {},
   "outputs": [],
   "source": [
    "# Splice together the individual paths\n",
    "\n",
    "ts = np.linspace(-1, 1, 1000)\n",
    "\n",
    "for i in range(total_paths):\n",
    "    m_start, m_end, act = paths[i]\n",
    "    m_path = m[m_start:m_end]\n",
    "    ff = act.get_function_family()\n",
    "    xs, _ = ff.evaluate(m_path, ts)\n",
    "    plt.plot(xs[:, 0], xs[:, 1])\n",
    "    \n",
    "X, Y = np.meshgrid(np.linspace(-1.2,1.2,64), np.linspace(-0.4,.4,64))\n",
    "vx,vy=system_a(X,Y); vx=vx/np.sqrt(vx**2+vy**2); vy=vy/np.sqrt(vx**2+vy**2)\n",
    "plt.streamplot(X,Y, vx, vy, density=1.7, linewidth=.6, color='gray');\n",
    "\n",
    "fig = mpl.pyplot.gcf()\n",
    "fig.set_size_inches(7, 7)"
   ]
  }
 ],
 "metadata": {
  "kernelspec": {
   "display_name": "Python 3",
   "language": "python",
   "name": "python3"
  },
  "language_info": {
   "codemirror_mode": {
    "name": "ipython",
    "version": 3
   },
   "file_extension": ".py",
   "mimetype": "text/x-python",
   "name": "python",
   "nbconvert_exporter": "python",
   "pygments_lexer": "ipython3",
   "version": "3.7.0"
  }
 },
 "nbformat": 4,
 "nbformat_minor": 2
}
