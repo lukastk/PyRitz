{
 "cells": [
  {
   "cell_type": "markdown",
   "metadata": {},
   "source": [
    "# Computing the instanton of the Maier-Stein system"
   ]
  },
  {
   "cell_type": "markdown",
   "metadata": {},
   "source": [
    "Ref: *R. S. Maier and D. L. Stein, Journal of Statistical Physics 83, 291 (1996)*"
   ]
  },
  {
   "cell_type": "markdown",
   "metadata": {},
   "source": [
    "## Import statements"
   ]
  },
  {
   "cell_type": "code",
   "execution_count": 1,
   "metadata": {},
   "outputs": [],
   "source": [
    "# Modify path environment variables to search for the local Pyritz and NLopt installations in the repository.\n",
    "\n",
    "import os, sys\n",
    "\n",
    "pyritz_dir = \"/\".join(os.getcwd().split(\"/\")[:-1])\n",
    "nlopt_lib_dir = \"%s/nlopt/lib\" % pyritz_dir\n",
    "nlopt_py_dir = \"%s/nlopt/nlopt_py\" % pyritz_dir\n",
    "\n",
    "if \"LD_LIBRARY_PATH\" in os.environ:\n",
    "    paths = os.environ[\"LD_LIBRARY_PATH\"].split(\":\")\n",
    "    paths.append(nlopt_lib_dir)\n",
    "    os.environ[\"LD_LIBRARY_PATH\"] = \":\".join(paths)\n",
    "else:\n",
    "    os.environ[\"LD_LIBRARY_PATH\"] = \":%s\" % nlopt_lib_dir\n",
    "    \n",
    "sys.path.insert(0, nlopt_py_dir)\n",
    "sys.path.insert(0, pyritz_dir)\n",
    "\n",
    "# Import statements\n",
    "\n",
    "import pyritz\n",
    "\n",
    "import numpy as np\n",
    "import matplotlib.pyplot as plt\n",
    "import matplotlib as mpl\n",
    "import nlopt"
   ]
  },
  {
   "cell_type": "markdown",
   "metadata": {},
   "source": [
    "## Define system"
   ]
  },
  {
   "cell_type": "markdown",
   "metadata": {},
   "source": [
    "#### System:\n",
    "\n",
    "$$\n",
    "dX = a(X)dt + \\sqrt{\\epsilon} dW.\n",
    "$$\n",
    "\n",
    "where\n",
    "\n",
    "$$\n",
    "a(x_1, x_2) =\n",
    "\\begin{pmatrix}\n",
    "x_1 - x_1^3 - \\beta x_1 x_2^2 \\\\\n",
    "-(1 + x_1^2) x_2\n",
    "\\end{pmatrix}\n",
    "$$\n",
    "\n",
    "and\n",
    "\n",
    "$$\n",
    "\\nabla a = \\begin{pmatrix}\n",
    "    1 - 3 x_1^2 - \\beta x_2^2 &  -2 x_1 x_2 \\\\\n",
    "    - 2 \\beta x_1 x_2 & - (1 + x_1^2)\n",
    "\\end{pmatrix}\n",
    "$$\n",
    "\n",
    "where $(\\nabla a)_{ij} = \\frac{\\partial a_i}{\\partial x_j}$.\n",
    "\n",
    "#### Lagrangian:\n",
    "\n",
    "$$\n",
    "L(x, x') = |x'| |a(x)| - x' \\cdot a(x)\n",
    "$$\n",
    "\n",
    "#### Derivatives of the Lagrangian:\n",
    "\n",
    "$$\n",
    "\\begin{aligned}\n",
    "\\frac{\\partial L}{\\partial x_i} & = \\sum_{j=1}^{\\text{dim}} \\left[ \\nabla_i a_j( x ) \\cdot \\left( |\\dot x| \\hat{a}_j(x) - \\dot x_j \\right) \\right] \\\\\n",
    "\\frac{\\partial L}{\\partial x'_i} & = |a(x)| \\hat{x}'_i - a_i(x)\n",
    "\\end{aligned}\n",
    "$$"
   ]
  },
  {
   "cell_type": "code",
   "execution_count": null,
   "metadata": {},
   "outputs": [],
   "source": [
    "# System parameters\n",
    "\n",
    "m_beta = 10\n",
    "\n",
    "# Fixed points\n",
    "\n",
    "e_xa = np.array([-1, 0])\n",
    "e_xb = np.array([1,  0])\n",
    "e_xs = np.array([0,  0])\n",
    "\n",
    "# System Lagrangian\n",
    "\n",
    "def system_a(xs):\n",
    "    x1, x2 = xs\n",
    "    return np.array([x1 - np.power(x1, 3) - m_beta * x1 * np.power(x2, 2), -(1 + np.power(x1, 2))*x2])\n",
    "\n",
    "def lagrangian(ls, dxls, dvls, path, us, args):\n",
    "    xs, vs = path\n",
    "    \n",
    "    sas = system_a(xs)\n",
    "    v_norms = np.linalg.norm(vs, axis=0)\n",
    "    sa_norms = np.linalg.norm(sas, axis=0)\n",
    "    vs_dot_sas = np.einsum(\"ij,ij->j\", vs, sas)\n",
    "    \n",
    "    ls[:] = v_norms * sa_norms - vs_dot_sas\n",
    "    \n",
    "    if not dxls is None:\n",
    "\n",
    "        ## Compute dL/dx\n",
    "\n",
    "        da = np.array([\n",
    "            [1 - 3*xs[0,:]**2 - m_beta*xs[1,:]**2,     -2*xs[0,:]*xs[1,:]],\n",
    "            [-2*m_beta*xs[0,:]*xs[1,:],                -(1+xs[0,:]**2)]\n",
    "        ])\n",
    "\n",
    "        f = np.where(sa_norms!=0)\n",
    "        sa_units = np.zeros(sas.shape)\n",
    "        sa_units[:, f] = sas[:, f]/sa_norms[f]\n",
    "\n",
    "        dxls[:] = np.einsum(\"jki,ki->ji\", da, v_norms*sa_units - vs)\n",
    "\n",
    "        ## Compute dL/dv\n",
    "\n",
    "        f = np.where(v_norms!=0)\n",
    "        avs = np.zeros(vs.shape)\n",
    "        avs[:, f] = vs[:, f]*sa_norms[f]/v_norms[f]\n",
    "\n",
    "        dvls[:] = avs - sas"
   ]
  },
  {
   "cell_type": "markdown",
   "metadata": {},
   "source": [
    "## Computing the instanton"
   ]
  },
  {
   "cell_type": "markdown",
   "metadata": {},
   "source": [
    "### Gradient-based optimisation"
   ]
  },
  {
   "cell_type": "code",
   "execution_count": null,
   "metadata": {},
   "outputs": [],
   "source": [
    "x1 = e_xa\n",
    "x2 = e_xb\n",
    "\n",
    "n = 8\n",
    "nq = n*10\n",
    "\n",
    "action = pyritz.interpolation.Action(lagrangian, n, nq, x1, x2)\n",
    "alpha0 = pyritz.interpolation.utils.linear_path(x1, x2, n)\n",
    "alpha0 += np.random.random(len(alpha0))*0.1 # Add random noise to the initial path\n",
    "\n",
    "opt = nlopt.opt(nlopt.LD_SLSQP, np.size(alpha0))\n",
    "opt.set_min_objective(action.compute)\n",
    "opt.set_xtol_rel(1e-16)\n",
    "alpha = opt.optimize(alpha0)\n",
    "\n",
    "print(\"S[alpha0] = %s\" % action.compute(alpha0))\n",
    "print(\"S[alpha]  = %s\" % action.compute(alpha))"
   ]
  },
  {
   "cell_type": "markdown",
   "metadata": {},
   "source": [
    "#### Instanton plot"
   ]
  },
  {
   "cell_type": "code",
   "execution_count": null,
   "metadata": {},
   "outputs": [],
   "source": [
    "us = np.linspace(-1, 1, 1000)\n",
    "\n",
    "paths = [\n",
    "    (action.get_alpha_with_endpoints(alpha0), \"Initial\"),\n",
    "    (action.get_alpha_with_endpoints(alpha), \"Final\")\n",
    "]\n",
    "\n",
    "for _alpha, _label in paths:\n",
    "    xs = pyritz.interpolation.utils.interpolate(_alpha, n, us)\n",
    "    plt.plot(xs[0,:], xs[1,:], label=_label)\n",
    "\n",
    "X, Y = np.meshgrid(np.linspace(-1.2,1.2,64), np.linspace(-0.4,.4,64))\n",
    "sax,say=system_a([X,Y]); sax=sax/np.sqrt(sax**2+say**2); say=say/np.sqrt(sax**2+say**2)\n",
    "plt.streamplot(X,Y, sax, say, density=1.7, linewidth=.6, color='gray');\n",
    "plt.legend()\n",
    "\n",
    "fig = mpl.pyplot.gcf()\n",
    "fig.set_size_inches(7, 7)"
   ]
  },
  {
   "cell_type": "markdown",
   "metadata": {},
   "source": [
    "### Gradient-free optimisation"
   ]
  },
  {
   "cell_type": "code",
   "execution_count": null,
   "metadata": {},
   "outputs": [],
   "source": [
    "x1 = e_xa\n",
    "x2 = e_xb\n",
    "\n",
    "n = 8\n",
    "nq = n*10\n",
    "\n",
    "action = pyritz.interpolation.Action(lagrangian, n, nq, x1, x2)\n",
    "alpha0 = pyritz.interpolation.utils.linear_path(x1, x2, n)\n",
    "alpha0 += np.random.random(len(alpha0))*0.1 # Add random noise to the initial path\n",
    "\n",
    "opt = nlopt.opt(nlopt.LN_NEWUOA, np.size(alpha0))\n",
    "opt.set_min_objective(action.compute)\n",
    "opt.set_xtol_rel(1e-16)\n",
    "alpha = opt.optimize(alpha0)\n",
    "\n",
    "print(\"S[alpha0] = %s\" % action.compute(alpha0))\n",
    "print(\"S[alpha]  = %s\" % action.compute(alpha))"
   ]
  },
  {
   "cell_type": "markdown",
   "metadata": {},
   "source": [
    "#### Instanton plot"
   ]
  },
  {
   "cell_type": "code",
   "execution_count": null,
   "metadata": {},
   "outputs": [],
   "source": [
    "us = np.linspace(-1, 1, 1000)\n",
    "\n",
    "paths = [\n",
    "    (action.get_alpha_with_endpoints(alpha0), \"Initial\"),\n",
    "    (action.get_alpha_with_endpoints(alpha), \"Final\")\n",
    "]\n",
    "\n",
    "for _alpha, _label in paths:\n",
    "    xs = pyritz.interpolation.utils.interpolate(_alpha, n, us)\n",
    "    plt.plot(xs[0,:], xs[1,:], label=_label)\n",
    "\n",
    "X, Y = np.meshgrid(np.linspace(-1.2,1.2,64), np.linspace(-0.4,.4,64))\n",
    "sax,say=system_a([X,Y]); sax=sax/np.sqrt(sax**2+say**2); say=say/np.sqrt(sax**2+say**2)\n",
    "plt.streamplot(X,Y, sax, say, density=1.7, linewidth=.6, color='gray');\n",
    "plt.legend()\n",
    "\n",
    "fig = mpl.pyplot.gcf()\n",
    "fig.set_size_inches(7, 7)"
   ]
  }
 ],
 "metadata": {
  "kernelspec": {
   "display_name": "Python 3",
   "language": "python",
   "name": "python3"
  },
  "language_info": {
   "codemirror_mode": {
    "name": "ipython",
    "version": 3
   },
   "file_extension": ".py",
   "mimetype": "text/x-python",
   "name": "python",
   "nbconvert_exporter": "python",
   "pygments_lexer": "ipython3",
   "version": "3.7.3"
  }
 },
 "nbformat": 4,
 "nbformat_minor": 2
}
